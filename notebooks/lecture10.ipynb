{
 "cells": [
  {
   "cell_type": "markdown",
   "metadata": {},
   "source": [
    "# Lecture 10 時系列分析\n",
    "\n",
    "- 「データサイエンス教本：橋本」とは少し、式の形とかアプローチが異なることに注意\n",
    "  "
   ]
  },
  {
   "cell_type": "code",
   "execution_count": null,
   "metadata": {},
   "outputs": [],
   "source": [
    "%matplotlib inline\n",
    "import numpy as np\n",
    "import matplotlib.pyplot as plt\n",
    "import pandas as pd\n",
    "\n",
    "import io\n",
    "import requests\n",
    "import statsmodels.api as sm\n"
   ]
  },
  {
   "cell_type": "markdown",
   "metadata": {},
   "source": [
    "## 対数差分変換\n",
    "\n",
    "金融の分野では、元の価格推移のデータを対数変換したのち差分変換する対数差分変換がしばしば行われ、変化後のデータは「対数収益率」とよばれます。 対数収益率を用いることには、「100円の銘柄が1円値上がりする」ことと「1000円の銘柄が1円値上がりする」ことの不平等さを解消できることなど、様々なメリットがあります。"
   ]
  },
  {
   "cell_type": "code",
   "execution_count": null,
   "metadata": {},
   "outputs": [],
   "source": [
    "\n",
    "# 月ごとの飛行機の乗客数データ\n",
    "url = \"https://www.analyticsvidhya.com/wp-content/uploads/2016/02/AirPassengers.csv\"\n",
    "stream = requests.get(url).content\n",
    "df = pd.read_csv(io.StringIO(stream.decode('utf-8')))\n",
    "df.head()"
   ]
  },
  {
   "cell_type": "code",
   "execution_count": null,
   "metadata": {},
   "outputs": [],
   "source": [
    "df.plot()"
   ]
  },
  {
   "cell_type": "markdown",
   "metadata": {},
   "source": [
    "##### 差分変換\n",
    "\n",
    "差分変換についてですが、pandasのdiff()メソッドを使うことができます。 引数periodsは差分を取るラグを表しています。 実行結果を見ると、AirPassengersのトレンドは除去され、平均に関する非定常性を解消できたことが伺えます。"
   ]
  },
  {
   "cell_type": "code",
   "execution_count": null,
   "metadata": {},
   "outputs": [],
   "source": [
    "Passengers_diff = df[\"#Passengers\"].diff(periods = 1)\n",
    "Passengers_diff.plot()"
   ]
  },
  {
   "cell_type": "markdown",
   "metadata": {},
   "source": [
    "##### 対数変換\n",
    "次に対数変換を行ってみましょう。 対数をとるには数値計算モジュールnumpyのlog()を使います。 なお、対数の底はネイピア数e です。 対数変換後の図ともとの図を見比べると、トレンドに比例したバラツキの増加が解消されたことがわかります。"
   ]
  },
  {
   "cell_type": "code",
   "execution_count": null,
   "metadata": {},
   "outputs": [],
   "source": [
    "Passengers_log = np.log(df[\"#Passengers\"])\n",
    "Passengers_log.head()"
   ]
  },
  {
   "cell_type": "code",
   "execution_count": null,
   "metadata": {},
   "outputs": [],
   "source": [
    "Passengers_log.plot()"
   ]
  },
  {
   "cell_type": "markdown",
   "metadata": {},
   "source": [
    "##### 対数変換と差分変換を組み合わせた対数差分\n",
    "対数変換と差分変換を組み合わせた対数差分の例を示します。 先ほど作成したPassengers_logを再利用し、差分をとってみましょう。 周期性が残っているものの、定常性の条件のうち、平均と分散に関するものが解消できたことが伺えます。"
   ]
  },
  {
   "cell_type": "code",
   "execution_count": null,
   "metadata": {},
   "outputs": [],
   "source": [
    "Passengers_log_diff = Passengers_log.diff(periods = 1)\n",
    "Passengers_log_diff.plot()"
   ]
  },
  {
   "cell_type": "markdown",
   "metadata": {},
   "source": [
    "##### 周期差分\n",
    "周期を取り除くために、Passengers_logに対しperiods = 12として季節差分を行ってみましょう。 季節周期がなくなり、前年差が残ったことになります。"
   ]
  },
  {
   "cell_type": "code",
   "execution_count": null,
   "metadata": {},
   "outputs": [],
   "source": [
    "Passengers_sdiff = Passengers_log.diff(periods = 12)\n",
    "Passengers_sdiff.plot()"
   ]
  },
  {
   "cell_type": "markdown",
   "metadata": {},
   "source": [
    "さらにもう一度ラグ1の差分をとると、見た目が大分定常らしくなりました"
   ]
  },
  {
   "cell_type": "code",
   "execution_count": null,
   "metadata": {},
   "outputs": [],
   "source": [
    "Passengers_sdiff2 = Passengers_sdiff.diff()\n",
    "Passengers_sdiff2.plot()"
   ]
  },
  {
   "cell_type": "markdown",
   "metadata": {},
   "source": [
    "## Time Series Data\n",
    "\n",
    "https://github.com/ritvikmath/Time-Series-Analysis/blob/master/Time%20Series%20Data.ipynb"
   ]
  },
  {
   "cell_type": "code",
   "execution_count": null,
   "metadata": {},
   "outputs": [],
   "source": [
    "import pandas as pd\n",
    "import numpy as np\n",
    "import matplotlib.pyplot as plt\n",
    "from pandas.plotting import register_matplotlib_converters\n",
    "from statsmodels.graphics.tsaplots import plot_acf, plot_pacf\n",
    "register_matplotlib_converters()"
   ]
  },
  {
   "cell_type": "markdown",
   "metadata": {},
   "source": [
    "Ice Cream Production Data"
   ]
  },
  {
   "cell_type": "code",
   "execution_count": null,
   "metadata": {},
   "outputs": [],
   "source": [
    "#read data\n",
    "df_ice_cream = pd.read_csv('data/ice_cream.csv')"
   ]
  },
  {
   "cell_type": "code",
   "execution_count": null,
   "metadata": {},
   "outputs": [],
   "source": [
    "df_ice_cream.head()"
   ]
  },
  {
   "cell_type": "markdown",
   "metadata": {},
   "source": [
    "コラム名を、わかりやすい名称に変更"
   ]
  },
  {
   "cell_type": "code",
   "execution_count": null,
   "metadata": {},
   "outputs": [],
   "source": [
    "#rename columns to something more understandable\n",
    "df_ice_cream.rename(columns={'DATE':'date', 'IPN31152N':'production'}, inplace=True)"
   ]
  },
  {
   "cell_type": "markdown",
   "metadata": {},
   "source": [
    "dataコラムを、datetime型に変換（スライスなどが簡単になる）"
   ]
  },
  {
   "cell_type": "code",
   "execution_count": null,
   "metadata": {},
   "outputs": [],
   "source": [
    "#convert date column to datetime type\n",
    "df_ice_cream['date'] = pd.to_datetime(df_ice_cream.date)"
   ]
  },
  {
   "cell_type": "markdown",
   "metadata": {},
   "source": [
    "dateをインデクスに設定"
   ]
  },
  {
   "cell_type": "code",
   "execution_count": null,
   "metadata": {},
   "outputs": [],
   "source": [
    "#set date as index\n",
    "df_ice_cream.set_index('date', inplace=True)"
   ]
  },
  {
   "cell_type": "markdown",
   "metadata": {},
   "source": [
    "datetime型を使った、スライスが可能になり、2010-1-1以降のデータを得る"
   ]
  },
  {
   "cell_type": "code",
   "execution_count": null,
   "metadata": {},
   "outputs": [],
   "source": [
    "#just get data from 2010 onwards\n",
    "start_date = pd.to_datetime('2010-01-01')\n",
    "df_ice_cream = df_ice_cream[start_date:]"
   ]
  },
  {
   "cell_type": "code",
   "execution_count": null,
   "metadata": {},
   "outputs": [],
   "source": [
    "#show result\n",
    "df_ice_cream.head()"
   ]
  },
  {
   "cell_type": "code",
   "execution_count": null,
   "metadata": {},
   "outputs": [],
   "source": [
    "\n",
    "plt.figure(figsize=(10,4))\n",
    "plt.plot(df_ice_cream.production)\n",
    "plt.title('Ice Cream Production over Time', fontsize=20)\n",
    "plt.ylabel('Production', fontsize=16)\n",
    "for year in range(2011,2021):\n",
    "    plt.axvline(pd.to_datetime(str(year)+'-01-01'), color='k', linestyle='--', alpha=0.2)"
   ]
  },
  {
   "cell_type": "markdown",
   "metadata": {},
   "source": [
    "### ACF\n",
    "ACFを測ってみる、長期の傾向を測る。"
   ]
  },
  {
   "cell_type": "code",
   "execution_count": null,
   "metadata": {},
   "outputs": [],
   "source": [
    "acf_plot = plot_acf(df_ice_cream.production, lags=100)"
   ]
  },
  {
   "cell_type": "markdown",
   "metadata": {},
   "source": [
    "長期の傾向が、減衰しているようなので、ここはARモデルを採用するほうがよさそうだ。\n",
    "Based on decaying ACF, we are likely dealing with an Auto Regressive process\n",
    "\n",
    "\n",
    "ではARのラグは何を指定すればよいのか？そこでPACFを検査する\n",
    "\n",
    "### PACF"
   ]
  },
  {
   "cell_type": "code",
   "execution_count": null,
   "metadata": {},
   "outputs": [],
   "source": [
    "pacf_plot = plot_pacf(df_ice_cream.production)"
   ]
  },
  {
   "cell_type": "markdown",
   "metadata": {},
   "source": [
    "PACFの結果から、モデルとしては、ARモデルで、ラグが lags=1,2,3,10,13 のモデルが良いと思われる。"
   ]
  },
  {
   "cell_type": "markdown",
   "metadata": {},
   "source": [
    "## 季節性分解\n",
    "季節性を分解してみましょう"
   ]
  },
  {
   "cell_type": "code",
   "execution_count": null,
   "metadata": {},
   "outputs": [],
   "source": [
    "%matplotlib inline\n",
    "import numpy as np\n",
    "import matplotlib.pyplot as plt\n",
    "import pandas as pd"
   ]
  },
  {
   "cell_type": "code",
   "execution_count": null,
   "metadata": {},
   "outputs": [],
   "source": [
    "import io\n",
    "import requests\n",
    "import statsmodels.api as sm\n",
    "\n",
    "# 月ごとの飛行機の乗客数データ\n",
    "url = \"https://www.analyticsvidhya.com/wp-content/uploads/2016/02/AirPassengers.csv\"\n",
    "stream = requests.get(url).content\n",
    "content = pd.read_csv(io.StringIO(stream.decode('utf-8')))\n",
    "passengers = content['#Passengers']"
   ]
  },
  {
   "cell_type": "code",
   "execution_count": null,
   "metadata": {},
   "outputs": [],
   "source": [
    "pd_content = content.copy()\n",
    "pd_content['Month'] = pd.to_datetime(pd_content['Month'], infer_datetime_format=True)\n",
    "pd_content.index = pd_content.Month"
   ]
  },
  {
   "cell_type": "code",
   "execution_count": null,
   "metadata": {},
   "outputs": [],
   "source": [
    "pd_content['#Passengers'].plot()"
   ]
  },
  {
   "cell_type": "code",
   "execution_count": null,
   "metadata": {},
   "outputs": [],
   "source": [
    "df_passenger = pd.DataFrame(content['#Passengers'].values.astype(int), \n",
    " #                           pd.DatetimeIndex(start='1949-01',\n",
    "                            pd.date_range(start='1949-01',\n",
    "                                             periods=len(content['#Passengers']), \n",
    "                                             freq='M'))"
   ]
  },
  {
   "cell_type": "code",
   "execution_count": null,
   "metadata": {},
   "outputs": [],
   "source": [
    "df_passenger.head()"
   ]
  },
  {
   "cell_type": "markdown",
   "metadata": {},
   "source": [
    "### 加法モデルに基づく季節性分解"
   ]
  },
  {
   "cell_type": "code",
   "execution_count": null,
   "metadata": {},
   "outputs": [],
   "source": [
    "#ts = sm.tsa.seasonal_decompose(df_passenger.values, freq=12)\n",
    "ts = sm.tsa.seasonal_decompose(df_passenger, model='additive',extrapolate_trend='freq')"
   ]
  },
  {
   "cell_type": "code",
   "execution_count": null,
   "metadata": {},
   "outputs": [],
   "source": [
    "ts.plot();"
   ]
  },
  {
   "cell_type": "code",
   "execution_count": null,
   "metadata": {},
   "outputs": [],
   "source": [
    "# 季節変動\n",
    "plt.plot(ts.seasonal)"
   ]
  },
  {
   "cell_type": "markdown",
   "metadata": {},
   "source": [
    "### 乗法モデルによる季節分解"
   ]
  },
  {
   "cell_type": "code",
   "execution_count": null,
   "metadata": {},
   "outputs": [],
   "source": [
    "ts2 = sm.tsa.seasonal_decompose(df_passenger, model='multiplicative',extrapolate_trend='freq')"
   ]
  },
  {
   "cell_type": "code",
   "execution_count": null,
   "metadata": {},
   "outputs": [],
   "source": [
    "ts2.plot();"
   ]
  },
  {
   "cell_type": "markdown",
   "metadata": {},
   "source": [
    "## 移動平均\n",
    "- 　データは以下から入手\n",
    "- https://www.mizuhobank.co.jp/market/index.html"
   ]
  },
  {
   "cell_type": "code",
   "execution_count": null,
   "metadata": {},
   "outputs": [],
   "source": [
    "%matplotlib inline\n",
    "import numpy as np\n",
    "import matplotlib.pyplot as plt\n",
    "import seaborn as sns\n",
    "import pandas as pd"
   ]
  },
  {
   "cell_type": "markdown",
   "metadata": {},
   "source": []
  },
  {
   "cell_type": "code",
   "execution_count": null,
   "metadata": {},
   "outputs": [],
   "source": [
    "# エクセル向けデータで文字コードshift-jis、最初の行は日本語のコラム名なので、飛ばして1行目の英語のコラム名から読む\n",
    "df_historical = pd.read_csv(\"data/m_quote.csv\",encoding=\"shift-jis\",header=1)\n",
    "df_historical.head()"
   ]
  },
  {
   "cell_type": "code",
   "execution_count": null,
   "metadata": {},
   "outputs": [],
   "source": [
    "df_historical.USD.plot()"
   ]
  },
  {
   "cell_type": "code",
   "execution_count": null,
   "metadata": {},
   "outputs": [],
   "source": [
    "df_historical.USD.plot()\n",
    "df_historical.USD.rolling(window=24).mean().plot(style='--')\n",
    "df_historical.USD.rolling(48).mean().plot(style=':')"
   ]
  },
  {
   "cell_type": "markdown",
   "metadata": {},
   "source": [
    "## 時間依存性の発見"
   ]
  },
  {
   "cell_type": "code",
   "execution_count": null,
   "metadata": {},
   "outputs": [],
   "source": [
    "%matplotlib inline\n",
    "import numpy as np\n",
    "import matplotlib.pyplot as plt\n",
    "import pandas as pd"
   ]
  },
  {
   "cell_type": "code",
   "execution_count": null,
   "metadata": {},
   "outputs": [],
   "source": [
    "import io\n",
    "import requests\n",
    "\n",
    "# 月ごとの飛行機の乗客数データ\n",
    "url = \"https://www.analyticsvidhya.com/wp-content/uploads/2016/02/AirPassengers.csv\"\n",
    "stream = requests.get(url).content\n",
    "content = pd.read_csv(io.StringIO(stream.decode('utf-8')))\n",
    "passengers = content['#Passengers']"
   ]
  },
  {
   "cell_type": "code",
   "execution_count": null,
   "metadata": {},
   "outputs": [],
   "source": [
    "import statsmodels.api as sm\n",
    "\n",
    "# 自己相関\n",
    "p_acf = sm.tsa.stattools.acf(passengers)\n",
    "\n",
    "# 偏自己相関\n",
    "p_pacf = sm.tsa.stattools.pacf(passengers, method='ols')\n",
    "p_acf, p_pacf"
   ]
  },
  {
   "cell_type": "code",
   "execution_count": null,
   "metadata": {},
   "outputs": [],
   "source": [
    "sm.graphics.tsa.plot_acf(passengers, lags=40);"
   ]
  },
  {
   "cell_type": "code",
   "execution_count": null,
   "metadata": {},
   "outputs": [],
   "source": [
    "sm.graphics.tsa.plot_pacf(passengers, lags=35);"
   ]
  },
  {
   "cell_type": "markdown",
   "metadata": {},
   "source": [
    "### 定常性、\n",
    "df_historical.USDをまた使います"
   ]
  },
  {
   "cell_type": "code",
   "execution_count": null,
   "metadata": {},
   "outputs": [],
   "source": [
    "df_historical.USD.plot()"
   ]
  },
  {
   "cell_type": "code",
   "execution_count": null,
   "metadata": {},
   "outputs": [],
   "source": [
    "df_logdiff_USD = (1 + df_historical.USD.pct_change()).apply(np.log)"
   ]
  },
  {
   "cell_type": "code",
   "execution_count": null,
   "metadata": {},
   "outputs": [],
   "source": [
    "df_historical.USD.div(df_historical.USD.shift(1)) - 1"
   ]
  },
  {
   "cell_type": "code",
   "execution_count": null,
   "metadata": {},
   "outputs": [],
   "source": [
    "df_historical.USD.pct_change()"
   ]
  },
  {
   "cell_type": "code",
   "execution_count": null,
   "metadata": {},
   "outputs": [],
   "source": [
    "df_logdiff_USD.plot()"
   ]
  },
  {
   "cell_type": "markdown",
   "metadata": {},
   "source": [
    "## ARモデル\n",
    "\n",
    " 出典：[島田]島田：時系列解析、共立出版"
   ]
  },
  {
   "cell_type": "markdown",
   "metadata": {},
   "source": [
    "2003年から2013年までの月ごとのアイスクリームの家庭平均消費額データを使う\n",
    "\n",
    "ARモデルは定常時系列d－多にした適用できないため、定常過程であるかを検定(ADF検定)しながら、階差をとりつつ、定常にした上でARによりモデル化する。"
   ]
  },
  {
   "cell_type": "code",
   "execution_count": null,
   "metadata": {},
   "outputs": [],
   "source": [
    "%matplotlib inline\n",
    "import numpy as np\n",
    "np.random.seed(555)\n",
    "import matplotlib.pyplot as plt\n",
    "import pandas as pd"
   ]
  },
  {
   "cell_type": "code",
   "execution_count": null,
   "metadata": {},
   "outputs": [],
   "source": [
    "from statsmodels.graphics import tsaplots\n",
    "from statsmodels.tsa import stattools\n",
    "from statsmodels.tsa import ar_model"
   ]
  },
  {
   "cell_type": "code",
   "execution_count": null,
   "metadata": {},
   "outputs": [],
   "source": [
    "# アイスクリーム消費データ\n",
    "df_ice = pd.read_csv('data/icecream2.csv')"
   ]
  },
  {
   "cell_type": "code",
   "execution_count": null,
   "metadata": {},
   "outputs": [],
   "source": [
    "# 月ごとの家庭平均消費額のみを抽出し\n",
    "# インデックスを2003年1月からの月ごとにする\n",
    "y = pd.Series(df_ice.expenditure_yen.values, \n",
    "              index=pd.date_range('2016-1', periods=len(df_ice), freq='M'))\n",
    "y.plot()"
   ]
  },
  {
   "cell_type": "markdown",
   "metadata": {},
   "source": [
    "ここで、adfuller()関数を使って、ADF検定を行う、\n",
    "\n",
    "regression=回帰モデルの定数とトレンドを指定する。\n",
    "- regression = 'c'    定数のみ\n",
    "- regression = 'ct'    定数とトレンド\n",
    "- regression = 'ctt'    定数と１次、２次のトレンド\n",
    "- regression = 'nt'    定数もトレンドもなし\n",
    "\n",
    "回帰モデルの設定の元、もっともPt値の低くなった組合せを返す。\n",
    "\n",
    "返り値：2番目がP値である。\n",
    "\n",
    "- adf\n",
    "  - ADF検定の統計量\n",
    "- pvalue\n",
    "  - 検定のP値\n",
    "- usedlag\n",
    "-   モデルに採用されたラグの値\n",
    "- nobs\n",
    "  - 回帰に使われたデータの個数\n",
    "- critical values\n",
    "  - 検定の1,5,10%点の値\n",
    "- icbest\n",
    "  - autolagがNoneでない場合、情報量の最大値を返す。\n",
    "- resstore\n",
    "  - 検定と回帰の結果のインスタンス"
   ]
  },
  {
   "cell_type": "code",
   "execution_count": null,
   "metadata": {},
   "outputs": [],
   "source": [
    "# トレンド項あり(2次まで)，定数項ありの場合\n",
    "ctt = stattools.adfuller(y[:50], regression=\"ctt\")\n",
    "# トレンド項あり(1次)，定数項ありの場合\n",
    "ct = stattools.adfuller(y[:50], regression=\"ct\")\n",
    "# トレンド項なし，定数項ありの場合\n",
    "c = stattools.adfuller(y[:50], regression=\"c\")\n",
    "# トレンド項なし，定数項なしの場合\n",
    "nc = stattools.adfuller(y[:50], regression=\"n\")\n",
    "print('ctt:')\n",
    "print(ctt)\n",
    "print('ct:')\n",
    "print(ct)\n",
    "print('c:')\n",
    "print(c)\n",
    "print('nc:')\n",
    "print(nc)"
   ]
  },
  {
   "cell_type": "markdown",
   "metadata": {},
   "source": [
    "いづれの場合もP値が高く、単位根過程であることが棄却された。\n",
    "\n",
    "帰無仮説（時系列は非定常である）が棄却できなかったということ。\n",
    "\n",
    "pandasのdiff()関数を使い、1次階差をとってみると、トレンドが消えたように見える\n",
    "\n",
    "diffをとると端にNAが生じるので、dropna()していることに注意。"
   ]
  },
  {
   "cell_type": "code",
   "execution_count": null,
   "metadata": {},
   "outputs": [],
   "source": [
    "y_diff = y.diff()[:50].dropna()\n",
    "y_diff.plot()"
   ]
  },
  {
   "cell_type": "markdown",
   "metadata": {},
   "source": [
    "で0タの数は減っている。"
   ]
  },
  {
   "cell_type": "code",
   "execution_count": null,
   "metadata": {},
   "outputs": [],
   "source": [
    "y_diff.count()"
   ]
  },
  {
   "cell_type": "markdown",
   "metadata": {},
   "source": [
    "再び単位根の検定を行う。"
   ]
  },
  {
   "cell_type": "code",
   "execution_count": null,
   "metadata": {},
   "outputs": [],
   "source": [
    "ctt = stattools.adfuller(y_diff, regression=\"ctt\")\n",
    "ct = stattools.adfuller(y_diff, regression=\"ct\")\n",
    "c = stattools.adfuller(y_diff, regression=\"c\")\n",
    "nc = stattools.adfuller(y_diff, regression=\"n\")\n",
    "print('ctt:')\n",
    "print(ctt)\n",
    "print('ct:')\n",
    "print(ct)\n",
    "print('c:')\n",
    "print(c)\n",
    "print('nc:')\n",
    "print(nc)"
   ]
  },
  {
   "cell_type": "markdown",
   "metadata": {},
   "source": [
    "どの回帰モデルをつかっても、P値が十分低い、つまり単位根があるといえる\n",
    "\n",
    "\n",
    "帰無仮説（時系列は非定常である）は棄却され、定常であるということ。"
   ]
  },
  {
   "cell_type": "code",
   "execution_count": null,
   "metadata": {},
   "outputs": [],
   "source": [
    "y_diff.plot()"
   ]
  },
  {
   "cell_type": "code",
   "execution_count": null,
   "metadata": {},
   "outputs": [],
   "source": [
    "# 偏自己相関\n",
    "tsaplots.plot_pacf(y_diff, lags=15);"
   ]
  },
  {
   "cell_type": "markdown",
   "metadata": {},
   "source": [
    "lagを11までときめて実行"
   ]
  },
  {
   "cell_type": "code",
   "execution_count": null,
   "metadata": {},
   "outputs": [],
   "source": [
    "model = ar_model.AutoReg(y_diff,lags=11)\n",
    "result=model.fit()\n",
    "print(result.summary())"
   ]
  },
  {
   "cell_type": "code",
   "execution_count": null,
   "metadata": {},
   "outputs": [],
   "source": [
    "result.params"
   ]
  },
  {
   "cell_type": "code",
   "execution_count": null,
   "metadata": {},
   "outputs": [],
   "source": [
    "res11= result.resid\n",
    "plt.bar(range(len(res11)),res11)"
   ]
  },
  {
   "cell_type": "code",
   "execution_count": null,
   "metadata": {},
   "outputs": [],
   "source": [
    "# 偏自己相関\n",
    "tsaplots.plot_pacf(res11, lags=12);"
   ]
  },
  {
   "cell_type": "code",
   "execution_count": null,
   "metadata": {},
   "outputs": [],
   "source": [
    "result.fittedvalues"
   ]
  },
  {
   "cell_type": "code",
   "execution_count": null,
   "metadata": {},
   "outputs": [],
   "source": [
    "y_pred=result.predict()"
   ]
  },
  {
   "cell_type": "code",
   "execution_count": null,
   "metadata": {},
   "outputs": [],
   "source": [
    "y_diff.plot()\n",
    "y_pred.plot()"
   ]
  },
  {
   "cell_type": "code",
   "execution_count": null,
   "metadata": {},
   "outputs": [],
   "source": [
    "#model = ar_model.AR(y_diff)\n",
    "for i in range(20):\n",
    "    results = ar_model.AutoReg(y_diff,lags=i+1).fit() \n",
    "    print('lag = ', i+1, 'aic : ', results.aic)"
   ]
  },
  {
   "cell_type": "code",
   "execution_count": null,
   "metadata": {},
   "outputs": [],
   "source": [
    "#model = ar_model.AutoReg(y_diff)\n",
    "#for i in range(20):\n",
    "#    results = model.fit(maxlag=i+1)\n",
    "#    print('lag = ', i+1, 'aic : ', results.aic)"
   ]
  },
  {
   "cell_type": "markdown",
   "metadata": {},
   "source": [
    "ここから、これを参考　https://note.com/yiida/n/n6210246ec5b0"
   ]
  },
  {
   "cell_type": "code",
   "execution_count": null,
   "metadata": {},
   "outputs": [],
   "source": [
    "# 次数の推定\n",
    "mod = ar_model.ar_select_order(y_diff, glob=True,maxlag=13)\n",
    "mod.ar_lags"
   ]
  },
  {
   "cell_type": "code",
   "execution_count": null,
   "metadata": {},
   "outputs": [],
   "source": [
    "# lags を 1 から 12 に変更\n",
    "ar_model_lag12 = ar_model.AutoReg(y_diff, lags=12)\n",
    "# モデルの当てはめ\n",
    "ar_model_lag12 = ar_model_lag12.fit()\n",
    "# 予測\n",
    "predict_lag12 = ar_model_lag12.predict()"
   ]
  },
  {
   "cell_type": "code",
   "execution_count": null,
   "metadata": {},
   "outputs": [],
   "source": [
    "y_diff.plot()\n",
    "predict_lag12.plot()"
   ]
  },
  {
   "cell_type": "markdown",
   "metadata": {},
   "source": [
    "## ARMAモデル"
   ]
  },
  {
   "cell_type": "code",
   "execution_count": null,
   "metadata": {},
   "outputs": [],
   "source": [
    "%matplotlib inline\n",
    "import numpy as np\n",
    "np.random.seed(555)\n",
    "import matplotlib.pyplot as plt\n",
    "import pandas as pd"
   ]
  },
  {
   "cell_type": "code",
   "execution_count": null,
   "metadata": {},
   "outputs": [],
   "source": [
    "from statsmodels.graphics import tsaplots\n",
    "from statsmodels.tsa import stattools\n",
    "from statsmodels.tsa.arima_model import ARMA\n",
    "import statsmodels.api as sm"
   ]
  },
  {
   "cell_type": "markdown",
   "metadata": {},
   "source": [
    "ここｋら、\n",
    "https://analytics-note.xyz/time-series/statsmodels-arma/"
   ]
  },
  {
   "cell_type": "code",
   "execution_count": null,
   "metadata": {},
   "outputs": [],
   "source": [
    "# 次数の推定\n",
    "print(sm.tsa.arma_order_select_ic(y_diff, max_ar=5, max_ma=5, ic='aic'))"
   ]
  },
  {
   "cell_type": "markdown",
   "metadata": {},
   "source": [
    "'aic_min_order': (4, 4)}　とでているのでARMA(4,4)でモデル化してみる\n",
    "\n",
    "注ここでは、ARIMA(4,0,4)で代替"
   ]
  },
  {
   "cell_type": "code",
   "execution_count": null,
   "metadata": {},
   "outputs": [],
   "source": [
    "# ARMAモデルの作成と推定\n",
    "arma_model = sm.tsa.ARIMA(y_diff, order=(4, 0,4))\n",
    "result = arma_model.fit()"
   ]
  },
  {
   "cell_type": "code",
   "execution_count": null,
   "metadata": {},
   "outputs": [],
   "source": [
    "#結果の表示\n",
    "print(result.summary())"
   ]
  },
  {
   "cell_type": "markdown",
   "metadata": {},
   "source": []
  },
  {
   "cell_type": "code",
   "execution_count": null,
   "metadata": {},
   "outputs": [],
   "source": [
    "y_pred=result.predict()\n",
    "y_diff.plot()\n",
    "y_pred.plot()"
   ]
  },
  {
   "cell_type": "markdown",
   "metadata": {},
   "source": [
    "なんとなく季節性に弱い感じです。"
   ]
  },
  {
   "cell_type": "markdown",
   "metadata": {},
   "source": [
    "## ホワイトノイズ"
   ]
  },
  {
   "cell_type": "code",
   "execution_count": null,
   "metadata": {},
   "outputs": [],
   "source": [
    "randvals = np.random.randn(1000)\n",
    "pd.Series(randvals).plot(title='Random White Noise', color='k')"
   ]
  },
  {
   "cell_type": "code",
   "execution_count": null,
   "metadata": {},
   "outputs": [],
   "source": [
    "# Declare\n",
    "white_noise = np.random.randn(1000)\n",
    "\n",
    "# Plot\n",
    "plt.title('White Noise Plot', size=20)\n",
    "plt.plot(np.arange(len(white_noise)), white_noise);"
   ]
  },
  {
   "cell_type": "code",
   "execution_count": null,
   "metadata": {},
   "outputs": [],
   "source": [
    "# Split into an arbitraty number of chunks\n",
    "white_noise_chunks = np.split(white_noise, 20)\n",
    "means, stds = [], []\n",
    "\n",
    "# Get the mean and std values for every chunk\n",
    "for chunk in white_noise_chunks:\n",
    "    means.append(np.mean(chunk))\n",
    "    stds.append(np.std(chunk))\n",
    "    \n",
    "    \n",
    "# Plot\n",
    "plt.title('White Noise Mean and Standard Deviation Comparison', size=20)\n",
    "plt.plot(np.arange(len(means)), [white_noise.mean()] * len(means), label='Global mean', lw=1.5)\n",
    "plt.scatter(x=np.arange(len(means)), y=means, label='Mean', s=100)\n",
    "plt.plot(np.arange(len(stds)), [white_noise.std()] * len(stds), label='Global std', lw=1.5, color='orange')\n",
    "plt.scatter(x=np.arange(len(stds)), y=stds, label='STD', color='orange', s=100)\n",
    "plt.legend()"
   ]
  },
  {
   "cell_type": "code",
   "execution_count": null,
   "metadata": {},
   "outputs": [],
   "source": []
  },
  {
   "cell_type": "markdown",
   "metadata": {},
   "source": [
    "## ARIMAによる解析の例\n"
   ]
  },
  {
   "cell_type": "code",
   "execution_count": null,
   "metadata": {},
   "outputs": [],
   "source": [
    "from statsmodels.graphics import tsaplots\n",
    "from statsmodels.tsa import stattools\n",
    "#from statsmodels.tsa.arima_model import ARIMA\n",
    "from statsmodels.tsa.arima.model import ARIMA\n",
    "import statsmodels.api as sm\n"
   ]
  },
  {
   "cell_type": "code",
   "execution_count": null,
   "metadata": {},
   "outputs": [],
   "source": [
    "import requests\n",
    "import io\n",
    "\n",
    "# 月ごとの飛行機の乗客数データ\n",
    "url = \"https://www.analyticsvidhya.com/wp-content/uploads/2016/02/AirPassengers.csv\"\n",
    "stream = requests.get(url).content\n",
    "content = pd.read_csv(io.StringIO(stream.decode('utf-8')))"
   ]
  },
  {
   "cell_type": "code",
   "execution_count": null,
   "metadata": {},
   "outputs": [],
   "source": [
    "df_content = content.copy()\n",
    "df_content['Month'] = pd.to_datetime(df_content['Month'], \n",
    "                                     infer_datetime_format=True)\n",
    "y = pd.Series(df_content[\"#Passengers\"].values, index=df_content['Month'])\n",
    "y = y.astype('f')\n",
    "y.plot()"
   ]
  },
  {
   "cell_type": "code",
   "execution_count": null,
   "metadata": {},
   "outputs": [],
   "source": [
    "len(y)"
   ]
  },
  {
   "cell_type": "code",
   "execution_count": null,
   "metadata": {},
   "outputs": [],
   "source": [
    "# yは上のコードで取得した月ごとの旅客機の乗客数データ\n",
    "y120 = y[:120]"
   ]
  },
  {
   "cell_type": "code",
   "execution_count": null,
   "metadata": {},
   "outputs": [],
   "source": [
    "y120.values"
   ]
  },
  {
   "cell_type": "code",
   "execution_count": null,
   "metadata": {},
   "outputs": [],
   "source": [
    "# 階差をとらないモデル(p=3,d=0,q=2)\n",
    "model_d0 =sm.tsa.arima.ARIMA(y120.values, order=(3, 0, 2))\n",
    "results_d0 = model_d0.fit()\n",
    "res_d0 = results_d0.resid\n",
    "# 残差の出力\n",
    "plt.bar(range(len(res_d0[1:])), res_d0[1:])"
   ]
  },
  {
   "cell_type": "code",
   "execution_count": null,
   "metadata": {},
   "outputs": [],
   "source": [
    "len(res_d0[1:])"
   ]
  },
  {
   "cell_type": "code",
   "execution_count": null,
   "metadata": {},
   "outputs": [],
   "source": [
    "# 偏自己相関\n",
    "tsaplots.plot_pacf(res_d0[1:], lags=20);"
   ]
  },
  {
   "cell_type": "code",
   "execution_count": null,
   "metadata": {},
   "outputs": [],
   "source": [
    "# 将来予測\n",
    "# トレンドが捉えられていない\n",
    "# 循環変動も捉えられていない\n",
    "\n",
    "# 原系列の表示\n",
    "plt.plot(y.values, label='observation')\n",
    "# インサンプル（学習に使ったサンプルデータ）と\n",
    "# ARIMA(3, 0, 2)による予測値を含めた系列の表示\n",
    "# ARモデルの時とpredictの挙動が異なるので要注意\n",
    "plt.plot(results_d0.predict(1, len(y)), \n",
    "         '--', label='forecast')\n",
    "plt.legend()"
   ]
  },
  {
   "cell_type": "code",
   "execution_count": null,
   "metadata": {},
   "outputs": [],
   "source": [
    "# 階差をとらないモデル(p=4,d=1,q=1)\n",
    "model_d0 =sm.tsa.arima.ARIMA(y120.values, order=(4, 1, 1))\n",
    "results_d0 = model_d0.fit()\n",
    "res_d0 = results_d0.resid\n",
    "# 残差の出力\n",
    "plt.bar(range(len(res_d0[1:])), res_d0[1:])"
   ]
  },
  {
   "cell_type": "code",
   "execution_count": null,
   "metadata": {},
   "outputs": [],
   "source": [
    "# 偏自己相関\n",
    "tsaplots.plot_pacf(res_d0[1:], lags=28);"
   ]
  },
  {
   "cell_type": "code",
   "execution_count": null,
   "metadata": {},
   "outputs": [],
   "source": [
    "# 将来予測\n",
    "# トレンドが捉えられていない\n",
    "# 循環変動も捉えられていない\n",
    "\n",
    "# 原系列の表示\n",
    "plt.plot(y.values, label='observation')\n",
    "# インサンプル（学習に使ったサンプルデータ）と\n",
    "# ARIMA(3, 0, 2)による予測値を含めた系列の表示\n",
    "# ARモデルの時とpredictの挙動が異なるので要注意\n",
    "plt.plot(results_d0.predict(1, len(y)), \n",
    "         '--', label='forecast')\n",
    "plt.legend()"
   ]
  },
  {
   "cell_type": "markdown",
   "metadata": {},
   "source": [
    "## SARIMAX"
   ]
  },
  {
   "cell_type": "code",
   "execution_count": null,
   "metadata": {},
   "outputs": [],
   "source": [
    "from statsmodels.tsa.statespace.sarimax import SARIMAX\n",
    "p, d, q, sp, sd, sq = 2, 1, 2, 1, 1, 1\n",
    "seasonal = 12\n",
    "\n",
    "# SARIMAX(p=2,d=1,q=2; P=1,D=1,Q=1,s=12)モデルの当てはめ\n",
    "result = SARIMAX(\n",
    "    y120, order=(p,d,q), \n",
    "    seasonal_order=(sp,sd,sq,seasonal), \n",
    "    enforce_stationarity = False, \n",
    "    enforce_invertibility = False\n",
    ").fit()\n",
    "# 結果確認\n",
    "print(result.summary())"
   ]
  },
  {
   "cell_type": "code",
   "execution_count": null,
   "metadata": {},
   "outputs": [],
   "source": [
    "# 残差の抽出\n",
    "res = result.resid\n",
    "# 残差の出力\n",
    "plt.bar(range(len(res)), res)"
   ]
  },
  {
   "cell_type": "code",
   "execution_count": null,
   "metadata": {},
   "outputs": [],
   "source": [
    "# 偏自己相関\n",
    "tsaplots.plot_pacf(res, lags=29);\n",
    "# ランダムウォーク過程のため自己相関はないことが確認できた"
   ]
  },
  {
   "cell_type": "code",
   "execution_count": null,
   "metadata": {},
   "outputs": [],
   "source": [
    "# 将来予測\n",
    "plt.plot(y.values, label=\"observation\")\n",
    "plt.plot(np.hstack([y120[0], \n",
    "                    result.fittedvalues[1:], \n",
    "                    result.forecast(24)]), \n",
    "         '--', label=\"forecast\")"
   ]
  },
  {
   "cell_type": "markdown",
   "metadata": {},
   "source": [
    "### VARモデル\n",
    "\n",
    "2変量のVARモデルにしたがうデータから、Pythonを使ってモデルの係数を推定する方法を紹介します。\n",
    "答え合わせをしたいので、使うデータは特定のVARモデルから生成します。\n",
    "\n",
    "https://analytics-note.xyz/time-series/statsmodels-var-fit/"
   ]
  },
  {
   "cell_type": "markdown",
   "metadata": {},
   "source": [
    "$$\n",
    "\n",
    "\\left\\{\\begin{matrix}\\\n",
    "\n",
    "y_{1t} &=& 2+ 0.5 y_{1,t-1}+ 0.4 y_{2,t-1}+\\varepsilon_{1t},\\\\\\\n",
    "\n",
    "y_{2t} &=& -3 + 0.6 y_{1,t-1}+ 0.3 y_{2,t-1}+\\varepsilon_{2t}\\\n",
    "\n",
    "\\end{matrix}\\\n",
    "\n",
    "\\right.\\\n",
    "\n",
    "\\left(\\begin{matrix}\\varepsilon_{1t}\\\\\\varepsilon_{2t}\\end{matrix}\\right)\\sim W.N.(\\mathbf{\\Sigma})\n",
    "$$"
   ]
  },
  {
   "cell_type": "code",
   "execution_count": null,
   "metadata": {},
   "outputs": [],
   "source": [
    "import numpy as np\n",
    "import matplotlib.pyplot as plt\n",
    "\n",
    "mean = np.array([0, 0])\n",
    "cov = np.array([[4, 1.2], [1.2, 1]])\n",
    "\n",
    "# 少し長めの系列でデータを生成する。\n",
    "data = np.zeros([110, 2])\n",
    "epsilons = np.random.multivariate_normal(mean, cov, size=110)\n",
    "print(np.cov(epsilons, rowvar=False))\n",
    "\"\"\"\n",
    "[[3.96508657 1.1917421 ]\n",
    " [1.1917421  1.01758275]]\n",
    "\"\"\"\n",
    "\n",
    "for i in range(1, 110):\n",
    "    data[i, 0] = 2 + 0.5*data[i-1, 0] + 0.4*data[i-1, 1] + epsilons[i, 0]\n",
    "    data[i, 1] = -3 + 0.6*data[i-1, 0] + 0.3*data[i-1, 1] + epsilons[i, 1]\n",
    "\n",
    "# 初めの10項を切り捨てる\n",
    "data = data[10:]\n",
    "# data.shape == (100, 2)\n",
    "\n",
    "fig = plt.figure(figsize=(12, 5), facecolor=\"w\")\n",
    "ax = fig.add_subplot(111)\n",
    "ax.plot(data[:, 0], label=\"$y_1$\")\n",
    "ax.plot(data[:, 1], label=\"$y_2$\")\n",
    "ax.set_title(\"サンプルデータ\")\n",
    "plt.legend()\n",
    "plt.show()"
   ]
  },
  {
   "cell_type": "markdown",
   "metadata": {},
   "source": [
    "ここから、VARモデルに当てはめます。"
   ]
  },
  {
   "cell_type": "code",
   "execution_count": null,
   "metadata": {},
   "outputs": [],
   "source": [
    "data"
   ]
  },
  {
   "cell_type": "code",
   "execution_count": null,
   "metadata": {},
   "outputs": [],
   "source": [
    "from statsmodels.tsa.api import VAR\n",
    "model = VAR(data)\n",
    "result = model.fit(maxlags=1)\n",
    "result.summary()"
   ]
  },
  {
   "cell_type": "code",
   "execution_count": null,
   "metadata": {},
   "outputs": [],
   "source": [
    "result.params"
   ]
  },
  {
   "cell_type": "markdown",
   "metadata": {},
   "source": [
    "VARモデルに当てはめた結果\n",
    "\n",
    "$$\n",
    "\\left\\{\\begin{matrix}\\\n",
    "\n",
    "y_{1t} &=& 2.42+ 0.42 y_{1,t-1}+ 0.43 y_{2,t-1}\\\\\\\n",
    "\n",
    "y_{2t} &=& -3.01 + 0.61 y_{1,t-1}+ 0.31 y_{2,t-1}\\\n",
    "\n",
    "\\end{matrix}\\\n",
    "\n",
    "\\right.\\\n",
    "$$"
   ]
  },
  {
   "cell_type": "code",
   "execution_count": null,
   "metadata": {},
   "outputs": [],
   "source": []
  },
  {
   "cell_type": "code",
   "execution_count": null,
   "metadata": {},
   "outputs": [],
   "source": []
  }
 ],
 "metadata": {
  "interpreter": {
   "hash": "9650cb4e16cdd4a8e8e2d128bf38d875813998db22a3c986335f89e0cb4d7bb2"
  },
  "kernelspec": {
   "display_name": "Python 3.8.3 64-bit",
   "language": "python",
   "name": "python3"
  },
  "language_info": {
   "codemirror_mode": {
    "name": "ipython",
    "version": 3
   },
   "file_extension": ".py",
   "mimetype": "text/x-python",
   "name": "python",
   "nbconvert_exporter": "python",
   "pygments_lexer": "ipython3",
   "version": "3.8.3"
  },
  "orig_nbformat": 4
 },
 "nbformat": 4,
 "nbformat_minor": 2
}
