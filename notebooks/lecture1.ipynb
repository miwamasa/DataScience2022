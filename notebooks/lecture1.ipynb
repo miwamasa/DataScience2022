{
  "cells": [
    {
      "cell_type": "markdown",
      "metadata": {
        "id": "igAx8_3Gy5ZT"
      },
      "source": [
        "# Lecture1 はじめに\n",
        "ここでは、講義における、python実行環境について説明します\n",
        "- 実行形式：jupyter notebookを用いたpythonのインタラクティブな実行\n",
        "- 実行環境：google colabratoryを使い、所定のnotebookを自分のドライブにコピーして利用"
      ]
    },
    {
      "cell_type": "markdown",
      "metadata": {
        "id": "CUJf9P8_y5ZY"
      },
      "source": [
        "## pythonの実行環境の準備(google colab)\n",
        "\n",
        "このファイルを開いたら、ドライブにコピーを押すことにより、自分のgoogle colaboratry環境にnotebookがコピーされます\n",
        "<div>\n",
        "<img src=\"https://github.com/miwamasa/DataScience2022/blob/main/notebooks/figures/colab_drive_copy.png?raw=true\" width=\"500\"/>\n",
        "</div"
      ]
    },
    {
      "cell_type": "markdown",
      "metadata": {
        "id": "PKx_ait-y5ZZ"
      },
      "source": [
        "## notebookの使い方\n",
        "- .ipynbファイル、python noteboolファイルであることを表します。\n",
        "- notebook interfaceについて\n",
        "- cells\n",
        "  - コードcell: pythonコードを含むcell\n",
        "  - markdown cell(「テキスト」cell):マークダウン形式のテキスト入力cell\n",
        "  - cellへの入力後は、Ctr+enter にてこれを実行できる"
      ]
    },
    {
      "cell_type": "markdown",
      "source": [
        "## コードcellの使い方"
      ],
      "metadata": {
        "id": "MjoOe6NBD5c4"
      }
    },
    {
      "cell_type": "code",
      "execution_count": null,
      "metadata": {
        "colab": {
          "base_uri": "https://localhost:8080/"
        },
        "id": "Ep4zHTXYy5Zb",
        "outputId": "fcf99a01-f4cd-4d2b-c8ff-175b323d2217"
      },
      "outputs": [
        {
          "data": {
            "text/plain": [
              "1455"
            ]
          },
          "execution_count": 2,
          "metadata": {},
          "output_type": "execute_result"
        }
      ],
      "source": [
        "# コードcellでは、コメントは'#'から始まる行です\n",
        "# コードcellでは、pythonの実行環境がうごきます、Ctr+enterを押すか、左端に見えるプレイボタンを使うか\n",
        "1233+222"
      ]
    },
    {
      "cell_type": "markdown",
      "metadata": {
        "id": "8GQwzJkOy5Zd"
      },
      "source": [
        "### Python basics\n",
        "https://www.dataquest.io/blog/jupyter-notebook-tutorial/\n",
        "\n"
      ]
    },
    {
      "cell_type": "code",
      "execution_count": 37,
      "metadata": {
        "colab": {
          "base_uri": "https://localhost:8080/"
        },
        "id": "CMJrY0YSy5Ze",
        "outputId": "17720b61-5224-44ae-b878-e557c34c2384"
      },
      "outputs": [
        {
          "output_type": "stream",
          "name": "stdout",
          "text": [
            "Hello World!\n"
          ]
        }
      ],
      "source": [
        "# pythonの組み込み関数(print等)が直接使えます\n",
        "print('Hello World!')"
      ]
    },
    {
      "cell_type": "markdown",
      "metadata": {
        "id": "PyZkxm-Ey5Zf"
      },
      "source": [
        "#### いくつかの簡単な注意\n",
        "- インデント（空白やタブ）に注意"
      ]
    },
    {
      "cell_type": "code",
      "execution_count": 14,
      "metadata": {
        "colab": {
          "base_uri": "https://localhost:8080/"
        },
        "id": "x2j1fR1Xy5Zg",
        "outputId": "41d45c23-55b2-42b8-b6e7-741c25d7946e"
      },
      "outputs": [
        {
          "output_type": "stream",
          "name": "stdout",
          "text": [
            "0\n",
            "1\n",
            "2\n",
            "3\n"
          ]
        }
      ],
      "source": [
        "for i in range(4):\n",
        "  print(i)"
      ]
    },
    {
      "cell_type": "code",
      "execution_count": 15,
      "metadata": {
        "colab": {
          "base_uri": "https://localhost:8080/",
          "height": 35
        },
        "id": "fUyd11kGy5Zh",
        "outputId": "18b6d255-3e52-4b57-c3a0-300943ad6bd3"
      },
      "outputs": [
        {
          "output_type": "execute_result",
          "data": {
            "text/plain": [
              "'Hello, Tim!'"
            ],
            "application/vnd.google.colaboratory.intrinsic+json": {
              "type": "string"
            }
          },
          "metadata": {},
          "execution_count": 15
        }
      ],
      "source": [
        "def say_hello(recipient):\n",
        "    return 'Hello, {}!'.format(recipient)\n",
        "\n",
        "say_hello('Tim')"
      ]
    },
    {
      "cell_type": "markdown",
      "metadata": {
        "id": "o-RvCW2Ay5Zi"
      },
      "source": [
        "## Markdownの書き方\n",
        "- テキストcellにはmarkdown形式で入力することができます。\n",
        "- Colaboratoryを使っていると、テキストcellの上に、テキストフォーマットのメニューが出ます。これらを使ってmarkdown記法を試すことができます。（例：**太字**)"
      ]
    },
    {
      "cell_type": "markdown",
      "metadata": {
        "id": "JKCHsAtpy5Zj"
      },
      "source": [
        "# level 1 の見出しです\n",
        "\n",
        "## level 2 見出しです\n",
        "\n",
        "プレーン（普通の）テキストを入力することができます。 テキストに対して装飾 **太字** and __別の太字__, あるいは *italic* とか _italic_　とかを施せます \n",
        "\n",
        "パラグラフは、必ず「空行」で区切りをつけます。\n",
        "\n",
        "* リストは'*'を使います\n",
        " * インデント(空白を行頭に挟む）をつけると、階層リストになります。\n",
        "\n",
        "1. Lists can also be numbered. \n",
        "2. If we want an ordered list.\n",
        "\n",
        "[It is possible to include hyperlinks](https://www.example.com)\n",
        "\n",
        "Inline code uses single backticks: `foo()`, and code blocks use triple backticks: \n",
        "```\n",
        "bar()\n",
        "``` \n",
        "Or can be indented by 4 spaces: \n",
        "\n",
        "    foo()\n",
        "    \n",
        "And finally, adding images is easy: ![Alt text](https://www.example.com/image.jpg)"
      ]
    },
    {
      "cell_type": "markdown",
      "metadata": {
        "id": "KGYCop8wy5Zk"
      },
      "source": [
        "## Kernelとは\n",
        "Kernelは、notebookの背後にある、pythonスクリプトの評価エンジンです。１つのnotebook(.ipynbファイルの単位)で、変数へのデータ格納状況や、関数定義などを、記憶し、逐次的に（上のセルから下載せるに）\n",
        "\n",
        "\n",
        "### パッケージの導入\n",
        "pythonではnumpy(数値計算用),pandas(data処理用),scikitlern(機械学習用)などのパッケージを利用します。import文を用います。importできないときは、kernelで指定したpythonの実行環境にそのパッケージがインストールされていない可能性があります\n",
        "\n",
        "> pip install numpy"
      ]
    },
    {
      "cell_type": "markdown",
      "metadata": {
        "id": "zNaHnkUgy5Zk"
      },
      "source": [
        "numpy(数値計算用)を利用します。"
      ]
    },
    {
      "cell_type": "code",
      "execution_count": 16,
      "metadata": {
        "id": "LUyRCHJ6y5Zl"
      },
      "outputs": [],
      "source": [
        "import numpy as np\n",
        "def square(x):\n",
        "    return x * x"
      ]
    },
    {
      "cell_type": "code",
      "execution_count": 17,
      "metadata": {
        "colab": {
          "base_uri": "https://localhost:8080/"
        },
        "id": "xZv2sHdOy5Zl",
        "outputId": "a3f07ff0-c36d-4dfc-b320-e93e1d67d4c4"
      },
      "outputs": [
        {
          "output_type": "stream",
          "name": "stdout",
          "text": [
            "7 squared is 49\n"
          ]
        }
      ],
      "source": [
        "x = np.random.randint(1, 10)\n",
        "y = square(x)\n",
        "print('%d squared is %d' % (x, y))"
      ]
    },
    {
      "cell_type": "code",
      "execution_count": 18,
      "metadata": {
        "colab": {
          "base_uri": "https://localhost:8080/"
        },
        "id": "tAx5QZhay5Zm",
        "outputId": "1770cab7-a1db-4a96-9844-79144274d7ca"
      },
      "outputs": [
        {
          "output_type": "stream",
          "name": "stdout",
          "text": [
            "Is 7 squared 49?\n"
          ]
        }
      ],
      "source": [
        "print('Is %d squared %d?' % (x, y))"
      ]
    },
    {
      "cell_type": "code",
      "execution_count": 19,
      "metadata": {
        "colab": {
          "base_uri": "https://localhost:8080/"
        },
        "id": "7cvczkF3y5Zm",
        "outputId": "ab6566f2-66cf-429f-f4bb-11dcb9fa65d5"
      },
      "outputs": [
        {
          "output_type": "stream",
          "name": "stdout",
          "text": [
            "Is 7 squared is 10?\n"
          ]
        }
      ],
      "source": [
        "y = 10\n",
        "print('Is %d squared is %d?' % (x, y))"
      ]
    },
    {
      "cell_type": "markdown",
      "metadata": {
        "id": "UeD_O9J0y5Zn"
      },
      "source": [
        "## notebookを使ったデータ解析の例"
      ]
    },
    {
      "cell_type": "code",
      "execution_count": 20,
      "metadata": {
        "id": "dJARnNtzy5Zn"
      },
      "outputs": [],
      "source": [
        "%matplotlib inline\n",
        "import pandas as pd\n",
        "import matplotlib.pyplot as plt\n",
        "import seaborn as sns \n",
        "sns.set(style=\"darkgrid\")"
      ]
    },
    {
      "cell_type": "code",
      "execution_count": null,
      "metadata": {
        "id": "ztR1XO0Dy5Zn"
      },
      "outputs": [],
      "source": [
        "df = pd.read_csv('https://raw.githubusercontent.com/miwamasa/DataScience2022/main/notebooks/data/fortune500.csv')"
      ]
    },
    {
      "cell_type": "code",
      "execution_count": 21,
      "metadata": {
        "id": "Se3QrCJhy5Zo",
        "outputId": "d4aa7cd3-c52f-48bf-9d5b-9d5397d4a368",
        "colab": {
          "base_uri": "https://localhost:8080/",
          "height": 206
        }
      },
      "outputs": [
        {
          "output_type": "execute_result",
          "data": {
            "text/plain": [
              "   Year  Rank           Company  Revenue (in millions) Profit (in millions)\n",
              "0  1955     1    General Motors                 9823.5                  806\n",
              "1  1955     2       Exxon Mobil                 5661.4                584.8\n",
              "2  1955     3        U.S. Steel                 3250.4                195.4\n",
              "3  1955     4  General Electric                 2959.1                212.6\n",
              "4  1955     5            Esmark                 2510.8                 19.1"
            ],
            "text/html": [
              "\n",
              "  <div id=\"df-b4014ad3-00e2-4024-837b-8c1dca3624b2\">\n",
              "    <div class=\"colab-df-container\">\n",
              "      <div>\n",
              "<style scoped>\n",
              "    .dataframe tbody tr th:only-of-type {\n",
              "        vertical-align: middle;\n",
              "    }\n",
              "\n",
              "    .dataframe tbody tr th {\n",
              "        vertical-align: top;\n",
              "    }\n",
              "\n",
              "    .dataframe thead th {\n",
              "        text-align: right;\n",
              "    }\n",
              "</style>\n",
              "<table border=\"1\" class=\"dataframe\">\n",
              "  <thead>\n",
              "    <tr style=\"text-align: right;\">\n",
              "      <th></th>\n",
              "      <th>Year</th>\n",
              "      <th>Rank</th>\n",
              "      <th>Company</th>\n",
              "      <th>Revenue (in millions)</th>\n",
              "      <th>Profit (in millions)</th>\n",
              "    </tr>\n",
              "  </thead>\n",
              "  <tbody>\n",
              "    <tr>\n",
              "      <th>0</th>\n",
              "      <td>1955</td>\n",
              "      <td>1</td>\n",
              "      <td>General Motors</td>\n",
              "      <td>9823.5</td>\n",
              "      <td>806</td>\n",
              "    </tr>\n",
              "    <tr>\n",
              "      <th>1</th>\n",
              "      <td>1955</td>\n",
              "      <td>2</td>\n",
              "      <td>Exxon Mobil</td>\n",
              "      <td>5661.4</td>\n",
              "      <td>584.8</td>\n",
              "    </tr>\n",
              "    <tr>\n",
              "      <th>2</th>\n",
              "      <td>1955</td>\n",
              "      <td>3</td>\n",
              "      <td>U.S. Steel</td>\n",
              "      <td>3250.4</td>\n",
              "      <td>195.4</td>\n",
              "    </tr>\n",
              "    <tr>\n",
              "      <th>3</th>\n",
              "      <td>1955</td>\n",
              "      <td>4</td>\n",
              "      <td>General Electric</td>\n",
              "      <td>2959.1</td>\n",
              "      <td>212.6</td>\n",
              "    </tr>\n",
              "    <tr>\n",
              "      <th>4</th>\n",
              "      <td>1955</td>\n",
              "      <td>5</td>\n",
              "      <td>Esmark</td>\n",
              "      <td>2510.8</td>\n",
              "      <td>19.1</td>\n",
              "    </tr>\n",
              "  </tbody>\n",
              "</table>\n",
              "</div>\n",
              "      <button class=\"colab-df-convert\" onclick=\"convertToInteractive('df-b4014ad3-00e2-4024-837b-8c1dca3624b2')\"\n",
              "              title=\"Convert this dataframe to an interactive table.\"\n",
              "              style=\"display:none;\">\n",
              "        \n",
              "  <svg xmlns=\"http://www.w3.org/2000/svg\" height=\"24px\"viewBox=\"0 0 24 24\"\n",
              "       width=\"24px\">\n",
              "    <path d=\"M0 0h24v24H0V0z\" fill=\"none\"/>\n",
              "    <path d=\"M18.56 5.44l.94 2.06.94-2.06 2.06-.94-2.06-.94-.94-2.06-.94 2.06-2.06.94zm-11 1L8.5 8.5l.94-2.06 2.06-.94-2.06-.94L8.5 2.5l-.94 2.06-2.06.94zm10 10l.94 2.06.94-2.06 2.06-.94-2.06-.94-.94-2.06-.94 2.06-2.06.94z\"/><path d=\"M17.41 7.96l-1.37-1.37c-.4-.4-.92-.59-1.43-.59-.52 0-1.04.2-1.43.59L10.3 9.45l-7.72 7.72c-.78.78-.78 2.05 0 2.83L4 21.41c.39.39.9.59 1.41.59.51 0 1.02-.2 1.41-.59l7.78-7.78 2.81-2.81c.8-.78.8-2.07 0-2.86zM5.41 20L4 18.59l7.72-7.72 1.47 1.35L5.41 20z\"/>\n",
              "  </svg>\n",
              "      </button>\n",
              "      \n",
              "  <style>\n",
              "    .colab-df-container {\n",
              "      display:flex;\n",
              "      flex-wrap:wrap;\n",
              "      gap: 12px;\n",
              "    }\n",
              "\n",
              "    .colab-df-convert {\n",
              "      background-color: #E8F0FE;\n",
              "      border: none;\n",
              "      border-radius: 50%;\n",
              "      cursor: pointer;\n",
              "      display: none;\n",
              "      fill: #1967D2;\n",
              "      height: 32px;\n",
              "      padding: 0 0 0 0;\n",
              "      width: 32px;\n",
              "    }\n",
              "\n",
              "    .colab-df-convert:hover {\n",
              "      background-color: #E2EBFA;\n",
              "      box-shadow: 0px 1px 2px rgba(60, 64, 67, 0.3), 0px 1px 3px 1px rgba(60, 64, 67, 0.15);\n",
              "      fill: #174EA6;\n",
              "    }\n",
              "\n",
              "    [theme=dark] .colab-df-convert {\n",
              "      background-color: #3B4455;\n",
              "      fill: #D2E3FC;\n",
              "    }\n",
              "\n",
              "    [theme=dark] .colab-df-convert:hover {\n",
              "      background-color: #434B5C;\n",
              "      box-shadow: 0px 1px 3px 1px rgba(0, 0, 0, 0.15);\n",
              "      filter: drop-shadow(0px 1px 2px rgba(0, 0, 0, 0.3));\n",
              "      fill: #FFFFFF;\n",
              "    }\n",
              "  </style>\n",
              "\n",
              "      <script>\n",
              "        const buttonEl =\n",
              "          document.querySelector('#df-b4014ad3-00e2-4024-837b-8c1dca3624b2 button.colab-df-convert');\n",
              "        buttonEl.style.display =\n",
              "          google.colab.kernel.accessAllowed ? 'block' : 'none';\n",
              "\n",
              "        async function convertToInteractive(key) {\n",
              "          const element = document.querySelector('#df-b4014ad3-00e2-4024-837b-8c1dca3624b2');\n",
              "          const dataTable =\n",
              "            await google.colab.kernel.invokeFunction('convertToInteractive',\n",
              "                                                     [key], {});\n",
              "          if (!dataTable) return;\n",
              "\n",
              "          const docLinkHtml = 'Like what you see? Visit the ' +\n",
              "            '<a target=\"_blank\" href=https://colab.research.google.com/notebooks/data_table.ipynb>data table notebook</a>'\n",
              "            + ' to learn more about interactive tables.';\n",
              "          element.innerHTML = '';\n",
              "          dataTable['output_type'] = 'display_data';\n",
              "          await google.colab.output.renderOutput(dataTable, element);\n",
              "          const docLink = document.createElement('div');\n",
              "          docLink.innerHTML = docLinkHtml;\n",
              "          element.appendChild(docLink);\n",
              "        }\n",
              "      </script>\n",
              "    </div>\n",
              "  </div>\n",
              "  "
            ]
          },
          "metadata": {},
          "execution_count": 21
        }
      ],
      "source": [
        "df.head()"
      ]
    },
    {
      "cell_type": "code",
      "execution_count": 22,
      "metadata": {
        "id": "mBtsmwc7y5Zo",
        "outputId": "f9508155-b5cb-4f65-8b1f-fd7e9aebb175",
        "colab": {
          "base_uri": "https://localhost:8080/",
          "height": 206
        }
      },
      "outputs": [
        {
          "output_type": "execute_result",
          "data": {
            "text/plain": [
              "       Year  Rank                Company  Revenue (in millions)  \\\n",
              "25495  2005   496        Wm. Wrigley Jr.                 3648.6   \n",
              "25496  2005   497         Peabody Energy                 3631.6   \n",
              "25497  2005   498  Wendy's International                 3630.4   \n",
              "25498  2005   499     Kindred Healthcare                 3616.6   \n",
              "25499  2005   500   Cincinnati Financial                 3614.0   \n",
              "\n",
              "      Profit (in millions)  \n",
              "25495                  493  \n",
              "25496                175.4  \n",
              "25497                 57.8  \n",
              "25498                 70.6  \n",
              "25499                  584  "
            ],
            "text/html": [
              "\n",
              "  <div id=\"df-e95c98cb-917a-45f0-ab31-cb9c88d3ff67\">\n",
              "    <div class=\"colab-df-container\">\n",
              "      <div>\n",
              "<style scoped>\n",
              "    .dataframe tbody tr th:only-of-type {\n",
              "        vertical-align: middle;\n",
              "    }\n",
              "\n",
              "    .dataframe tbody tr th {\n",
              "        vertical-align: top;\n",
              "    }\n",
              "\n",
              "    .dataframe thead th {\n",
              "        text-align: right;\n",
              "    }\n",
              "</style>\n",
              "<table border=\"1\" class=\"dataframe\">\n",
              "  <thead>\n",
              "    <tr style=\"text-align: right;\">\n",
              "      <th></th>\n",
              "      <th>Year</th>\n",
              "      <th>Rank</th>\n",
              "      <th>Company</th>\n",
              "      <th>Revenue (in millions)</th>\n",
              "      <th>Profit (in millions)</th>\n",
              "    </tr>\n",
              "  </thead>\n",
              "  <tbody>\n",
              "    <tr>\n",
              "      <th>25495</th>\n",
              "      <td>2005</td>\n",
              "      <td>496</td>\n",
              "      <td>Wm. Wrigley Jr.</td>\n",
              "      <td>3648.6</td>\n",
              "      <td>493</td>\n",
              "    </tr>\n",
              "    <tr>\n",
              "      <th>25496</th>\n",
              "      <td>2005</td>\n",
              "      <td>497</td>\n",
              "      <td>Peabody Energy</td>\n",
              "      <td>3631.6</td>\n",
              "      <td>175.4</td>\n",
              "    </tr>\n",
              "    <tr>\n",
              "      <th>25497</th>\n",
              "      <td>2005</td>\n",
              "      <td>498</td>\n",
              "      <td>Wendy's International</td>\n",
              "      <td>3630.4</td>\n",
              "      <td>57.8</td>\n",
              "    </tr>\n",
              "    <tr>\n",
              "      <th>25498</th>\n",
              "      <td>2005</td>\n",
              "      <td>499</td>\n",
              "      <td>Kindred Healthcare</td>\n",
              "      <td>3616.6</td>\n",
              "      <td>70.6</td>\n",
              "    </tr>\n",
              "    <tr>\n",
              "      <th>25499</th>\n",
              "      <td>2005</td>\n",
              "      <td>500</td>\n",
              "      <td>Cincinnati Financial</td>\n",
              "      <td>3614.0</td>\n",
              "      <td>584</td>\n",
              "    </tr>\n",
              "  </tbody>\n",
              "</table>\n",
              "</div>\n",
              "      <button class=\"colab-df-convert\" onclick=\"convertToInteractive('df-e95c98cb-917a-45f0-ab31-cb9c88d3ff67')\"\n",
              "              title=\"Convert this dataframe to an interactive table.\"\n",
              "              style=\"display:none;\">\n",
              "        \n",
              "  <svg xmlns=\"http://www.w3.org/2000/svg\" height=\"24px\"viewBox=\"0 0 24 24\"\n",
              "       width=\"24px\">\n",
              "    <path d=\"M0 0h24v24H0V0z\" fill=\"none\"/>\n",
              "    <path d=\"M18.56 5.44l.94 2.06.94-2.06 2.06-.94-2.06-.94-.94-2.06-.94 2.06-2.06.94zm-11 1L8.5 8.5l.94-2.06 2.06-.94-2.06-.94L8.5 2.5l-.94 2.06-2.06.94zm10 10l.94 2.06.94-2.06 2.06-.94-2.06-.94-.94-2.06-.94 2.06-2.06.94z\"/><path d=\"M17.41 7.96l-1.37-1.37c-.4-.4-.92-.59-1.43-.59-.52 0-1.04.2-1.43.59L10.3 9.45l-7.72 7.72c-.78.78-.78 2.05 0 2.83L4 21.41c.39.39.9.59 1.41.59.51 0 1.02-.2 1.41-.59l7.78-7.78 2.81-2.81c.8-.78.8-2.07 0-2.86zM5.41 20L4 18.59l7.72-7.72 1.47 1.35L5.41 20z\"/>\n",
              "  </svg>\n",
              "      </button>\n",
              "      \n",
              "  <style>\n",
              "    .colab-df-container {\n",
              "      display:flex;\n",
              "      flex-wrap:wrap;\n",
              "      gap: 12px;\n",
              "    }\n",
              "\n",
              "    .colab-df-convert {\n",
              "      background-color: #E8F0FE;\n",
              "      border: none;\n",
              "      border-radius: 50%;\n",
              "      cursor: pointer;\n",
              "      display: none;\n",
              "      fill: #1967D2;\n",
              "      height: 32px;\n",
              "      padding: 0 0 0 0;\n",
              "      width: 32px;\n",
              "    }\n",
              "\n",
              "    .colab-df-convert:hover {\n",
              "      background-color: #E2EBFA;\n",
              "      box-shadow: 0px 1px 2px rgba(60, 64, 67, 0.3), 0px 1px 3px 1px rgba(60, 64, 67, 0.15);\n",
              "      fill: #174EA6;\n",
              "    }\n",
              "\n",
              "    [theme=dark] .colab-df-convert {\n",
              "      background-color: #3B4455;\n",
              "      fill: #D2E3FC;\n",
              "    }\n",
              "\n",
              "    [theme=dark] .colab-df-convert:hover {\n",
              "      background-color: #434B5C;\n",
              "      box-shadow: 0px 1px 3px 1px rgba(0, 0, 0, 0.15);\n",
              "      filter: drop-shadow(0px 1px 2px rgba(0, 0, 0, 0.3));\n",
              "      fill: #FFFFFF;\n",
              "    }\n",
              "  </style>\n",
              "\n",
              "      <script>\n",
              "        const buttonEl =\n",
              "          document.querySelector('#df-e95c98cb-917a-45f0-ab31-cb9c88d3ff67 button.colab-df-convert');\n",
              "        buttonEl.style.display =\n",
              "          google.colab.kernel.accessAllowed ? 'block' : 'none';\n",
              "\n",
              "        async function convertToInteractive(key) {\n",
              "          const element = document.querySelector('#df-e95c98cb-917a-45f0-ab31-cb9c88d3ff67');\n",
              "          const dataTable =\n",
              "            await google.colab.kernel.invokeFunction('convertToInteractive',\n",
              "                                                     [key], {});\n",
              "          if (!dataTable) return;\n",
              "\n",
              "          const docLinkHtml = 'Like what you see? Visit the ' +\n",
              "            '<a target=\"_blank\" href=https://colab.research.google.com/notebooks/data_table.ipynb>data table notebook</a>'\n",
              "            + ' to learn more about interactive tables.';\n",
              "          element.innerHTML = '';\n",
              "          dataTable['output_type'] = 'display_data';\n",
              "          await google.colab.output.renderOutput(dataTable, element);\n",
              "          const docLink = document.createElement('div');\n",
              "          docLink.innerHTML = docLinkHtml;\n",
              "          element.appendChild(docLink);\n",
              "        }\n",
              "      </script>\n",
              "    </div>\n",
              "  </div>\n",
              "  "
            ]
          },
          "metadata": {},
          "execution_count": 22
        }
      ],
      "source": [
        "df.tail()"
      ]
    },
    {
      "cell_type": "code",
      "execution_count": 23,
      "metadata": {
        "id": "PzlkgZNFy5Zo"
      },
      "outputs": [],
      "source": [
        "df.columns = ['year', 'rank', 'company', 'revenue', 'profit']"
      ]
    },
    {
      "cell_type": "code",
      "execution_count": 24,
      "metadata": {
        "id": "AK6NZWuly5Zp",
        "outputId": "769d0a6c-dd1d-48aa-e873-fce7998c5cfa",
        "colab": {
          "base_uri": "https://localhost:8080/"
        }
      },
      "outputs": [
        {
          "output_type": "execute_result",
          "data": {
            "text/plain": [
              "25500"
            ]
          },
          "metadata": {},
          "execution_count": 24
        }
      ],
      "source": [
        "len(df)"
      ]
    },
    {
      "cell_type": "code",
      "execution_count": 25,
      "metadata": {
        "id": "Z4YMYP88y5Zp",
        "outputId": "a9641e54-fd62-4405-c71c-1192e7f42e95",
        "colab": {
          "base_uri": "https://localhost:8080/"
        }
      },
      "outputs": [
        {
          "output_type": "execute_result",
          "data": {
            "text/plain": [
              "year         int64\n",
              "rank         int64\n",
              "company     object\n",
              "revenue    float64\n",
              "profit      object\n",
              "dtype: object"
            ]
          },
          "metadata": {},
          "execution_count": 25
        }
      ],
      "source": [
        "df.dtypes"
      ]
    },
    {
      "cell_type": "code",
      "execution_count": 26,
      "metadata": {
        "id": "YFWduu1jy5Zp",
        "outputId": "b2eaec6a-a79a-49ff-c83c-cb8d76908b8c",
        "colab": {
          "base_uri": "https://localhost:8080/",
          "height": 206
        }
      },
      "outputs": [
        {
          "output_type": "execute_result",
          "data": {
            "text/plain": [
              "     year  rank                company  revenue profit\n",
              "228  1955   229                 Norton    135.0   N.A.\n",
              "290  1955   291        Schlitz Brewing    100.0   N.A.\n",
              "294  1955   295  Pacific Vegetable Oil     97.9   N.A.\n",
              "296  1955   297     Liebmann Breweries     96.0   N.A.\n",
              "352  1955   353     Minneapolis-Moline     77.4   N.A."
            ],
            "text/html": [
              "\n",
              "  <div id=\"df-96dffac1-8b04-4167-9c5c-feb31bbafa4b\">\n",
              "    <div class=\"colab-df-container\">\n",
              "      <div>\n",
              "<style scoped>\n",
              "    .dataframe tbody tr th:only-of-type {\n",
              "        vertical-align: middle;\n",
              "    }\n",
              "\n",
              "    .dataframe tbody tr th {\n",
              "        vertical-align: top;\n",
              "    }\n",
              "\n",
              "    .dataframe thead th {\n",
              "        text-align: right;\n",
              "    }\n",
              "</style>\n",
              "<table border=\"1\" class=\"dataframe\">\n",
              "  <thead>\n",
              "    <tr style=\"text-align: right;\">\n",
              "      <th></th>\n",
              "      <th>year</th>\n",
              "      <th>rank</th>\n",
              "      <th>company</th>\n",
              "      <th>revenue</th>\n",
              "      <th>profit</th>\n",
              "    </tr>\n",
              "  </thead>\n",
              "  <tbody>\n",
              "    <tr>\n",
              "      <th>228</th>\n",
              "      <td>1955</td>\n",
              "      <td>229</td>\n",
              "      <td>Norton</td>\n",
              "      <td>135.0</td>\n",
              "      <td>N.A.</td>\n",
              "    </tr>\n",
              "    <tr>\n",
              "      <th>290</th>\n",
              "      <td>1955</td>\n",
              "      <td>291</td>\n",
              "      <td>Schlitz Brewing</td>\n",
              "      <td>100.0</td>\n",
              "      <td>N.A.</td>\n",
              "    </tr>\n",
              "    <tr>\n",
              "      <th>294</th>\n",
              "      <td>1955</td>\n",
              "      <td>295</td>\n",
              "      <td>Pacific Vegetable Oil</td>\n",
              "      <td>97.9</td>\n",
              "      <td>N.A.</td>\n",
              "    </tr>\n",
              "    <tr>\n",
              "      <th>296</th>\n",
              "      <td>1955</td>\n",
              "      <td>297</td>\n",
              "      <td>Liebmann Breweries</td>\n",
              "      <td>96.0</td>\n",
              "      <td>N.A.</td>\n",
              "    </tr>\n",
              "    <tr>\n",
              "      <th>352</th>\n",
              "      <td>1955</td>\n",
              "      <td>353</td>\n",
              "      <td>Minneapolis-Moline</td>\n",
              "      <td>77.4</td>\n",
              "      <td>N.A.</td>\n",
              "    </tr>\n",
              "  </tbody>\n",
              "</table>\n",
              "</div>\n",
              "      <button class=\"colab-df-convert\" onclick=\"convertToInteractive('df-96dffac1-8b04-4167-9c5c-feb31bbafa4b')\"\n",
              "              title=\"Convert this dataframe to an interactive table.\"\n",
              "              style=\"display:none;\">\n",
              "        \n",
              "  <svg xmlns=\"http://www.w3.org/2000/svg\" height=\"24px\"viewBox=\"0 0 24 24\"\n",
              "       width=\"24px\">\n",
              "    <path d=\"M0 0h24v24H0V0z\" fill=\"none\"/>\n",
              "    <path d=\"M18.56 5.44l.94 2.06.94-2.06 2.06-.94-2.06-.94-.94-2.06-.94 2.06-2.06.94zm-11 1L8.5 8.5l.94-2.06 2.06-.94-2.06-.94L8.5 2.5l-.94 2.06-2.06.94zm10 10l.94 2.06.94-2.06 2.06-.94-2.06-.94-.94-2.06-.94 2.06-2.06.94z\"/><path d=\"M17.41 7.96l-1.37-1.37c-.4-.4-.92-.59-1.43-.59-.52 0-1.04.2-1.43.59L10.3 9.45l-7.72 7.72c-.78.78-.78 2.05 0 2.83L4 21.41c.39.39.9.59 1.41.59.51 0 1.02-.2 1.41-.59l7.78-7.78 2.81-2.81c.8-.78.8-2.07 0-2.86zM5.41 20L4 18.59l7.72-7.72 1.47 1.35L5.41 20z\"/>\n",
              "  </svg>\n",
              "      </button>\n",
              "      \n",
              "  <style>\n",
              "    .colab-df-container {\n",
              "      display:flex;\n",
              "      flex-wrap:wrap;\n",
              "      gap: 12px;\n",
              "    }\n",
              "\n",
              "    .colab-df-convert {\n",
              "      background-color: #E8F0FE;\n",
              "      border: none;\n",
              "      border-radius: 50%;\n",
              "      cursor: pointer;\n",
              "      display: none;\n",
              "      fill: #1967D2;\n",
              "      height: 32px;\n",
              "      padding: 0 0 0 0;\n",
              "      width: 32px;\n",
              "    }\n",
              "\n",
              "    .colab-df-convert:hover {\n",
              "      background-color: #E2EBFA;\n",
              "      box-shadow: 0px 1px 2px rgba(60, 64, 67, 0.3), 0px 1px 3px 1px rgba(60, 64, 67, 0.15);\n",
              "      fill: #174EA6;\n",
              "    }\n",
              "\n",
              "    [theme=dark] .colab-df-convert {\n",
              "      background-color: #3B4455;\n",
              "      fill: #D2E3FC;\n",
              "    }\n",
              "\n",
              "    [theme=dark] .colab-df-convert:hover {\n",
              "      background-color: #434B5C;\n",
              "      box-shadow: 0px 1px 3px 1px rgba(0, 0, 0, 0.15);\n",
              "      filter: drop-shadow(0px 1px 2px rgba(0, 0, 0, 0.3));\n",
              "      fill: #FFFFFF;\n",
              "    }\n",
              "  </style>\n",
              "\n",
              "      <script>\n",
              "        const buttonEl =\n",
              "          document.querySelector('#df-96dffac1-8b04-4167-9c5c-feb31bbafa4b button.colab-df-convert');\n",
              "        buttonEl.style.display =\n",
              "          google.colab.kernel.accessAllowed ? 'block' : 'none';\n",
              "\n",
              "        async function convertToInteractive(key) {\n",
              "          const element = document.querySelector('#df-96dffac1-8b04-4167-9c5c-feb31bbafa4b');\n",
              "          const dataTable =\n",
              "            await google.colab.kernel.invokeFunction('convertToInteractive',\n",
              "                                                     [key], {});\n",
              "          if (!dataTable) return;\n",
              "\n",
              "          const docLinkHtml = 'Like what you see? Visit the ' +\n",
              "            '<a target=\"_blank\" href=https://colab.research.google.com/notebooks/data_table.ipynb>data table notebook</a>'\n",
              "            + ' to learn more about interactive tables.';\n",
              "          element.innerHTML = '';\n",
              "          dataTable['output_type'] = 'display_data';\n",
              "          await google.colab.output.renderOutput(dataTable, element);\n",
              "          const docLink = document.createElement('div');\n",
              "          docLink.innerHTML = docLinkHtml;\n",
              "          element.appendChild(docLink);\n",
              "        }\n",
              "      </script>\n",
              "    </div>\n",
              "  </div>\n",
              "  "
            ]
          },
          "metadata": {},
          "execution_count": 26
        }
      ],
      "source": [
        "non_numberic_profits = df.profit.str.contains('[^0-9.-]')\n",
        "df.loc[non_numberic_profits].head()"
      ]
    },
    {
      "cell_type": "code",
      "execution_count": 27,
      "metadata": {
        "id": "a8W1mbmzy5Zq",
        "outputId": "a82e5a82-a8ac-41ed-d633-300bd835c14f",
        "colab": {
          "base_uri": "https://localhost:8080/"
        }
      },
      "outputs": [
        {
          "output_type": "execute_result",
          "data": {
            "text/plain": [
              "{'N.A.'}"
            ]
          },
          "metadata": {},
          "execution_count": 27
        }
      ],
      "source": [
        "set(df.profit[non_numberic_profits])"
      ]
    },
    {
      "cell_type": "code",
      "execution_count": 28,
      "metadata": {
        "id": "AXT4cVA-y5Zq",
        "outputId": "66bba8d4-b656-4919-d72f-f8fdb69ec0f5",
        "colab": {
          "base_uri": "https://localhost:8080/"
        }
      },
      "outputs": [
        {
          "output_type": "execute_result",
          "data": {
            "text/plain": [
              "369"
            ]
          },
          "metadata": {},
          "execution_count": 28
        }
      ],
      "source": [
        "len(df.profit[non_numberic_profits])"
      ]
    },
    {
      "cell_type": "code",
      "execution_count": 29,
      "metadata": {
        "id": "8-Sdtcf_y5Zr",
        "outputId": "cbdc89d8-63e4-4a2d-cb15-b53e2863e31b",
        "colab": {
          "base_uri": "https://localhost:8080/",
          "height": 270
        }
      },
      "outputs": [
        {
          "output_type": "display_data",
          "data": {
            "text/plain": [
              "<Figure size 432x288 with 1 Axes>"
            ],
            "image/png": "[encoded data removed]"
          },
          "metadata": {}
        }
      ],
      "source": [
        "bin_sizes, _, _ = plt.hist(df.year[non_numberic_profits], bins=range(1955, 2006))"
      ]
    },
    {
      "cell_type": "code",
      "execution_count": 30,
      "metadata": {
        "id": "E1NXj8PNy5Zr"
      },
      "outputs": [],
      "source": [
        "df = df.loc[~non_numberic_profits]\n",
        "df.profit = df.profit.apply(pd.to_numeric)"
      ]
    },
    {
      "cell_type": "code",
      "execution_count": 31,
      "metadata": {
        "id": "F4RW8NbPy5Zr",
        "outputId": "25b38f29-596f-4d8e-df9a-d2a20455f5de",
        "colab": {
          "base_uri": "https://localhost:8080/"
        }
      },
      "outputs": [
        {
          "output_type": "execute_result",
          "data": {
            "text/plain": [
              "25131"
            ]
          },
          "metadata": {},
          "execution_count": 31
        }
      ],
      "source": [
        "len(df)"
      ]
    },
    {
      "cell_type": "code",
      "execution_count": 32,
      "metadata": {
        "id": "nUyqDt4Gy5Zr",
        "outputId": "eecbc687-2280-4a7f-9890-60431724e07a",
        "colab": {
          "base_uri": "https://localhost:8080/"
        }
      },
      "outputs": [
        {
          "output_type": "execute_result",
          "data": {
            "text/plain": [
              "year         int64\n",
              "rank         int64\n",
              "company     object\n",
              "revenue    float64\n",
              "profit     float64\n",
              "dtype: object"
            ]
          },
          "metadata": {},
          "execution_count": 32
        }
      ],
      "source": [
        "df.dtypes"
      ]
    },
    {
      "cell_type": "markdown",
      "metadata": {
        "id": "t9j7AbH6y5Zs"
      },
      "source": [
        "### Matplotlin"
      ]
    },
    {
      "cell_type": "code",
      "execution_count": 33,
      "metadata": {
        "id": "NODVY-P-y5Zs"
      },
      "outputs": [],
      "source": [
        "group_by_year = df.loc[:, ['year', 'revenue', 'profit']].groupby('year')\n",
        "avgs = group_by_year.mean()\n",
        "x = avgs.index\n",
        "y1 = avgs.profit\n",
        "def plot(x, y, ax, title, y_label):\n",
        "    ax.set_title(title)\n",
        "    ax.set_ylabel(y_label)\n",
        "    ax.plot(x, y)\n",
        "    ax.margins(x=0, y=0)"
      ]
    },
    {
      "cell_type": "code",
      "execution_count": 34,
      "metadata": {
        "id": "pk_xHp9by5Zu",
        "outputId": "7db989e2-8b3a-4726-9f09-cd37229e0246",
        "colab": {
          "base_uri": "https://localhost:8080/",
          "height": 284
        }
      },
      "outputs": [
        {
          "output_type": "display_data",
          "data": {
            "text/plain": [
              "<Figure size 432x288 with 1 Axes>"
            ],
            "image/png": "[encoded data removed]"
          },
          "metadata": {}
        }
      ],
      "source": [
        "fig, ax = plt.subplots()\n",
        "plot(x, y1, ax, 'Increase in mean Fortune 500 company profits from 1955 to 2005', 'Profit (millions)')"
      ]
    },
    {
      "cell_type": "code",
      "execution_count": 35,
      "metadata": {
        "id": "Aruazxtvy5Zv",
        "outputId": "1cd26d6f-2749-4680-fe6c-cc30b33bf4bf",
        "colab": {
          "base_uri": "https://localhost:8080/",
          "height": 284
        }
      },
      "outputs": [
        {
          "output_type": "display_data",
          "data": {
            "text/plain": [
              "<Figure size 432x288 with 1 Axes>"
            ],
            "image/png": "[encoded data removed]"
          },
          "metadata": {}
        }
      ],
      "source": [
        "y2 = avgs.revenue\n",
        "fig, ax = plt.subplots()\n",
        "plot(x, y2, ax, 'Increase in mean Fortune 500 company revenues from 1955 to 2005', 'Revenue (millions)')"
      ]
    },
    {
      "cell_type": "code",
      "execution_count": 36,
      "metadata": {
        "id": "yFgVi8x2y5Zv",
        "outputId": "2ebb9bb1-e517-4155-9eb7-49dcdf6e045d",
        "colab": {
          "base_uri": "https://localhost:8080/",
          "height": 275
        }
      },
      "outputs": [
        {
          "output_type": "display_data",
          "data": {
            "text/plain": [
              "<Figure size 1008x288 with 2 Axes>"
            ],
            "image/png": "[encoded data removed]"
          },
          "metadata": {}
        }
      ],
      "source": [
        "def plot_with_std(x, y, stds, ax, title, y_label):\n",
        "    ax.fill_between(x, y - stds, y + stds, alpha=0.2)\n",
        "    plot(x, y, ax, title, y_label)\n",
        "fig, (ax1, ax2) = plt.subplots(ncols=2)\n",
        "title = 'Increase in mean and std Fortune 500 company %s from 1955 to 2005'\n",
        "stds1 = group_by_year.std().profit.values\n",
        "stds2 = group_by_year.std().revenue.values\n",
        "plot_with_std(x, y1.values, stds1, ax1, title % 'profits', 'Profit (millions)')\n",
        "plot_with_std(x, y2.values, stds2, ax2, title % 'revenues', 'Revenue (millions)')\n",
        "fig.set_size_inches(14, 4)\n",
        "fig.tight_layout()"
      ]
    },
    {
      "cell_type": "code",
      "execution_count": null,
      "metadata": {
        "id": "PYc3UxKwy5Zv"
      },
      "outputs": [],
      "source": [
        ""
      ]
    }
  ],
  "metadata": {
    "colab": {
      "name": "lecture1.ipynb",
      "provenance": []
    },
    "interpreter": {
      "hash": "2db524e06e9f5f4ffedc911c917cb75e12dbc923643829bf417064a77eb14d37"
    },
    "kernelspec": {
      "display_name": "Python 3.8.3 64-bit",
      "name": "python3"
    },
    "language_info": {
      "codemirror_mode": {
        "name": "ipython",
        "version": 3
      },
      "file_extension": ".py",
      "mimetype": "text/x-python",
      "name": "python",
      "nbconvert_exporter": "python",
      "pygments_lexer": "ipython3",
      "version": "3.8.3"
    },
    "orig_nbformat": 4
  },
  "nbformat": 4,
  "nbformat_minor": 0
}