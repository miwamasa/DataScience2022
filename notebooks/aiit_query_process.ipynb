{
 "cells": [
  {
   "cell_type": "markdown",
   "metadata": {},
   "source": [
    "# Lecture 3 演習(アンケート結果の可視化)\n",
    "\n",
    "第１回講義にて、簡単なアンケートを取りました。教員は、この結果はエクセルとしてダウンロードできます。\n",
    "\n",
    "エクセル形式で保存されたアンケート結果を集計分析する例を、できるだけインタラクティブに再現してみました。"
   ]
  },
  {
   "cell_type": "markdown",
   "metadata": {},
   "source": [
    "## エクセルを読む\n",
    "最初にエクセル形式のファイル(ここでは*.xlsという古い形式のデータを読みます)\n",
    "\n",
    "ファイルはmanabaに掲載しますので、ダウンロードしてからCorab環境にuploadしてください。"
   ]
  },
  {
   "cell_type": "code",
   "execution_count": 6,
   "metadata": {},
   "outputs": [
    {
     "data": {
      "text/html": [
       "<div>\n",
       "<style scoped>\n",
       "    .dataframe tbody tr th:only-of-type {\n",
       "        vertical-align: middle;\n",
       "    }\n",
       "\n",
       "    .dataframe tbody tr th {\n",
       "        vertical-align: top;\n",
       "    }\n",
       "\n",
       "    .dataframe thead th {\n",
       "        text-align: right;\n",
       "    }\n",
       "</style>\n",
       "<table border=\"1\" class=\"dataframe\">\n",
       "  <thead>\n",
       "    <tr style=\"text-align: right;\">\n",
       "      <th></th>\n",
       "      <th>mailaddr</th>\n",
       "      <th>grade</th>\n",
       "      <th>symgrade</th>\n",
       "      <th>comment</th>\n",
       "      <th>Unnamed: 4</th>\n",
       "      <th>Unnamed: 5</th>\n",
       "      <th>Unnamed: 6</th>\n",
       "      <th>Unnamed: 7</th>\n",
       "      <th>Unnamed: 8</th>\n",
       "      <th>Unnamed: 9</th>\n",
       "      <th>Unnamed: 10</th>\n",
       "    </tr>\n",
       "  </thead>\n",
       "  <tbody>\n",
       "    <tr>\n",
       "      <th>0</th>\n",
       "      <td># メールアドレス</td>\n",
       "      <td># 合計点</td>\n",
       "      <td># 評価</td>\n",
       "      <td># 講評</td>\n",
       "      <td># 経過時間</td>\n",
       "      <td># 提出</td>\n",
       "      <td># 提出日時</td>\n",
       "      <td># 回答1.1</td>\n",
       "      <td># 回答1.2</td>\n",
       "      <td># 回答1.3</td>\n",
       "      <td># 回答1.4</td>\n",
       "    </tr>\n",
       "    <tr>\n",
       "      <th>1</th>\n",
       "      <td>NaN</td>\n",
       "      <td>NaN</td>\n",
       "      <td>NaN</td>\n",
       "      <td>NaN</td>\n",
       "      <td>NaN</td>\n",
       "      <td>未提出</td>\n",
       "      <td>NaN</td>\n",
       "      <td>NaN</td>\n",
       "      <td>NaN</td>\n",
       "      <td>NaN</td>\n",
       "      <td>NaN</td>\n",
       "    </tr>\n",
       "    <tr>\n",
       "      <th>2</th>\n",
       "      <td>NaN</td>\n",
       "      <td>NaN</td>\n",
       "      <td>NaN</td>\n",
       "      <td>NaN</td>\n",
       "      <td>NaN</td>\n",
       "      <td>未提出</td>\n",
       "      <td>NaN</td>\n",
       "      <td>NaN</td>\n",
       "      <td>NaN</td>\n",
       "      <td>NaN</td>\n",
       "      <td>NaN</td>\n",
       "    </tr>\n",
       "    <tr>\n",
       "      <th>3</th>\n",
       "      <td>NaN</td>\n",
       "      <td>NaN</td>\n",
       "      <td>NaN</td>\n",
       "      <td>NaN</td>\n",
       "      <td>NaN</td>\n",
       "      <td>未提出</td>\n",
       "      <td>NaN</td>\n",
       "      <td>NaN</td>\n",
       "      <td>NaN</td>\n",
       "      <td>NaN</td>\n",
       "      <td>NaN</td>\n",
       "    </tr>\n",
       "    <tr>\n",
       "      <th>4</th>\n",
       "      <td>NaN</td>\n",
       "      <td>NaN</td>\n",
       "      <td>NaN</td>\n",
       "      <td>NaN</td>\n",
       "      <td>NaN</td>\n",
       "      <td>未提出</td>\n",
       "      <td>NaN</td>\n",
       "      <td>NaN</td>\n",
       "      <td>NaN</td>\n",
       "      <td>NaN</td>\n",
       "      <td>NaN</td>\n",
       "    </tr>\n",
       "    <tr>\n",
       "      <th>...</th>\n",
       "      <td>...</td>\n",
       "      <td>...</td>\n",
       "      <td>...</td>\n",
       "      <td>...</td>\n",
       "      <td>...</td>\n",
       "      <td>...</td>\n",
       "      <td>...</td>\n",
       "      <td>...</td>\n",
       "      <td>...</td>\n",
       "      <td>...</td>\n",
       "      <td>...</td>\n",
       "    </tr>\n",
       "    <tr>\n",
       "      <th>258</th>\n",
       "      <td>NaN</td>\n",
       "      <td>NaN</td>\n",
       "      <td>NaN</td>\n",
       "      <td>NaN</td>\n",
       "      <td>NaN</td>\n",
       "      <td>未提出</td>\n",
       "      <td>NaN</td>\n",
       "      <td>NaN</td>\n",
       "      <td>NaN</td>\n",
       "      <td>NaN</td>\n",
       "      <td>NaN</td>\n",
       "    </tr>\n",
       "    <tr>\n",
       "      <th>259</th>\n",
       "      <td>NaN</td>\n",
       "      <td>NaN</td>\n",
       "      <td>NaN</td>\n",
       "      <td>NaN</td>\n",
       "      <td>NaN</td>\n",
       "      <td>未提出</td>\n",
       "      <td>NaN</td>\n",
       "      <td>NaN</td>\n",
       "      <td>NaN</td>\n",
       "      <td>NaN</td>\n",
       "      <td>NaN</td>\n",
       "    </tr>\n",
       "    <tr>\n",
       "      <th>260</th>\n",
       "      <td>NaN</td>\n",
       "      <td>NaN</td>\n",
       "      <td>NaN</td>\n",
       "      <td>NaN</td>\n",
       "      <td>NaN</td>\n",
       "      <td>未提出</td>\n",
       "      <td>NaN</td>\n",
       "      <td>NaN</td>\n",
       "      <td>NaN</td>\n",
       "      <td>NaN</td>\n",
       "      <td>NaN</td>\n",
       "    </tr>\n",
       "    <tr>\n",
       "      <th>261</th>\n",
       "      <td>NaN</td>\n",
       "      <td>NaN</td>\n",
       "      <td>NaN</td>\n",
       "      <td>NaN</td>\n",
       "      <td>NaN</td>\n",
       "      <td>未提出</td>\n",
       "      <td>NaN</td>\n",
       "      <td>NaN</td>\n",
       "      <td>NaN</td>\n",
       "      <td>NaN</td>\n",
       "      <td>NaN</td>\n",
       "    </tr>\n",
       "    <tr>\n",
       "      <th>262</th>\n",
       "      <td>NaN</td>\n",
       "      <td>NaN</td>\n",
       "      <td>NaN</td>\n",
       "      <td>NaN</td>\n",
       "      <td>NaN</td>\n",
       "      <td>NaN</td>\n",
       "      <td>NaN</td>\n",
       "      <td>NaN</td>\n",
       "      <td>NaN</td>\n",
       "      <td>NaN</td>\n",
       "      <td>NaN</td>\n",
       "    </tr>\n",
       "  </tbody>\n",
       "</table>\n",
       "<p>263 rows × 11 columns</p>\n",
       "</div>"
      ],
      "text/plain": [
       "      mailaddr  grade symgrade comment Unnamed: 4 Unnamed: 5 Unnamed: 6  \\\n",
       "0    # メールアドレス  # 合計点     # 評価    # 講評     # 経過時間       # 提出     # 提出日時   \n",
       "1          NaN    NaN      NaN     NaN        NaN        未提出        NaN   \n",
       "2          NaN    NaN      NaN     NaN        NaN        未提出        NaN   \n",
       "3          NaN    NaN      NaN     NaN        NaN        未提出        NaN   \n",
       "4          NaN    NaN      NaN     NaN        NaN        未提出        NaN   \n",
       "..         ...    ...      ...     ...        ...        ...        ...   \n",
       "258        NaN    NaN      NaN     NaN        NaN        未提出        NaN   \n",
       "259        NaN    NaN      NaN     NaN        NaN        未提出        NaN   \n",
       "260        NaN    NaN      NaN     NaN        NaN        未提出        NaN   \n",
       "261        NaN    NaN      NaN     NaN        NaN        未提出        NaN   \n",
       "262        NaN    NaN      NaN     NaN        NaN        NaN        NaN   \n",
       "\n",
       "    Unnamed: 7 Unnamed: 8 Unnamed: 9 Unnamed: 10  \n",
       "0      # 回答1.1    # 回答1.2    # 回答1.3     # 回答1.4  \n",
       "1          NaN        NaN        NaN         NaN  \n",
       "2          NaN        NaN        NaN         NaN  \n",
       "3          NaN        NaN        NaN         NaN  \n",
       "4          NaN        NaN        NaN         NaN  \n",
       "..         ...        ...        ...         ...  \n",
       "258        NaN        NaN        NaN         NaN  \n",
       "259        NaN        NaN        NaN         NaN  \n",
       "260        NaN        NaN        NaN         NaN  \n",
       "261        NaN        NaN        NaN         NaN  \n",
       "262        NaN        NaN        NaN         NaN  \n",
       "\n",
       "[263 rows x 11 columns]"
      ]
     },
     "execution_count": 6,
     "metadata": {},
     "output_type": "execute_result"
    }
   ],
   "source": [
    "import pandas as pd\n",
    "import numpy as np\n",
    "\n",
    "df = pd.read_excel('data/query-66083-66917.xls',skiprows=4)\n",
    "df"
   ]
  },
  {
   "cell_type": "markdown",
   "metadata": {},
   "source": [
    "どうも第１行が、カラム名で、第２行はその説明、３行目以降が一人一人のアンケートのようです。\n",
    "\n",
    "とりあえず２つを行います\n",
    "- 取り扱うコラムは#回答1.1～回答1.4ですので、名前をつけなおします。(df.columnsにリストを代入すればコラム名は付け替えられました)\n",
    "- 最初の２行を読み飛ばします(行に対するスライスを使ってます。)"
   ]
  },
  {
   "cell_type": "code",
   "execution_count": 7,
   "metadata": {},
   "outputs": [
    {
     "data": {
      "text/html": [
       "<div>\n",
       "<style scoped>\n",
       "    .dataframe tbody tr th:only-of-type {\n",
       "        vertical-align: middle;\n",
       "    }\n",
       "\n",
       "    .dataframe tbody tr th {\n",
       "        vertical-align: top;\n",
       "    }\n",
       "\n",
       "    .dataframe thead th {\n",
       "        text-align: right;\n",
       "    }\n",
       "</style>\n",
       "<table border=\"1\" class=\"dataframe\">\n",
       "  <thead>\n",
       "    <tr style=\"text-align: right;\">\n",
       "      <th></th>\n",
       "      <th>col0</th>\n",
       "      <th>col1</th>\n",
       "      <th>col2</th>\n",
       "      <th>col3</th>\n",
       "      <th>col4</th>\n",
       "      <th>col5</th>\n",
       "      <th>col6</th>\n",
       "      <th>q1.1</th>\n",
       "      <th>q1.2</th>\n",
       "      <th>q1.3</th>\n",
       "      <th>q1.4</th>\n",
       "    </tr>\n",
       "  </thead>\n",
       "  <tbody>\n",
       "    <tr>\n",
       "      <th>2</th>\n",
       "      <td>NaN</td>\n",
       "      <td>NaN</td>\n",
       "      <td>NaN</td>\n",
       "      <td>NaN</td>\n",
       "      <td>NaN</td>\n",
       "      <td>未提出</td>\n",
       "      <td>NaN</td>\n",
       "      <td>NaN</td>\n",
       "      <td>NaN</td>\n",
       "      <td>NaN</td>\n",
       "      <td>NaN</td>\n",
       "    </tr>\n",
       "    <tr>\n",
       "      <th>3</th>\n",
       "      <td>NaN</td>\n",
       "      <td>NaN</td>\n",
       "      <td>NaN</td>\n",
       "      <td>NaN</td>\n",
       "      <td>NaN</td>\n",
       "      <td>未提出</td>\n",
       "      <td>NaN</td>\n",
       "      <td>NaN</td>\n",
       "      <td>NaN</td>\n",
       "      <td>NaN</td>\n",
       "      <td>NaN</td>\n",
       "    </tr>\n",
       "    <tr>\n",
       "      <th>4</th>\n",
       "      <td>NaN</td>\n",
       "      <td>NaN</td>\n",
       "      <td>NaN</td>\n",
       "      <td>NaN</td>\n",
       "      <td>NaN</td>\n",
       "      <td>未提出</td>\n",
       "      <td>NaN</td>\n",
       "      <td>NaN</td>\n",
       "      <td>NaN</td>\n",
       "      <td>NaN</td>\n",
       "      <td>NaN</td>\n",
       "    </tr>\n",
       "    <tr>\n",
       "      <th>5</th>\n",
       "      <td>NaN</td>\n",
       "      <td>NaN</td>\n",
       "      <td>NaN</td>\n",
       "      <td>NaN</td>\n",
       "      <td>NaN</td>\n",
       "      <td>未提出</td>\n",
       "      <td>NaN</td>\n",
       "      <td>NaN</td>\n",
       "      <td>NaN</td>\n",
       "      <td>NaN</td>\n",
       "      <td>NaN</td>\n",
       "    </tr>\n",
       "    <tr>\n",
       "      <th>6</th>\n",
       "      <td>NaN</td>\n",
       "      <td>NaN</td>\n",
       "      <td>NaN</td>\n",
       "      <td>NaN</td>\n",
       "      <td>NaN</td>\n",
       "      <td>未提出</td>\n",
       "      <td>NaN</td>\n",
       "      <td>NaN</td>\n",
       "      <td>NaN</td>\n",
       "      <td>NaN</td>\n",
       "      <td>NaN</td>\n",
       "    </tr>\n",
       "  </tbody>\n",
       "</table>\n",
       "</div>"
      ],
      "text/plain": [
       "  col0 col1 col2 col3 col4 col5 col6 q1.1 q1.2 q1.3 q1.4\n",
       "2  NaN  NaN  NaN  NaN  NaN  未提出  NaN  NaN  NaN  NaN  NaN\n",
       "3  NaN  NaN  NaN  NaN  NaN  未提出  NaN  NaN  NaN  NaN  NaN\n",
       "4  NaN  NaN  NaN  NaN  NaN  未提出  NaN  NaN  NaN  NaN  NaN\n",
       "5  NaN  NaN  NaN  NaN  NaN  未提出  NaN  NaN  NaN  NaN  NaN\n",
       "6  NaN  NaN  NaN  NaN  NaN  未提出  NaN  NaN  NaN  NaN  NaN"
      ]
     },
     "execution_count": 7,
     "metadata": {},
     "output_type": "execute_result"
    }
   ],
   "source": [
    "df.columns=['col0','col1','col2','col3','col4','col5','col6','q1.1','q1.2','q1.3','q1.4']\n",
    "df=df[2:]\n",
    "df.head()"
   ]
  },
  {
   "cell_type": "markdown",
   "metadata": {},
   "source": [
    "col5が'未提出'な行**以外**を絞り込み、さらにq1.1～q1.4のみを残します"
   ]
  },
  {
   "cell_type": "code",
   "execution_count": 8,
   "metadata": {},
   "outputs": [
    {
     "data": {
      "text/html": [
       "<div>\n",
       "<style scoped>\n",
       "    .dataframe tbody tr th:only-of-type {\n",
       "        vertical-align: middle;\n",
       "    }\n",
       "\n",
       "    .dataframe tbody tr th {\n",
       "        vertical-align: top;\n",
       "    }\n",
       "\n",
       "    .dataframe thead th {\n",
       "        text-align: right;\n",
       "    }\n",
       "</style>\n",
       "<table border=\"1\" class=\"dataframe\">\n",
       "  <thead>\n",
       "    <tr style=\"text-align: right;\">\n",
       "      <th></th>\n",
       "      <th>q1.1</th>\n",
       "      <th>q1.2</th>\n",
       "      <th>q1.3</th>\n",
       "      <th>q1.4</th>\n",
       "    </tr>\n",
       "  </thead>\n",
       "  <tbody>\n",
       "    <tr>\n",
       "      <th>24</th>\n",
       "      <td>6</td>\n",
       "      <td>1,2,3,4,5,7</td>\n",
       "      <td>2</td>\n",
       "      <td>2,5</td>\n",
       "    </tr>\n",
       "    <tr>\n",
       "      <th>25</th>\n",
       "      <td>1</td>\n",
       "      <td>2,3,4,5</td>\n",
       "      <td>2</td>\n",
       "      <td>1,3,5</td>\n",
       "    </tr>\n",
       "    <tr>\n",
       "      <th>26</th>\n",
       "      <td>1,2</td>\n",
       "      <td>2</td>\n",
       "      <td>3</td>\n",
       "      <td>1,3</td>\n",
       "    </tr>\n",
       "    <tr>\n",
       "      <th>60</th>\n",
       "      <td>3,5,7</td>\n",
       "      <td>3,5</td>\n",
       "      <td>2</td>\n",
       "      <td>1,4</td>\n",
       "    </tr>\n",
       "    <tr>\n",
       "      <th>69</th>\n",
       "      <td>1</td>\n",
       "      <td>3,4,5</td>\n",
       "      <td>2</td>\n",
       "      <td>3,4</td>\n",
       "    </tr>\n",
       "    <tr>\n",
       "      <th>80</th>\n",
       "      <td>3,5</td>\n",
       "      <td>1,2,3,4,5</td>\n",
       "      <td>2</td>\n",
       "      <td>1,3,4,5</td>\n",
       "    </tr>\n",
       "    <tr>\n",
       "      <th>84</th>\n",
       "      <td>2</td>\n",
       "      <td>10</td>\n",
       "      <td>3</td>\n",
       "      <td>1,2</td>\n",
       "    </tr>\n",
       "    <tr>\n",
       "      <th>101</th>\n",
       "      <td>1,7</td>\n",
       "      <td>2,9</td>\n",
       "      <td>3</td>\n",
       "      <td>1,2</td>\n",
       "    </tr>\n",
       "    <tr>\n",
       "      <th>105</th>\n",
       "      <td>1</td>\n",
       "      <td>2</td>\n",
       "      <td>3</td>\n",
       "      <td>3,5</td>\n",
       "    </tr>\n",
       "    <tr>\n",
       "      <th>110</th>\n",
       "      <td>3,4,5</td>\n",
       "      <td>2,8</td>\n",
       "      <td>3</td>\n",
       "      <td>1</td>\n",
       "    </tr>\n",
       "    <tr>\n",
       "      <th>122</th>\n",
       "      <td>5</td>\n",
       "      <td>1,3</td>\n",
       "      <td>2</td>\n",
       "      <td>1,4,5</td>\n",
       "    </tr>\n",
       "    <tr>\n",
       "      <th>139</th>\n",
       "      <td>1</td>\n",
       "      <td>3</td>\n",
       "      <td>2</td>\n",
       "      <td>2,5</td>\n",
       "    </tr>\n",
       "    <tr>\n",
       "      <th>167</th>\n",
       "      <td>3</td>\n",
       "      <td>1,2,3</td>\n",
       "      <td>1</td>\n",
       "      <td>1,5</td>\n",
       "    </tr>\n",
       "    <tr>\n",
       "      <th>171</th>\n",
       "      <td>5</td>\n",
       "      <td>1,3</td>\n",
       "      <td>2</td>\n",
       "      <td>5</td>\n",
       "    </tr>\n",
       "    <tr>\n",
       "      <th>172</th>\n",
       "      <td>2,5</td>\n",
       "      <td>3,9</td>\n",
       "      <td>1</td>\n",
       "      <td>1,3,4</td>\n",
       "    </tr>\n",
       "    <tr>\n",
       "      <th>187</th>\n",
       "      <td>2</td>\n",
       "      <td>1,3,5,9</td>\n",
       "      <td>2</td>\n",
       "      <td>1,2,4,5,6</td>\n",
       "    </tr>\n",
       "    <tr>\n",
       "      <th>191</th>\n",
       "      <td>5</td>\n",
       "      <td>1,8</td>\n",
       "      <td>3</td>\n",
       "      <td>1,2</td>\n",
       "    </tr>\n",
       "    <tr>\n",
       "      <th>192</th>\n",
       "      <td>5</td>\n",
       "      <td>1</td>\n",
       "      <td>3</td>\n",
       "      <td>1,3,4,5</td>\n",
       "    </tr>\n",
       "    <tr>\n",
       "      <th>194</th>\n",
       "      <td>5</td>\n",
       "      <td>2,3,5</td>\n",
       "      <td>1</td>\n",
       "      <td>1,3</td>\n",
       "    </tr>\n",
       "    <tr>\n",
       "      <th>195</th>\n",
       "      <td>2</td>\n",
       "      <td>9</td>\n",
       "      <td>3</td>\n",
       "      <td>1,2,3,4</td>\n",
       "    </tr>\n",
       "    <tr>\n",
       "      <th>198</th>\n",
       "      <td>6</td>\n",
       "      <td>10</td>\n",
       "      <td>3</td>\n",
       "      <td>2</td>\n",
       "    </tr>\n",
       "    <tr>\n",
       "      <th>206</th>\n",
       "      <td>1</td>\n",
       "      <td>3</td>\n",
       "      <td>3</td>\n",
       "      <td>1,3</td>\n",
       "    </tr>\n",
       "    <tr>\n",
       "      <th>208</th>\n",
       "      <td>1</td>\n",
       "      <td>10</td>\n",
       "      <td>3</td>\n",
       "      <td>2</td>\n",
       "    </tr>\n",
       "    <tr>\n",
       "      <th>209</th>\n",
       "      <td>4,5</td>\n",
       "      <td>3,9</td>\n",
       "      <td>2</td>\n",
       "      <td>1,4</td>\n",
       "    </tr>\n",
       "    <tr>\n",
       "      <th>211</th>\n",
       "      <td>2,4,5</td>\n",
       "      <td>3,6,9</td>\n",
       "      <td>2</td>\n",
       "      <td>1,3,4</td>\n",
       "    </tr>\n",
       "    <tr>\n",
       "      <th>212</th>\n",
       "      <td>3,4,5</td>\n",
       "      <td>1</td>\n",
       "      <td>3</td>\n",
       "      <td>1,2,3,4</td>\n",
       "    </tr>\n",
       "    <tr>\n",
       "      <th>213</th>\n",
       "      <td>6</td>\n",
       "      <td>10</td>\n",
       "      <td>3</td>\n",
       "      <td>2</td>\n",
       "    </tr>\n",
       "    <tr>\n",
       "      <th>215</th>\n",
       "      <td>6</td>\n",
       "      <td>3</td>\n",
       "      <td>2</td>\n",
       "      <td>1,2,4</td>\n",
       "    </tr>\n",
       "    <tr>\n",
       "      <th>216</th>\n",
       "      <td>3,6</td>\n",
       "      <td>10</td>\n",
       "      <td>3</td>\n",
       "      <td>2</td>\n",
       "    </tr>\n",
       "    <tr>\n",
       "      <th>217</th>\n",
       "      <td>1,2</td>\n",
       "      <td>1,2,3,5,6,8</td>\n",
       "      <td>2</td>\n",
       "      <td>1</td>\n",
       "    </tr>\n",
       "    <tr>\n",
       "      <th>218</th>\n",
       "      <td>2</td>\n",
       "      <td>3,5</td>\n",
       "      <td>2</td>\n",
       "      <td>1,3,4</td>\n",
       "    </tr>\n",
       "    <tr>\n",
       "      <th>223</th>\n",
       "      <td>5</td>\n",
       "      <td>3</td>\n",
       "      <td>2</td>\n",
       "      <td>2</td>\n",
       "    </tr>\n",
       "    <tr>\n",
       "      <th>224</th>\n",
       "      <td>6</td>\n",
       "      <td>2,3,5</td>\n",
       "      <td>2</td>\n",
       "      <td>1,2,3,4,5</td>\n",
       "    </tr>\n",
       "    <tr>\n",
       "      <th>262</th>\n",
       "      <td>NaN</td>\n",
       "      <td>NaN</td>\n",
       "      <td>NaN</td>\n",
       "      <td>NaN</td>\n",
       "    </tr>\n",
       "  </tbody>\n",
       "</table>\n",
       "</div>"
      ],
      "text/plain": [
       "      q1.1         q1.2 q1.3       q1.4\n",
       "24       6  1,2,3,4,5,7    2        2,5\n",
       "25       1      2,3,4,5    2      1,3,5\n",
       "26     1,2            2    3        1,3\n",
       "60   3,5,7          3,5    2        1,4\n",
       "69       1        3,4,5    2        3,4\n",
       "80     3,5    1,2,3,4,5    2    1,3,4,5\n",
       "84       2           10    3        1,2\n",
       "101    1,7          2,9    3        1,2\n",
       "105      1            2    3        3,5\n",
       "110  3,4,5          2,8    3          1\n",
       "122      5          1,3    2      1,4,5\n",
       "139      1            3    2        2,5\n",
       "167      3        1,2,3    1        1,5\n",
       "171      5          1,3    2          5\n",
       "172    2,5          3,9    1      1,3,4\n",
       "187      2      1,3,5,9    2  1,2,4,5,6\n",
       "191      5          1,8    3        1,2\n",
       "192      5            1    3    1,3,4,5\n",
       "194      5        2,3,5    1        1,3\n",
       "195      2            9    3    1,2,3,4\n",
       "198      6           10    3          2\n",
       "206      1            3    3        1,3\n",
       "208      1           10    3          2\n",
       "209    4,5          3,9    2        1,4\n",
       "211  2,4,5        3,6,9    2      1,3,4\n",
       "212  3,4,5            1    3    1,2,3,4\n",
       "213      6           10    3          2\n",
       "215      6            3    2      1,2,4\n",
       "216    3,6           10    3          2\n",
       "217    1,2  1,2,3,5,6,8    2          1\n",
       "218      2          3,5    2      1,3,4\n",
       "223      5            3    2          2\n",
       "224      6        2,3,5    2  1,2,3,4,5\n",
       "262    NaN          NaN  NaN        NaN"
      ]
     },
     "execution_count": 8,
     "metadata": {},
     "output_type": "execute_result"
    }
   ],
   "source": [
    "df2=df[df.iloc[:,5]!='未提出']\n",
    "df2=df2[['q1.1','q1.2','q1.3','q1.4']]\n",
    "df2"
   ]
  },
  {
   "cell_type": "markdown",
   "metadata": {},
   "source": [
    "どうも最後の行がNaNで埋まっています、これは削除しましょう。"
   ]
  },
  {
   "cell_type": "code",
   "execution_count": 9,
   "metadata": {},
   "outputs": [
    {
     "data": {
      "text/html": [
       "<div>\n",
       "<style scoped>\n",
       "    .dataframe tbody tr th:only-of-type {\n",
       "        vertical-align: middle;\n",
       "    }\n",
       "\n",
       "    .dataframe tbody tr th {\n",
       "        vertical-align: top;\n",
       "    }\n",
       "\n",
       "    .dataframe thead th {\n",
       "        text-align: right;\n",
       "    }\n",
       "</style>\n",
       "<table border=\"1\" class=\"dataframe\">\n",
       "  <thead>\n",
       "    <tr style=\"text-align: right;\">\n",
       "      <th></th>\n",
       "      <th>q1.1</th>\n",
       "      <th>q1.2</th>\n",
       "      <th>q1.3</th>\n",
       "      <th>q1.4</th>\n",
       "    </tr>\n",
       "  </thead>\n",
       "  <tbody>\n",
       "    <tr>\n",
       "      <th>24</th>\n",
       "      <td>6</td>\n",
       "      <td>1,2,3,4,5,7</td>\n",
       "      <td>2</td>\n",
       "      <td>2,5</td>\n",
       "    </tr>\n",
       "    <tr>\n",
       "      <th>25</th>\n",
       "      <td>1</td>\n",
       "      <td>2,3,4,5</td>\n",
       "      <td>2</td>\n",
       "      <td>1,3,5</td>\n",
       "    </tr>\n",
       "    <tr>\n",
       "      <th>26</th>\n",
       "      <td>1,2</td>\n",
       "      <td>2</td>\n",
       "      <td>3</td>\n",
       "      <td>1,3</td>\n",
       "    </tr>\n",
       "    <tr>\n",
       "      <th>60</th>\n",
       "      <td>3,5,7</td>\n",
       "      <td>3,5</td>\n",
       "      <td>2</td>\n",
       "      <td>1,4</td>\n",
       "    </tr>\n",
       "    <tr>\n",
       "      <th>69</th>\n",
       "      <td>1</td>\n",
       "      <td>3,4,5</td>\n",
       "      <td>2</td>\n",
       "      <td>3,4</td>\n",
       "    </tr>\n",
       "    <tr>\n",
       "      <th>80</th>\n",
       "      <td>3,5</td>\n",
       "      <td>1,2,3,4,5</td>\n",
       "      <td>2</td>\n",
       "      <td>1,3,4,5</td>\n",
       "    </tr>\n",
       "    <tr>\n",
       "      <th>84</th>\n",
       "      <td>2</td>\n",
       "      <td>10</td>\n",
       "      <td>3</td>\n",
       "      <td>1,2</td>\n",
       "    </tr>\n",
       "    <tr>\n",
       "      <th>101</th>\n",
       "      <td>1,7</td>\n",
       "      <td>2,9</td>\n",
       "      <td>3</td>\n",
       "      <td>1,2</td>\n",
       "    </tr>\n",
       "    <tr>\n",
       "      <th>105</th>\n",
       "      <td>1</td>\n",
       "      <td>2</td>\n",
       "      <td>3</td>\n",
       "      <td>3,5</td>\n",
       "    </tr>\n",
       "    <tr>\n",
       "      <th>110</th>\n",
       "      <td>3,4,5</td>\n",
       "      <td>2,8</td>\n",
       "      <td>3</td>\n",
       "      <td>1</td>\n",
       "    </tr>\n",
       "    <tr>\n",
       "      <th>122</th>\n",
       "      <td>5</td>\n",
       "      <td>1,3</td>\n",
       "      <td>2</td>\n",
       "      <td>1,4,5</td>\n",
       "    </tr>\n",
       "    <tr>\n",
       "      <th>139</th>\n",
       "      <td>1</td>\n",
       "      <td>3</td>\n",
       "      <td>2</td>\n",
       "      <td>2,5</td>\n",
       "    </tr>\n",
       "    <tr>\n",
       "      <th>167</th>\n",
       "      <td>3</td>\n",
       "      <td>1,2,3</td>\n",
       "      <td>1</td>\n",
       "      <td>1,5</td>\n",
       "    </tr>\n",
       "    <tr>\n",
       "      <th>171</th>\n",
       "      <td>5</td>\n",
       "      <td>1,3</td>\n",
       "      <td>2</td>\n",
       "      <td>5</td>\n",
       "    </tr>\n",
       "    <tr>\n",
       "      <th>172</th>\n",
       "      <td>2,5</td>\n",
       "      <td>3,9</td>\n",
       "      <td>1</td>\n",
       "      <td>1,3,4</td>\n",
       "    </tr>\n",
       "    <tr>\n",
       "      <th>187</th>\n",
       "      <td>2</td>\n",
       "      <td>1,3,5,9</td>\n",
       "      <td>2</td>\n",
       "      <td>1,2,4,5,6</td>\n",
       "    </tr>\n",
       "    <tr>\n",
       "      <th>191</th>\n",
       "      <td>5</td>\n",
       "      <td>1,8</td>\n",
       "      <td>3</td>\n",
       "      <td>1,2</td>\n",
       "    </tr>\n",
       "    <tr>\n",
       "      <th>192</th>\n",
       "      <td>5</td>\n",
       "      <td>1</td>\n",
       "      <td>3</td>\n",
       "      <td>1,3,4,5</td>\n",
       "    </tr>\n",
       "    <tr>\n",
       "      <th>194</th>\n",
       "      <td>5</td>\n",
       "      <td>2,3,5</td>\n",
       "      <td>1</td>\n",
       "      <td>1,3</td>\n",
       "    </tr>\n",
       "    <tr>\n",
       "      <th>195</th>\n",
       "      <td>2</td>\n",
       "      <td>9</td>\n",
       "      <td>3</td>\n",
       "      <td>1,2,3,4</td>\n",
       "    </tr>\n",
       "    <tr>\n",
       "      <th>198</th>\n",
       "      <td>6</td>\n",
       "      <td>10</td>\n",
       "      <td>3</td>\n",
       "      <td>2</td>\n",
       "    </tr>\n",
       "    <tr>\n",
       "      <th>206</th>\n",
       "      <td>1</td>\n",
       "      <td>3</td>\n",
       "      <td>3</td>\n",
       "      <td>1,3</td>\n",
       "    </tr>\n",
       "    <tr>\n",
       "      <th>208</th>\n",
       "      <td>1</td>\n",
       "      <td>10</td>\n",
       "      <td>3</td>\n",
       "      <td>2</td>\n",
       "    </tr>\n",
       "    <tr>\n",
       "      <th>209</th>\n",
       "      <td>4,5</td>\n",
       "      <td>3,9</td>\n",
       "      <td>2</td>\n",
       "      <td>1,4</td>\n",
       "    </tr>\n",
       "    <tr>\n",
       "      <th>211</th>\n",
       "      <td>2,4,5</td>\n",
       "      <td>3,6,9</td>\n",
       "      <td>2</td>\n",
       "      <td>1,3,4</td>\n",
       "    </tr>\n",
       "    <tr>\n",
       "      <th>212</th>\n",
       "      <td>3,4,5</td>\n",
       "      <td>1</td>\n",
       "      <td>3</td>\n",
       "      <td>1,2,3,4</td>\n",
       "    </tr>\n",
       "    <tr>\n",
       "      <th>213</th>\n",
       "      <td>6</td>\n",
       "      <td>10</td>\n",
       "      <td>3</td>\n",
       "      <td>2</td>\n",
       "    </tr>\n",
       "    <tr>\n",
       "      <th>215</th>\n",
       "      <td>6</td>\n",
       "      <td>3</td>\n",
       "      <td>2</td>\n",
       "      <td>1,2,4</td>\n",
       "    </tr>\n",
       "    <tr>\n",
       "      <th>216</th>\n",
       "      <td>3,6</td>\n",
       "      <td>10</td>\n",
       "      <td>3</td>\n",
       "      <td>2</td>\n",
       "    </tr>\n",
       "    <tr>\n",
       "      <th>217</th>\n",
       "      <td>1,2</td>\n",
       "      <td>1,2,3,5,6,8</td>\n",
       "      <td>2</td>\n",
       "      <td>1</td>\n",
       "    </tr>\n",
       "    <tr>\n",
       "      <th>218</th>\n",
       "      <td>2</td>\n",
       "      <td>3,5</td>\n",
       "      <td>2</td>\n",
       "      <td>1,3,4</td>\n",
       "    </tr>\n",
       "    <tr>\n",
       "      <th>223</th>\n",
       "      <td>5</td>\n",
       "      <td>3</td>\n",
       "      <td>2</td>\n",
       "      <td>2</td>\n",
       "    </tr>\n",
       "    <tr>\n",
       "      <th>224</th>\n",
       "      <td>6</td>\n",
       "      <td>2,3,5</td>\n",
       "      <td>2</td>\n",
       "      <td>1,2,3,4,5</td>\n",
       "    </tr>\n",
       "  </tbody>\n",
       "</table>\n",
       "</div>"
      ],
      "text/plain": [
       "      q1.1         q1.2 q1.3       q1.4\n",
       "24       6  1,2,3,4,5,7    2        2,5\n",
       "25       1      2,3,4,5    2      1,3,5\n",
       "26     1,2            2    3        1,3\n",
       "60   3,5,7          3,5    2        1,4\n",
       "69       1        3,4,5    2        3,4\n",
       "80     3,5    1,2,3,4,5    2    1,3,4,5\n",
       "84       2           10    3        1,2\n",
       "101    1,7          2,9    3        1,2\n",
       "105      1            2    3        3,5\n",
       "110  3,4,5          2,8    3          1\n",
       "122      5          1,3    2      1,4,5\n",
       "139      1            3    2        2,5\n",
       "167      3        1,2,3    1        1,5\n",
       "171      5          1,3    2          5\n",
       "172    2,5          3,9    1      1,3,4\n",
       "187      2      1,3,5,9    2  1,2,4,5,6\n",
       "191      5          1,8    3        1,2\n",
       "192      5            1    3    1,3,4,5\n",
       "194      5        2,3,5    1        1,3\n",
       "195      2            9    3    1,2,3,4\n",
       "198      6           10    3          2\n",
       "206      1            3    3        1,3\n",
       "208      1           10    3          2\n",
       "209    4,5          3,9    2        1,4\n",
       "211  2,4,5        3,6,9    2      1,3,4\n",
       "212  3,4,5            1    3    1,2,3,4\n",
       "213      6           10    3          2\n",
       "215      6            3    2      1,2,4\n",
       "216    3,6           10    3          2\n",
       "217    1,2  1,2,3,5,6,8    2          1\n",
       "218      2          3,5    2      1,3,4\n",
       "223      5            3    2          2\n",
       "224      6        2,3,5    2  1,2,3,4,5"
      ]
     },
     "execution_count": 9,
     "metadata": {},
     "output_type": "execute_result"
    }
   ],
   "source": [
    "df2=df2.dropna(how='all')\n",
    "df2"
   ]
  },
  {
   "cell_type": "markdown",
   "metadata": {},
   "source": [
    "## データの概要\n",
    "さて質問は\n",
    "- q1.1: 統計を学んだ経験について（複数選択）\n",
    "- q1.2: 使ったことのあるプログラミング言語（複数選択)\n",
    "- q1.3: Pythonを使った経験（３択）\n",
    "- q1.4: データサイエンスに期待する項目は？(複数選択)\n",
    "\n",
    "このように、複数選択可能なものがあり'1,2,3'のような文字列で複数選択結果が記録されています。"
   ]
  },
  {
   "cell_type": "markdown",
   "metadata": {},
   "source": [
    "## q1.2　使ったことのあるプログラミング言語\n",
    "まずは、複数選択された結果を含めて、使ったことのあるプログラミング言語の延べ数を集計します。\n",
    "\n",
    "最初に、'q1.2'の列を取り出します。"
   ]
  },
  {
   "cell_type": "code",
   "execution_count": 13,
   "metadata": {},
   "outputs": [
    {
     "data": {
      "text/plain": [
       "array(['1,2,3,4,5,7', '2,3,4,5', '2', '3,5', '3,4,5', '1,2,3,4,5', '10',\n",
       "       '2,9', '2', '2,8', '1,3', '3', '1,2,3', '1,3', '3,9', '1,3,5,9',\n",
       "       '1,8', '1', '2,3,5', '9', '10', '3', '10', '3,9', '3,6,9', '1',\n",
       "       '10', '3', '10', '1,2,3,5,6,8', '3,5', '3', '2,3,5'], dtype=object)"
      ]
     },
     "execution_count": 13,
     "metadata": {},
     "output_type": "execute_result"
    }
   ],
   "source": [
    "df2['q1.2'].values"
   ]
  },
  {
   "cell_type": "markdown",
   "metadata": {},
   "source": [
    "'1,2,3'のような文字列を特定のセパレータ(ここでは',')でばらしたリストにするのにsplit()関数を追加います。"
   ]
  },
  {
   "cell_type": "code",
   "execution_count": 14,
   "metadata": {},
   "outputs": [
    {
     "data": {
      "text/plain": [
       "['1', '2', '3']"
      ]
     },
     "execution_count": 14,
     "metadata": {},
     "output_type": "execute_result"
    }
   ],
   "source": [
    "hoge='1,2,3'\n",
    "hogehoge=hoge.split(',')\n",
    "hogehoge"
   ]
  },
  {
   "cell_type": "markdown",
   "metadata": {},
   "source": [
    "そて、q1.2列の値のリストに対して、それぞれの要素をsplit関数でバラバラにして、それを１つのリストとして集約します。\n",
    "\n",
    "ここでは**残念ながら** for文を使っています。"
   ]
  },
  {
   "cell_type": "code",
   "execution_count": 16,
   "metadata": {},
   "outputs": [
    {
     "data": {
      "text/plain": [
       "['1',\n",
       " '2',\n",
       " '3',\n",
       " '4',\n",
       " '5',\n",
       " '7',\n",
       " '2',\n",
       " '3',\n",
       " '4',\n",
       " '5',\n",
       " '2',\n",
       " '3',\n",
       " '5',\n",
       " '3',\n",
       " '4',\n",
       " '5',\n",
       " '1',\n",
       " '2',\n",
       " '3',\n",
       " '4',\n",
       " '5',\n",
       " '10',\n",
       " '2',\n",
       " '9',\n",
       " '2',\n",
       " '2',\n",
       " '8',\n",
       " '1',\n",
       " '3',\n",
       " '3',\n",
       " '1',\n",
       " '2',\n",
       " '3',\n",
       " '1',\n",
       " '3',\n",
       " '3',\n",
       " '9',\n",
       " '1',\n",
       " '3',\n",
       " '5',\n",
       " '9',\n",
       " '1',\n",
       " '8',\n",
       " '1',\n",
       " '2',\n",
       " '3',\n",
       " '5',\n",
       " '9',\n",
       " '10',\n",
       " '3',\n",
       " '10',\n",
       " '3',\n",
       " '9',\n",
       " '3',\n",
       " '6',\n",
       " '9',\n",
       " '1',\n",
       " '10',\n",
       " '3',\n",
       " '10',\n",
       " '1',\n",
       " '2',\n",
       " '3',\n",
       " '5',\n",
       " '6',\n",
       " '8',\n",
       " '3',\n",
       " '5',\n",
       " '3',\n",
       " '2',\n",
       " '3',\n",
       " '5']"
      ]
     },
     "execution_count": 16,
     "metadata": {},
     "output_type": "execute_result"
    }
   ],
   "source": [
    "ret=[]\n",
    "q2list= df2['q1.2'].values\n",
    "for i in range(len(q2list)):\n",
    "  ret.extend(q2list[i].split(','))\n",
    "ret"
   ]
  },
  {
   "cell_type": "markdown",
   "metadata": {},
   "source": [
    "さあ、ここで、得られたリストの値は、カテゴリー変数とよばれれる変数です、'1'～'10'のカテゴリー毎に出現件数を集計するのにcollection.Counterを使います。"
   ]
  },
  {
   "cell_type": "code",
   "execution_count": 17,
   "metadata": {},
   "outputs": [
    {
     "data": {
      "text/plain": [
       "Counter({'1': 10,\n",
       "         '2': 11,\n",
       "         '3': 20,\n",
       "         '4': 4,\n",
       "         '5': 10,\n",
       "         '7': 1,\n",
       "         '10': 5,\n",
       "         '9': 6,\n",
       "         '8': 3,\n",
       "         '6': 2})"
      ]
     },
     "execution_count": 17,
     "metadata": {},
     "output_type": "execute_result"
    }
   ],
   "source": [
    "import collections\n",
    "\n",
    "c=collections.Counter(ret)\n",
    "c"
   ]
  },
  {
   "cell_type": "markdown",
   "metadata": {},
   "source": [
    "Counterは一種の辞書dictになっています。ここでキーを'1','2'ではなくて、設問にあった選択枝'VBA','C/C++'で付け替えます。\n",
    "\n",
    "popして代入することで１行で付け替えができることに注意ください。"
   ]
  },
  {
   "cell_type": "code",
   "execution_count": 18,
   "metadata": {},
   "outputs": [
    {
     "data": {
      "text/plain": [
       "Counter({'VBA': 10,\n",
       "         'C/C++': 11,\n",
       "         'Python': 20,\n",
       "         'Ruby': 4,\n",
       "         'Java': 10,\n",
       "         'FORTRAN': 2,\n",
       "         'COBOL': 1,\n",
       "         'Basic': 3,\n",
       "         'Other': 6,\n",
       "         'Non': 5})"
      ]
     },
     "execution_count": 18,
     "metadata": {},
     "output_type": "execute_result"
    }
   ],
   "source": [
    "c['VBA']=c.pop('1')\n",
    "c['C/C++']=c.pop('2')\n",
    "c['Python']=c.pop('3')\n",
    "c['Ruby']=c.pop('4')\n",
    "c['Java']=c.pop('5')\n",
    "c['FORTRAN']=c.pop('6')\n",
    "c['COBOL']=c.pop('7')\n",
    "c['Basic']=c.pop('8')\n",
    "c['Other']=c.pop('9')\n",
    "c['Non']=c.pop('10')\n",
    "c"
   ]
  },
  {
   "cell_type": "code",
   "execution_count": 19,
   "metadata": {},
   "outputs": [
    {
     "data": {
      "text/plain": [
       "dict_items([('VBA', 10), ('C/C++', 11), ('Python', 20), ('Ruby', 4), ('Java', 10), ('FORTRAN', 2), ('COBOL', 1), ('Basic', 3), ('Other', 6), ('Non', 5)])"
      ]
     },
     "execution_count": 19,
     "metadata": {},
     "output_type": "execute_result"
    }
   ],
   "source": [
    "c.items()"
   ]
  },
  {
   "cell_type": "code",
   "execution_count": 20,
   "metadata": {},
   "outputs": [
    {
     "data": {
      "text/plain": [
       "dict_values([10, 11, 20, 4, 10, 2, 1, 3, 6, 5])"
      ]
     },
     "execution_count": 20,
     "metadata": {},
     "output_type": "execute_result"
    }
   ],
   "source": [
    "c.values()"
   ]
  },
  {
   "cell_type": "markdown",
   "metadata": {},
   "source": [
    "## 円グラフの表示\n",
    "それでは円グラフを描いてみましょう"
   ]
  },
  {
   "cell_type": "code",
   "execution_count": 21,
   "metadata": {},
   "outputs": [
    {
     "data": {
      "text/plain": [
       "Text(0.5, 1.0, 'Programming Language  Experience')"
      ]
     },
     "execution_count": 21,
     "metadata": {},
     "output_type": "execute_result"
    },
    {
     "data": {
      "image/png": "[encoded data removed]",
      "text/plain": [
       "<Figure size 432x288 with 1 Axes>"
      ]
     },
     "metadata": {},
     "output_type": "display_data"
    }
   ],
   "source": [
    "import matplotlib.pyplot as plt\n",
    "\n",
    "plt.pie(c.values(),labels=c.keys(), counterclock=False, startangle=90, autopct=\"%.1f%%\",\n",
    "        pctdistance=0.7)\n",
    "plt.title('Programming Language  Experience')"
   ]
  },
  {
   "cell_type": "code",
   "execution_count": 22,
   "metadata": {},
   "outputs": [
    {
     "data": {
      "text/plain": [
       "33"
      ]
     },
     "execution_count": 22,
     "metadata": {},
     "output_type": "execute_result"
    }
   ],
   "source": [
    "len(q2list)"
   ]
  },
  {
   "cell_type": "markdown",
   "metadata": {},
   "source": [
    "## q1.3 Pythonを使った経験\n",
    "これは、３択なので簡単です。"
   ]
  },
  {
   "cell_type": "code",
   "execution_count": 23,
   "metadata": {},
   "outputs": [
    {
     "data": {
      "text/plain": [
       "24     2\n",
       "25     2\n",
       "26     3\n",
       "60     2\n",
       "69     2\n",
       "80     2\n",
       "84     3\n",
       "101    3\n",
       "105    3\n",
       "110    3\n",
       "122    2\n",
       "139    2\n",
       "167    1\n",
       "171    2\n",
       "172    1\n",
       "187    2\n",
       "191    3\n",
       "192    3\n",
       "194    1\n",
       "195    3\n",
       "198    3\n",
       "206    3\n",
       "208    3\n",
       "209    2\n",
       "211    2\n",
       "212    3\n",
       "213    3\n",
       "215    2\n",
       "216    3\n",
       "217    2\n",
       "218    2\n",
       "223    2\n",
       "224    2\n",
       "Name: q1.3, dtype: object"
      ]
     },
     "execution_count": 23,
     "metadata": {},
     "output_type": "execute_result"
    }
   ],
   "source": [
    "df2['q1.3']"
   ]
  },
  {
   "cell_type": "code",
   "execution_count": 24,
   "metadata": {},
   "outputs": [
    {
     "data": {
      "text/plain": [
       "Counter({'2': 16, '3': 14, '1': 3})"
      ]
     },
     "execution_count": 24,
     "metadata": {},
     "output_type": "execute_result"
    }
   ],
   "source": [
    "c3=collections.Counter(df2['q1.3'])\n",
    "c3"
   ]
  },
  {
   "cell_type": "code",
   "execution_count": 25,
   "metadata": {},
   "outputs": [
    {
     "data": {
      "text/plain": [
       "Counter({'over 3years': 3, 'less than 3years': 16, 'no python': 14})"
      ]
     },
     "execution_count": 25,
     "metadata": {},
     "output_type": "execute_result"
    }
   ],
   "source": [
    "c3['over 3years']=c3.pop('1')\n",
    "c3['less than 3years']=c3.pop('2')\n",
    "c3['no python']=c3.pop('3')\n",
    "c3"
   ]
  },
  {
   "cell_type": "code",
   "execution_count": 26,
   "metadata": {},
   "outputs": [
    {
     "data": {
      "text/plain": [
       "Text(0.5, 1.0, 'Python Experience')"
      ]
     },
     "execution_count": 26,
     "metadata": {},
     "output_type": "execute_result"
    },
    {
     "name": "stderr",
     "output_type": "stream",
     "text": [
      "findfont: Font family ['IPAexGothic'] not found. Falling back to DejaVu Sans.\n",
      "findfont: Font family ['IPAexGothic'] not found. Falling back to DejaVu Sans.\n"
     ]
    },
    {
     "data": {
      "image/png": "[encoded data removed]",
      "text/plain": [
       "<Figure size 432x288 with 1 Axes>"
      ]
     },
     "metadata": {},
     "output_type": "display_data"
    }
   ],
   "source": [
    "plt.rcParams['font.family'] = 'IPAexGothic'\n",
    "plt.pie(c3.values(),labels=c3.keys(), counterclock=False, startangle=90, autopct=\"%.1f%%\",\n",
    "        pctdistance=0.7)\n",
    "plt.title('Python Experience')"
   ]
  },
  {
   "cell_type": "markdown",
   "metadata": {},
   "source": [
    "## q1.1　統計を学んだ経験\n",
    "これも、複数選択された結果を集計します。\n"
   ]
  },
  {
   "cell_type": "code",
   "execution_count": 27,
   "metadata": {},
   "outputs": [
    {
     "data": {
      "text/plain": [
       "24         6\n",
       "25         1\n",
       "26       1,2\n",
       "60     3,5,7\n",
       "69         1\n",
       "80       3,5\n",
       "84         2\n",
       "101      1,7\n",
       "105        1\n",
       "110    3,4,5\n",
       "122        5\n",
       "139        1\n",
       "167        3\n",
       "171        5\n",
       "172      2,5\n",
       "187        2\n",
       "191        5\n",
       "192        5\n",
       "194        5\n",
       "195        2\n",
       "198        6\n",
       "206        1\n",
       "208        1\n",
       "209      4,5\n",
       "211    2,4,5\n",
       "212    3,4,5\n",
       "213        6\n",
       "215        6\n",
       "216      3,6\n",
       "217      1,2\n",
       "218        2\n",
       "223        5\n",
       "224        6\n",
       "Name: q1.1, dtype: object"
      ]
     },
     "execution_count": 27,
     "metadata": {},
     "output_type": "execute_result"
    }
   ],
   "source": [
    "df2['q1.1']"
   ]
  },
  {
   "cell_type": "code",
   "execution_count": 28,
   "metadata": {},
   "outputs": [
    {
     "data": {
      "text/plain": [
       "['6',\n",
       " '1',\n",
       " '1',\n",
       " '2',\n",
       " '3',\n",
       " '5',\n",
       " '7',\n",
       " '1',\n",
       " '3',\n",
       " '5',\n",
       " '2',\n",
       " '1',\n",
       " '7',\n",
       " '1',\n",
       " '3',\n",
       " '4',\n",
       " '5',\n",
       " '5',\n",
       " '1',\n",
       " '3',\n",
       " '5',\n",
       " '2',\n",
       " '5',\n",
       " '2',\n",
       " '5',\n",
       " '5',\n",
       " '5',\n",
       " '2',\n",
       " '6',\n",
       " '1',\n",
       " '1',\n",
       " '4',\n",
       " '5',\n",
       " '2',\n",
       " '4',\n",
       " '5',\n",
       " '3',\n",
       " '4',\n",
       " '5',\n",
       " '6',\n",
       " '6',\n",
       " '3',\n",
       " '6',\n",
       " '1',\n",
       " '2',\n",
       " '2',\n",
       " '5',\n",
       " '6']"
      ]
     },
     "execution_count": 28,
     "metadata": {},
     "output_type": "execute_result"
    }
   ],
   "source": [
    "q1list= df2['q1.1'].ravel()\n",
    "ret=[]\n",
    "for i in range(len(q1list)):\n",
    "  ret.extend(q1list[i].split(','))\n",
    "ret"
   ]
  },
  {
   "cell_type": "code",
   "execution_count": 29,
   "metadata": {},
   "outputs": [
    {
     "data": {
      "text/plain": [
       "Counter({'6': 6, '1': 9, '2': 8, '3': 6, '5': 13, '7': 2, '4': 4})"
      ]
     },
     "execution_count": 29,
     "metadata": {},
     "output_type": "execute_result"
    }
   ],
   "source": [
    "c1=collections.Counter(ret)\n",
    "c1"
   ]
  },
  {
   "cell_type": "code",
   "execution_count": 30,
   "metadata": {},
   "outputs": [],
   "source": [
    "c1['HighSchool']=c1.pop('1')\n",
    "c1['University']=c1.pop('2')\n",
    "c1['GradSchool']=c1.pop('3')\n",
    "c1['OJT']=c1.pop('4')\n",
    "c1['SelfTaught']=c1.pop('5')\n",
    "c1['NoStatistics']=c1.pop('6')\n",
    "c1['Other']=c1.pop('7')"
   ]
  },
  {
   "cell_type": "code",
   "execution_count": 31,
   "metadata": {},
   "outputs": [
    {
     "data": {
      "text/plain": [
       "Counter({'HighSchool': 9,\n",
       "         'University': 8,\n",
       "         'GradSchool': 6,\n",
       "         'OJT': 4,\n",
       "         'SelfTaught': 13,\n",
       "         'NoStatistics': 6,\n",
       "         'Other': 2})"
      ]
     },
     "execution_count": 31,
     "metadata": {},
     "output_type": "execute_result"
    }
   ],
   "source": [
    "c1"
   ]
  },
  {
   "cell_type": "code",
   "execution_count": 32,
   "metadata": {},
   "outputs": [
    {
     "data": {
      "text/plain": [
       "Text(0.5, 1.0, 'Statistic Course Experience')"
      ]
     },
     "execution_count": 32,
     "metadata": {},
     "output_type": "execute_result"
    },
    {
     "data": {
      "image/png": "[encoded data removed]",
      "text/plain": [
       "<Figure size 432x288 with 1 Axes>"
      ]
     },
     "metadata": {},
     "output_type": "display_data"
    }
   ],
   "source": [
    "plt.pie(c1.values(),labels=c1.keys(), counterclock=False, startangle=90, autopct=\"%.1f%%\",\n",
    "        pctdistance=0.7)\n",
    "plt.title('Statistic Course Experience')"
   ]
  },
  {
   "cell_type": "code",
   "execution_count": null,
   "metadata": {},
   "outputs": [],
   "source": []
  }
 ],
 "metadata": {
  "interpreter": {
   "hash": "2db524e06e9f5f4ffedc911c917cb75e12dbc923643829bf417064a77eb14d37"
  },
  "kernelspec": {
   "display_name": "Environment (conda_caret2test)",
   "language": "python",
   "name": "python3"
  },
  "language_info": {
   "codemirror_mode": {
    "name": "ipython",
    "version": 3
   },
   "file_extension": ".py",
   "mimetype": "text/x-python",
   "name": "python",
   "nbconvert_exporter": "python",
   "pygments_lexer": "ipython3",
   "version": "3.8.3"
  },
  "orig_nbformat": 4
 },
 "nbformat": 4,
 "nbformat_minor": 2
}
