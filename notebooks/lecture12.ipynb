{
  "cells": [
    {
      "cell_type": "markdown",
      "metadata": {
        "id": "WlGfndrypIZs"
      },
      "source": [
        "# Lecture12 画像処理"
      ]
    },
    {
      "cell_type": "markdown",
      "metadata": {
        "id": "YHI4F2xypIZv"
      },
      "source": [
        "matplotlibで指定可能な色"
      ]
    },
    {
      "cell_type": "code",
      "execution_count": null,
      "metadata": {
        "id": "fUhxvwK5pIZw"
      },
      "outputs": [],
      "source": [
        "import matplotlib\n",
        "matplotlib.colors.cnames\n",
        "\n",
        "FLAG_fig=False"
      ]
    },
    {
      "cell_type": "markdown",
      "metadata": {
        "id": "qmcPWVwUpIZy"
      },
      "source": [
        "## 16 進数のカラーコードで指定\n",
        "#ff0000 (赤), #000000 (黒) のような、HTML や CSS で用いられる 16 進数で指定することもできます"
      ]
    },
    {
      "cell_type": "code",
      "execution_count": null,
      "metadata": {
        "colab": {
          "base_uri": "https://localhost:8080/",
          "height": 283
        },
        "id": "ElSrGtRVpIZy",
        "outputId": "73ccaee4-f2eb-42c4-c9c6-e7252354c5e8"
      },
      "outputs": [],
      "source": [
        "import matplotlib.pyplot as plt\n",
        "import numpy as np\n",
        " \n",
        "fig = plt.figure()\n",
        "fig.patch.set_facecolor('white')\n",
        " \n",
        "colorlist = ['#e41a1c', '#377eb8', '#4daf4a', '#984ea3', '#ff7f00', '#ffff33', '#a65628', '#f781bf']\n",
        "x = np.arange(1, 9)\n",
        "height = np.arange(1, 9)\n",
        "plt.barh(x, height, color=colorlist, tick_label=colorlist, align=\"center\")\n",
        "\n"
      ]
    },
    {
      "cell_type": "markdown",
      "metadata": {
        "id": "h91njuzJpIZ0"
      },
      "source": [
        "## RGB で指定\n",
        "RGB それぞれのを色の要素を 0.0 ～ 1.0 のタプルで指定することも可能です。"
      ]
    },
    {
      "cell_type": "code",
      "execution_count": null,
      "metadata": {
        "colab": {
          "base_uri": "https://localhost:8080/",
          "height": 283
        },
        "id": "Bg1JpSr_pIZ1",
        "outputId": "4ae9540d-a9f4-43b1-950f-6c525060a812"
      },
      "outputs": [],
      "source": [
        "import matplotlib.pyplot as plt\n",
        "import numpy as np\n",
        " \n",
        "fig = plt.figure()\n",
        "fig.patch.set_facecolor('white')\n",
        " \n",
        "col1 = [0.0, 0.0, 0.0]\n",
        "col2 = [1.0, 0.0, 0.0]\n",
        "col3 = [0.0, 1.0, 0.0]\n",
        "col4 = [0.0, 0.0, 1.0]\n",
        "colorlist = [col1, col2, col3, col4]\n",
        " \n",
        "x = np.arange(1, 5)\n",
        "height = np.arange(1, 5)\n",
        "#plt.bar(x, height, color=colorlist, tick_label=colorlist, align=\"center\")\n",
        "plt.bar(x, height, color=colorlist,  align=\"center\")"
      ]
    },
    {
      "cell_type": "markdown",
      "metadata": {
        "id": "thR2gbSXpIZ2"
      },
      "source": [
        "### グレースケールで指定\n",
        "‘0.0’ (黒) ～ ‘1.0’ (白) のグレースケールで指定することもできます。作成した資料を白黒印刷する場合に便利です"
      ]
    },
    {
      "cell_type": "code",
      "execution_count": null,
      "metadata": {
        "colab": {
          "base_uri": "https://localhost:8080/",
          "height": 248
        },
        "id": "S9qllHivpIZ2",
        "outputId": "9f17f6e2-86a5-4c81-a830-71326f871adc"
      },
      "outputs": [],
      "source": [
        "import matplotlib.pyplot as plt\n",
        " \n",
        "x = [10, 10, 10, 10, 10, 10, 10, 10, 10, 10]\n",
        "colorlist = [\"0.1\", \"0.2\", \"0.3\", \"0.4\", \"0.5\", \"0.6\", \"0.7\", \"0.8\", \"0.9\", \"1.0\"]\n",
        "plt.pie(x, labels=colorlist, counterclock=False, startangle=90, colors=colorlist)\n",
        "if FLAG_fig: plt.savefig('IMG_colorcodeGrayScale.png')"
      ]
    },
    {
      "cell_type": "markdown",
      "metadata": {},
      "source": [
        "## Scikit-Imageによる画像入力"
      ]
    },
    {
      "cell_type": "code",
      "execution_count": null,
      "metadata": {},
      "outputs": [],
      "source": [
        "! pip install scikit-image"
      ]
    },
    {
      "cell_type": "code",
      "execution_count": null,
      "metadata": {},
      "outputs": [],
      "source": [
        "from skimage import data, io, filters, color, img_as_ubyte\n",
        "import numpy as np\n",
        "import matplotlib.pyplot as plt"
      ]
    },
    {
      "cell_type": "code",
      "execution_count": null,
      "metadata": {},
      "outputs": [],
      "source": [
        "img = io.imread(\"data/baboon.jpg\")"
      ]
    },
    {
      "cell_type": "code",
      "execution_count": null,
      "metadata": {},
      "outputs": [],
      "source": [
        "img.shape #読み込んだinstance画像のサイズ（タテ・ヨコ・次元）を確認 (次元：RGB画像なので，3次元)"
      ]
    },
    {
      "cell_type": "code",
      "execution_count": null,
      "metadata": {},
      "outputs": [],
      "source": [
        "img #読み込んだインスタンスについて，データ表示"
      ]
    },
    {
      "cell_type": "markdown",
      "metadata": {},
      "source": [
        "表示"
      ]
    },
    {
      "cell_type": "code",
      "execution_count": null,
      "metadata": {},
      "outputs": [],
      "source": [
        "io.imshow(img)"
      ]
    },
    {
      "cell_type": "markdown",
      "metadata": {},
      "source": [
        "グレイ変換"
      ]
    },
    {
      "cell_type": "code",
      "execution_count": null,
      "metadata": {},
      "outputs": [],
      "source": [
        "imgGray = color.rgb2gray(img)\n",
        "imgGray = img_as_ubyte(imgGray)\n",
        "io.imshow(imgGray)\n",
        "imgGray"
      ]
    },
    {
      "cell_type": "markdown",
      "metadata": {},
      "source": [
        "統計量"
      ]
    },
    {
      "cell_type": "code",
      "execution_count": null,
      "metadata": {},
      "outputs": [],
      "source": [
        "#print('pixel num', np.count(img_yiq[:, :, 0]))\n",
        "print('pixel sum', np.sum(imgGray[:, :]))\n",
        "print('pixel mean', np.mean(imgGray[:,:]))\n",
        "print('pixel variance', np.var(imgGray[:,:]))\n",
        "print('pixel stddev', np.std(imgGray[:,:]))"
      ]
    },
    {
      "cell_type": "markdown",
      "metadata": {},
      "source": [
        "ヒストグラムを表示"
      ]
    },
    {
      "cell_type": "code",
      "execution_count": null,
      "metadata": {},
      "outputs": [],
      "source": [
        "hists, bins=np.histogram(imgGray, 255, [0, 255])"
      ]
    },
    {
      "cell_type": "code",
      "execution_count": null,
      "metadata": {},
      "outputs": [],
      "source": [
        "plt.plot(hists)"
      ]
    },
    {
      "cell_type": "markdown",
      "metadata": {},
      "source": [
        "ネガポジ反転"
      ]
    },
    {
      "cell_type": "code",
      "execution_count": null,
      "metadata": {},
      "outputs": [],
      "source": [
        "ImNega = 255 - imgGray # ネガポジはこれだけ\n",
        "plt.imshow(ImNega)\n",
        "plt.gray()"
      ]
    },
    {
      "cell_type": "markdown",
      "metadata": {},
      "source": [
        "２値化"
      ]
    },
    {
      "cell_type": "code",
      "execution_count": null,
      "metadata": {},
      "outputs": [],
      "source": [
        "height,width= imgGray.shape\n",
        "ret = filters.threshold_otsu(imgGray) #しきい値を自動で判別\n",
        "imgBinary = np.zeros((height, width))\n",
        "imgBinary = imgGray > ret #しきい値にもとづいて，2値化処理実行\n",
        "ret"
      ]
    },
    {
      "cell_type": "code",
      "execution_count": null,
      "metadata": {},
      "outputs": [],
      "source": [
        "plt.imshow(imgBinary)"
      ]
    },
    {
      "cell_type": "markdown",
      "metadata": {
        "id": "qQ8SKkb1pIZ3"
      },
      "source": [
        "## OpenCV\n",
        "\n",
        "https://tellusxdp.github.io/start-python-with-tellus/lesson8.html\n",
        "\n",
        "とかみている"
      ]
    },
    {
      "cell_type": "markdown",
      "metadata": {
        "id": "CWTK-P_RpIZ4"
      },
      "source": [
        " pip install opencv-python"
      ]
    },
    {
      "cell_type": "code",
      "execution_count": null,
      "metadata": {
        "id": "X2cv18mFpIZ4"
      },
      "outputs": [],
      "source": [
        "# -*- coding: utf-8 -*-\n",
        "import cv2\n",
        "import numpy as np"
      ]
    },
    {
      "cell_type": "markdown",
      "metadata": {
        "id": "52w5LGbIpIZ4"
      },
      "source": [
        "画像ファイルを読んで表示します。"
      ]
    },
    {
      "cell_type": "code",
      "execution_count": null,
      "metadata": {
        "colab": {
          "base_uri": "https://localhost:8080/",
          "height": 287
        },
        "id": "im4IX6hFpIZ5",
        "outputId": "6f148ae5-a30d-44e0-f70a-37528f71cfa1"
      },
      "outputs": [],
      "source": [
        "img_org = cv2.imread('data/lena_std.tif') # オリジナル画像の入力\n",
        "\n",
        "plt.imshow(img_org)"
      ]
    },
    {
      "cell_type": "markdown",
      "metadata": {
        "id": "0Y7IiICzpIZ5"
      },
      "source": [
        "OpenCVでimreadを使って読み込む場合、既定では、画像を「BGR」（青・緑・赤）の順の配列として読み込みます。対して、表示するためのmatplotlib.imshow()では、画像が「RGB」（赤・緑・青）の順の配列として構成されていることを前提としています。そのため、このまま表示すると、青と赤が入れ替わってしまうため、先に表示したように色がおかしくなってしまうのです。"
      ]
    },
    {
      "cell_type": "code",
      "execution_count": null,
      "metadata": {
        "colab": {
          "base_uri": "https://localhost:8080/",
          "height": 287
        },
        "id": "Ixi6pNADpIZ5",
        "outputId": "15aeef66-19c6-4289-b801-bbf0d48b5109"
      },
      "outputs": [],
      "source": [
        "# BGRの画像をRGBに変換\n",
        "rgb_img_org = cv2.cvtColor(img_org, cv2.COLOR_BGR2RGB)\n",
        "plt.imshow(rgb_img_org)"
      ]
    },
    {
      "cell_type": "markdown",
      "metadata": {
        "id": "ripjghyrpIZ6"
      },
      "source": []
    },
    {
      "cell_type": "code",
      "execution_count": null,
      "metadata": {
        "colab": {
          "base_uri": "https://localhost:8080/",
          "height": 441
        },
        "id": "IhOZKjTwpIZ6",
        "outputId": "7a0d79cc-582f-43b7-f917-eb719426527f"
      },
      "outputs": [],
      "source": [
        "img_org = cv2.imread('data/lec12_sample.png') # オリジナル画像の入力\n",
        "rgb_img_org = cv2.cvtColor(img_org, cv2.COLOR_BGR2RGB)\n",
        "\n",
        "plt.figure(figsize = (10,8))\n",
        "plt.imshow(rgb_img_org)"
      ]
    },
    {
      "cell_type": "code",
      "execution_count": null,
      "metadata": {
        "colab": {
          "base_uri": "https://localhost:8080/",
          "height": 441
        },
        "id": "IESH3NgppIZ6",
        "outputId": "702eac7c-89c2-47bd-96e4-0a32d3ed9289"
      },
      "outputs": [],
      "source": [
        "# グレースケール変換\n",
        "img_gray = cv2.cvtColor(img_org, cv2.COLOR_BGR2GRAY)\n",
        "plt.figure(figsize = (10,8))\n",
        "plt.imshow( img_gray, cmap='gray')"
      ]
    },
    {
      "cell_type": "code",
      "execution_count": null,
      "metadata": {
        "colab": {
          "base_uri": "https://localhost:8080/",
          "height": 441
        },
        "id": "sl5ePlhjpIZ7",
        "outputId": "cdb8de6a-0113-4d6c-a2d6-ccc379a36285"
      },
      "outputs": [],
      "source": [
        "#平均値フィルタ\n",
        "\n",
        "kernel_mean_3x3 = np.array([\n",
        "                            [1/9,  1/9, 1/9],\n",
        "                            [1/9,  1/9, 1/9],\n",
        "                            [1/9,  1/9, 1/9]\n",
        "                            ], np.float32)\n",
        "img_mean_3x3 = cv2.filter2D(img_gray, -1, kernel_mean_3x3)\n",
        "plt.figure(figsize = (10,8))\n",
        "plt.imshow( img_mean_3x3, cmap='gray')"
      ]
    },
    {
      "cell_type": "markdown",
      "metadata": {
        "id": "1iGkJtlrpIZ7"
      },
      "source": []
    },
    {
      "cell_type": "code",
      "execution_count": null,
      "metadata": {
        "colab": {
          "base_uri": "https://localhost:8080/",
          "height": 441
        },
        "id": "6hciClsapIZ7",
        "outputId": "8b4c33f7-7f90-407d-d155-892910d71e11"
      },
      "outputs": [],
      "source": [
        "# ラプラシアン フィルタ（３×３）\n",
        "kernel_laplacian_3x3 = np.array([\n",
        "                            [1,  1, 1],\n",
        "                            [1, -8, 1],\n",
        "                            [1,  1, 1]\n",
        "                            ], np.float32)\n",
        "img_laplacian_3x3 = cv2.filter2D(img_gray, -1, kernel_laplacian_3x3)\n",
        "plt.figure(figsize = (10,8))\n",
        "plt.imshow( img_laplacian_3x3, cmap='gray')"
      ]
    },
    {
      "cell_type": "code",
      "execution_count": null,
      "metadata": {
        "colab": {
          "base_uri": "https://localhost:8080/",
          "height": 441
        },
        "id": "3Ce5t-VHpIZ8",
        "outputId": "e86549d9-806b-41f5-dd99-eee911615813"
      },
      "outputs": [],
      "source": [
        "# 鮮鋭化 フィルタ（３×３）\n",
        "kernel_sharp_3x3 = np.array([\n",
        "                            [0,  -1, 0],\n",
        "                            [-1, 5, -1],\n",
        "                            [0,  -1, 0]\n",
        "                            ], np.float32)\n",
        "img_sharp_3x3 = cv2.filter2D(img_gray, -1, kernel_sharp_3x3)\n",
        "plt.figure(figsize = (10,8))\n",
        "plt.imshow( img_sharp_3x3, cmap='gray')"
      ]
    },
    {
      "cell_type": "code",
      "execution_count": null,
      "metadata": {
        "colab": {
          "base_uri": "https://localhost:8080/",
          "height": 441
        },
        "id": "ySxQBugLpIZ8",
        "outputId": "83d7314f-beb1-4289-b3e0-558dc87cb757"
      },
      "outputs": [],
      "source": [
        "# ガウシアン フィルタ\n",
        "kernel_gaussian = np.array([\n",
        "                            [1,  2, 1],\n",
        "                            [2,  4, 2],\n",
        "                            [1,  2, 1]\n",
        "                            ], np.float32) / 16\n",
        "img_gaussian = cv2.filter2D(img_gray, -1, kernel_gaussian)\n",
        "plt.figure(figsize = (10,8))\n",
        "plt.imshow( img_gaussian, cmap='gray')"
      ]
    },
    {
      "cell_type": "code",
      "execution_count": null,
      "metadata": {
        "colab": {
          "base_uri": "https://localhost:8080/",
          "height": 441
        },
        "id": "IYodBek-pIZ8",
        "outputId": "04708aa8-bbcb-4588-9328-26fb12f0b876"
      },
      "outputs": [],
      "source": [
        "#エッジ抽出\n",
        "#edge_sob_x = cv2.Sobel(img_gray,cv2.CV_32F,1,0,ksize=5)\n",
        "kernel_gaussian = np.array([\n",
        "                            [1,  0, -1],\n",
        "                            [2,  0, -2],\n",
        "                            [1,  0, -1]\n",
        "                            ], np.float32) / 16\n",
        "img_gaussian = cv2.filter2D(img_gray, -1, kernel_gaussian)\n",
        "plt.figure(figsize = (10,8))\n",
        "plt.imshow(edge_sob_x, cmap='gray')"
      ]
    },
    {
      "cell_type": "markdown",
      "metadata": {
        "id": "_QCdFEBkpIZ9"
      },
      "source": [
        "## GrayScale\n",
        "matplotlibの既定のカラーマップ設定によるものです。既定では、グレースケール画像の場合、色味が暗いほど青く、明るくなるにつれて 青 → 緑 → 黄色 の色味で表示されるという設定になっています。\n",
        "\n",
        "そのため、JupyterLabで正しく 黒 → グレー → 白 の色味でモノクロ画像を表示するには、imshow() に、黒 → グレー → 白 の色味で表示できるよう、カラーマップの設定を追加する必要があります。具体的なコードの記述方法としては、 imshow() に cmap=\"gray\" というキーワード引数を追記します。"
      ]
    },
    {
      "cell_type": "code",
      "execution_count": null,
      "metadata": {
        "id": "5x2IMnfCpIZ9",
        "outputId": "190c3e13-4e94-49a3-be07-f7bc42d78f81"
      },
      "outputs": [],
      "source": [
        "img_gry = cv2.cvtColor(img_org, cv2.COLOR_BGR2GRAY) # グレイスケールに変換\n",
        "plt.imshow(img_gry, cmap='gray')\n",
        "\n"
      ]
    },
    {
      "cell_type": "markdown",
      "metadata": {
        "id": "SImv1csNpIZ9"
      },
      "source": [
        "スレッシュホールド値をへんかさせてみます。"
      ]
    },
    {
      "cell_type": "code",
      "execution_count": null,
      "metadata": {
        "id": "m236CTCvpIZ9",
        "outputId": "0a558940-3ebd-4b05-8dce-e192ff1fdcaa"
      },
      "outputs": [],
      "source": [
        "DEFAULT_THRESH_VAL = 128 # 閾値処理のデフォルト値\n",
        "MAX_VAL = 255            # 8bit 階調を表す\n",
        "\n",
        "threshVal = 50\n",
        "retVal, img_bin = cv2.threshold(img_gry, threshVal, MAX_VAL, type=cv2.THRESH_BINARY)\n",
        "plt.imshow(img_bin, cmap='gray')"
      ]
    },
    {
      "cell_type": "code",
      "execution_count": null,
      "metadata": {
        "id": "3hdS8OKEpIZ-",
        "outputId": "22f48be5-dde6-47e9-9807-139c6148cbef"
      },
      "outputs": [],
      "source": [
        "threshVal = 128\n",
        "retVal, img_bin = cv2.threshold(img_gry, threshVal, MAX_VAL, type=cv2.THRESH_BINARY)\n",
        "plt.imshow(img_bin, cmap='gray')\n",
        "if FLAG_fig: plt.savefig('IMG_GrayTh_128.png')"
      ]
    },
    {
      "cell_type": "code",
      "execution_count": null,
      "metadata": {
        "id": "nu4Pdw71pIZ-",
        "outputId": "b5766541-f8c7-4569-afbe-fe499891c8df"
      },
      "outputs": [],
      "source": [
        "threshVal = 164\n",
        "retVal, img_bin = cv2.threshold(img_gry, threshVal, MAX_VAL, type=cv2.THRESH_BINARY)\n",
        "plt.imshow(img_bin, cmap='gray')\n",
        "if FLAG_fig: plt.savefig('IMG_GrayTh_164.png')"
      ]
    },
    {
      "cell_type": "markdown",
      "metadata": {
        "id": "-9H41yiJpIZ-"
      },
      "source": []
    },
    {
      "cell_type": "markdown",
      "metadata": {
        "id": "0yXpgn4UpIZ-"
      },
      "source": [
        "## エッジ検出"
      ]
    },
    {
      "cell_type": "code",
      "execution_count": null,
      "metadata": {
        "id": "w6wjQjpPpIZ-",
        "outputId": "4216ff94-0679-494e-e18d-c023eb208841"
      },
      "outputs": [],
      "source": [
        "img_org = cv2.imread('data/test.jpg') # オリジナル画像の入力\n",
        "img = cv2.cvtColor(img_org, cv2.COLOR_BGR2GRAY) # グレイスケールに変換\n",
        "\n",
        "edge_sob_x = cv2.Sobel(img,cv2.CV_32F,1,0,ksize=5)\n",
        "plt.imshow(edge_sob_x, cmap='gray')\n",
        "if FLAG_fig: plt.savefig('IMG_edge_sob_x.png')"
      ]
    },
    {
      "cell_type": "code",
      "execution_count": null,
      "metadata": {
        "id": "Lutj6M4rpIZ-",
        "outputId": "b341582e-80b4-4c7c-a996-fac212e31395"
      },
      "outputs": [],
      "source": [
        "edge_lapl = cv2.Laplacian(img, cv2.CV_32F) \n",
        "plt.imshow(edge_lapl, cmap='gray')\n",
        "if FLAG_fig: plt.savefig('IMG_edge_lapl.png')"
      ]
    },
    {
      "cell_type": "markdown",
      "metadata": {
        "id": "9X68B04kpIZ_"
      },
      "source": []
    },
    {
      "cell_type": "code",
      "execution_count": null,
      "metadata": {
        "id": "iUOGER7-pIZ_",
        "outputId": "4ac58577-307a-4ea2-abdf-62e119c1977b"
      },
      "outputs": [],
      "source": [
        "edge_cann = cv2.Canny(img, 80, 120)\n",
        "plt.imshow(edge_cann, cmap='gray')\n",
        "if FLAG_fig: plt.savefig('IMG_edge_cann.png')"
      ]
    },
    {
      "cell_type": "markdown",
      "metadata": {
        "id": "8EPAVQoBpIZ_"
      },
      "source": [
        "## 周波数フィルタリング"
      ]
    },
    {
      "cell_type": "code",
      "execution_count": null,
      "metadata": {
        "id": "TebJl6t6pIZ_"
      },
      "outputs": [],
      "source": [
        "import numpy as np\n",
        "import cv2\n",
        "from matplotlib import pyplot as plt"
      ]
    },
    {
      "cell_type": "code",
      "execution_count": null,
      "metadata": {
        "colab": {
          "base_uri": "https://localhost:8080/",
          "height": 377
        },
        "id": "87jMaTvapIZ_",
        "outputId": "52860e19-5788-4549-8126-4668da732dcf"
      },
      "outputs": [],
      "source": [
        "img = cv2.imread('data/baboon.jpg',0)\n",
        "\n",
        "dft = cv2.dft(np.float32(img), flags = cv2.DFT_COMPLEX_OUTPUT)\n",
        "dft_shift = np.fft.fftshift(dft)\n",
        "\n",
        "magnitude_spectrum = 20*np.log(cv2.magnitude(dft_shift[:,:,0],dft_shift[:,:,1]))\n",
        "\n",
        "rows, cols = img.shape\n",
        "crow,ccol = int(rows/2) , int(cols/2)\n",
        "\n",
        "isize=10 # マスクの半分のサイズ\n",
        "\n",
        "# ローパスフィルタ用マスクの作成，中心正方領域は1，それ以外は0\n",
        "mask = np.zeros((rows,cols,2),np.uint8)\n",
        "mask[crow-isize:crow+isize, ccol-isize:ccol+isize] = 1\n",
        "# apply mask and inverse DFT\n",
        "fshift = dft_shift*mask\n",
        "f_ishift = np.fft.ifftshift(fshift)\n",
        "img_back1 = cv2.idft(f_ishift)\n",
        "img_back1 = cv2.magnitude(img_back1[:,:,0],img_back1[:,:,1])\n",
        "\n",
        "# ハイパスフィルタ用マスクの作成，中心正方領域は0，それ以外は1\n",
        "mask = np.ones((rows,cols,2),np.uint8)\n",
        "mask[crow-isize:crow+isize, ccol-isize:ccol+isize] = 0\n",
        "# apply mask and inverse DFT\n",
        "fshift = dft_shift*mask\n",
        "f_ishift = np.fft.ifftshift(fshift)\n",
        "img_back2 = cv2.idft(f_ishift)\n",
        "img_back2 = cv2.magnitude(img_back2[:,:,0],img_back2[:,:,1])\n",
        "\n",
        "\n",
        "fig, ((axLU, axRU), (axLL, axRL)) = plt.subplots(nrows=2, ncols=2, figsize=(10,6))\n",
        "\n",
        "axLU.imshow(img, cmap = 'gray')\n",
        "axLU.set_title('Input image'),\n",
        "axLU.set_xticks([]), axLU.set_yticks([]) # Remove ticks\n",
        "\n",
        "axRU.imshow(magnitude_spectrum, cmap = 'gray')\n",
        "axRU.set_title('Magnitude Spectrum')\n",
        "axRU.set_xticks([])\n",
        "axRU.set_yticks([])\n",
        "\n",
        "axLL.imshow(img_back1, cmap = 'gray')\n",
        "axLL.set_title('Inverse FFT with Lowpass '),\n",
        "axLL.set_xticks([])\n",
        "axLL.set_yticks([]) # Remove ticks\n",
        "\n",
        "axRL.imshow(img_back2, cmap = 'gray')\n",
        "axRL.set_title('Inverse FFT with Highpass')\n",
        "axRL.set_xticks([])\n",
        "axRL.set_yticks([])\n",
        "if FLAG_fig: plt.savefig('IMG_DFT.png')\n",
        "plt.show()\n"
      ]
    },
    {
      "cell_type": "markdown",
      "metadata": {
        "id": "plW6rTKNpIaA"
      },
      "source": [
        "## 特徴点抽出"
      ]
    },
    {
      "cell_type": "code",
      "execution_count": null,
      "metadata": {
        "id": "cMdkqMSspIaA"
      },
      "outputs": [],
      "source": [
        "import cv2\n",
        "import sys\n",
        "\n",
        "# Haar-like特徴分類器の読み込み\n",
        "face_cascade = cv2.CascadeClassifier('data/haarcascade_frontalface_default.xml')\n",
        "eye_cascade = cv2.CascadeClassifier('data/haarcascade_eye.xml')\n",
        "\n",
        "# 顔データの読込み\n",
        "img = cv2.imread('data/face.png')\n",
        "\n",
        "# グレースケール変換\n",
        "gray = cv2.cvtColor(img, cv2.COLOR_BGR2GRAY)\n",
        "\n",
        "# 顔を検知\n",
        "faces = face_cascade.detectMultiScale(gray)"
      ]
    },
    {
      "cell_type": "code",
      "execution_count": null,
      "metadata": {
        "id": "cMe6IHh2pIaA"
      },
      "outputs": [],
      "source": [
        "for (x,y,w,h) in faces:\n",
        "    # 検知した顔を矩形で囲む\n",
        "    cv2.rectangle(img,(x,y),(x+w,y+h),(255,0,0),2)\n",
        "    # 顔画像（グレースケール）\n",
        "    roi_gray = gray[y:y+h, x:x+w]\n",
        "    # 顔画像（カラースケール）\n",
        "    roi_color = img[y:y+h, x:x+w]\n",
        "    # 顔の中から目を検知\n",
        "    eyes = eye_cascade.detectMultiScale(roi_gray)\n",
        "    for (ex,ey,ew,eh) in eyes:\n",
        "        # 検知した目を矩形で囲む\n",
        "        cv2.rectangle(roi_color,(ex,ey),(ex+ew,ey+eh),(0,255,0),2)"
      ]
    },
    {
      "cell_type": "code",
      "execution_count": null,
      "metadata": {
        "colab": {
          "base_uri": "https://localhost:8080/",
          "height": 287
        },
        "id": "NkiQQnd9pIaA",
        "outputId": "21c6015e-4030-49ad-8d3f-557f536dcad0"
      },
      "outputs": [],
      "source": [
        "# 画像表示\n",
        "plt.imshow(img, cmap='gray')"
      ]
    },
    {
      "cell_type": "markdown",
      "metadata": {
        "id": "vt9H_R7P1qAp"
      },
      "source": [
        "### コーナー検出"
      ]
    },
    {
      "cell_type": "code",
      "execution_count": null,
      "metadata": {
        "colab": {
          "base_uri": "https://localhost:8080/",
          "height": 287
        },
        "id": "WtKDzXQ1pIaA",
        "outputId": "cee526e4-9e20-4f22-fb4f-d3d357ef974c"
      },
      "outputs": [],
      "source": [
        "img_org = cv2.imread('data/lec12_sample.png') # オリジナル画像の入力\n",
        "img_gray = cv2.cvtColor(img_org, cv2.COLOR_BGR2GRAY)\n",
        "\n",
        "#コーナーの検出\n",
        "corners = cv2.cornerHarris(img_gray, 3,1,0.04)\n",
        "plt.imshow(corners, cmap='gray')"
      ]
    },
    {
      "cell_type": "markdown",
      "metadata": {
        "id": "PUV5ReBd2eOe"
      },
      "source": [
        "### SHIFT特徴量\n",
        "\n",
        "は、特許権利関連で、使えない(2022に特許が切れるといううわさもある）\n"
      ]
    },
    {
      "cell_type": "code",
      "execution_count": null,
      "metadata": {
        "colab": {
          "base_uri": "https://localhost:8080/",
          "height": 263
        },
        "id": "Or_zCIjs1_p4",
        "outputId": "3c130b40-eb22-47e6-bd41-0b4eafbed25f"
      },
      "outputs": [],
      "source": [
        "sift = cv2.xfeatures2d.SIFT_create()\n",
        "keypoints, descriptors = sift.detectAndCompute(img_gray, None)\n",
        "img_sift = cv2.drawKeypoints(img_gray, keypoints, None, flags=4)\n",
        "plt.imshow(img_sift, cmap='gray')"
      ]
    },
    {
      "cell_type": "code",
      "execution_count": null,
      "metadata": {
        "colab": {
          "base_uri": "https://localhost:8080/"
        },
        "id": "BQRO1Sxk57An",
        "outputId": "598e05e8-ec6d-4d5c-83c8-64c27b8ed026"
      },
      "outputs": [],
      "source": [
        "print(cv2.__version__)"
      ]
    },
    {
      "cell_type": "code",
      "execution_count": null,
      "metadata": {
        "colab": {
          "base_uri": "https://localhost:8080/",
          "height": 309
        },
        "id": "Qa59iIx46J3H",
        "outputId": "255420fc-aaa7-47be-a8ac-7e7ec00b0a5c"
      },
      "outputs": [],
      "source": [
        "!pip install opencv-contrib-python==4.4.0.44"
      ]
    },
    {
      "cell_type": "code",
      "execution_count": null,
      "metadata": {
        "colab": {
          "base_uri": "https://localhost:8080/",
          "height": 287
        },
        "id": "bIboOXqs6Poh",
        "outputId": "4129b4d8-298d-4538-ccf0-85fd305188ae"
      },
      "outputs": [],
      "source": [
        "import cv2\n",
        "import numpy as np\n",
        "import matplotlib.pyplot as plt\n",
        "\n",
        "img_org = cv2.imread('data/lec12_sample.png') # オリジナル画像の入力\n",
        "img_gray = cv2.cvtColor(img_org, cv2.COLOR_BGR2GRAY)\n",
        "#sift = cv2.xfeatures2d.SIFT_create()\n",
        "sift = cv2.SIFT_create ()\n",
        "keypoints, descriptors = sift.detectAndCompute(img_gray, None)\n",
        "img_sift = cv2.drawKeypoints(img_gray, keypoints, None, flags=4)\n",
        "plt.imshow(img_sift, cmap='gray')"
      ]
    },
    {
      "cell_type": "markdown",
      "metadata": {
        "id": "mqCIOH6J30Oi"
      },
      "source": [
        "### Hough変換で直線を見つける\n"
      ]
    },
    {
      "cell_type": "code",
      "execution_count": null,
      "metadata": {
        "colab": {
          "base_uri": "https://localhost:8080/",
          "height": 287
        },
        "id": "ClgNq0Pu2pm5",
        "outputId": "56b1a3ad-8517-4faa-bd72-f2eb56c1b57e"
      },
      "outputs": [],
      "source": [
        "# Canny 法で2値化する。\n",
        "edges = cv2.Canny(img_gray, 150, 300, L2gradient=True)\n",
        "plt.imshow(edges, cmap='gray')"
      ]
    },
    {
      "cell_type": "code",
      "execution_count": null,
      "metadata": {
        "colab": {
          "base_uri": "https://localhost:8080/"
        },
        "id": "V9GjSrwi38w0",
        "outputId": "a027397a-77ed-44e0-a815-9d22aa881ede"
      },
      "outputs": [],
      "source": [
        "# ハフ変換で直線検出する。\n",
        "lines = cv2.HoughLines(edges, 1, np.pi / 180, 100)\n",
        "print(lines)"
      ]
    },
    {
      "cell_type": "code",
      "execution_count": null,
      "metadata": {
        "colab": {
          "base_uri": "https://localhost:8080/",
          "height": 287
        },
        "id": "hf3Z7WMw4CLZ",
        "outputId": "20c5aec7-19fe-4d9d-cecb-65119dc38ef7"
      },
      "outputs": [],
      "source": [
        "def draw_line(img, theta, rho):\n",
        "    h, w = img.shape[:2]\n",
        "    if np.isclose(np.sin(theta), 0):\n",
        "        x1, y1 = rho, 0\n",
        "        x2, y2 = rho, h\n",
        "    else:\n",
        "        calc_y = lambda x: rho / np.sin(theta) - x * np.cos(theta) / np.sin(theta)\n",
        "        x1, y1 = 0, calc_y(0)\n",
        "        x2, y2 = w, calc_y(w)\n",
        "\n",
        "    # float -> int\n",
        "    x1, y1, x2, y2 = list(map(int, [x1, y1, x2, y2]))\n",
        "\n",
        "    cv2.line(img, (x1, y1), (x2, y2), (0, 255, 255), 2,)\n",
        "\n",
        "\n",
        "# 直線を描画する。\n",
        "if lines is not None:\n",
        "    for rho, theta in lines.squeeze(axis=1):\n",
        "        draw_line(img_gray, theta, rho)\n",
        "plt.imshow(img_gray)"
      ]
    },
    {
      "cell_type": "markdown",
      "metadata": {},
      "source": [
        "## YOLOによる物体認識\n",
        "\n",
        "オープンソースのCNNであるdarkentをcloneして、ビルドします。"
      ]
    },
    {
      "cell_type": "code",
      "execution_count": null,
      "metadata": {
        "id": "6wXjXNtc4H5e"
      },
      "outputs": [],
      "source": [
        "%%bash\n",
        "git clone https://github.com/pjreddie/darknet\n",
        "cd darknet\n",
        "make"
      ]
    },
    {
      "cell_type": "markdown",
      "metadata": {},
      "source": [
        "YOLOv3のweightをダウンロードします。"
      ]
    },
    {
      "cell_type": "code",
      "execution_count": 19,
      "metadata": {},
      "outputs": [
        {
          "name": "stderr",
          "output_type": "stream",
          "text": [
            " 36800K .......... .......... .......... .......... .......... 15% 88.7K 35m42s\n",
            " 36850K .......... .......... .......... .......... .......... 15%  123K 35m41s\n",
            " 36900K .......... .......... .......... .......... .......... 15%  138K 35m39s\n",
            " 36950K .......... .......... .......... .......... .......... 15%  121K 35m38s\n",
            " 37000K .......... .......... .......... .......... .......... 15% 98.2K 35m37s\n"
          ]
        }
      ],
      "source": [
        "%%bash\n",
        "cd ./darknet\n",
        "wget https://pjreddie.com/media/files/yolov3.weights"
      ]
    },
    {
      "cell_type": "markdown",
      "metadata": {},
      "source": [
        "サンプルで入っている画像（giraffe.jpg）に物体検知をかけます"
      ]
    },
    {
      "cell_type": "code",
      "execution_count": null,
      "metadata": {},
      "outputs": [],
      "source": [
        "%%bash\n",
        "cd ./darknet/\n",
        "./darknet detect cfg/yolov3.cfg yolov3.weights data/giraffe.jpg\n"
      ]
    },
    {
      "cell_type": "code",
      "execution_count": null,
      "metadata": {},
      "outputs": [],
      "source": [
        "from IPython.display import Image,display_jpeg\n",
        "display_jpeg(Image('darknet/predictions.jpg'))"
      ]
    },
    {
      "cell_type": "code",
      "execution_count": null,
      "metadata": {},
      "outputs": [],
      "source": []
    }
  ],
  "metadata": {
    "colab": {
      "name": "lecture12.ipynb",
      "provenance": []
    },
    "interpreter": {
      "hash": "9650cb4e16cdd4a8e8e2d128bf38d875813998db22a3c986335f89e0cb4d7bb2"
    },
    "kernelspec": {
      "display_name": "Python 3.8.3 64-bit",
      "language": "python",
      "name": "python3"
    },
    "language_info": {
      "codemirror_mode": {
        "name": "ipython",
        "version": 3
      },
      "file_extension": ".py",
      "mimetype": "text/x-python",
      "name": "python",
      "nbconvert_exporter": "python",
      "pygments_lexer": "ipython3",
      "version": "3.8.3"
    },
    "orig_nbformat": 4
  },
  "nbformat": 4,
  "nbformat_minor": 0
}
