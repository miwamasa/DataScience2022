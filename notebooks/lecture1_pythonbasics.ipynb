{
 "cells": [
  {
   "cell_type": "markdown",
   "metadata": {},
   "source": [
    "# Lecture1 - Python Basics -\n",
    "ここでは、Python言語のおさらいをします。基本的には以下を参考にしています。\n",
    "\n",
    "https://fri-datascience.github.io/course_ids/handbook/python-introduction-chapter.html"
   ]
  },
  {
   "cell_type": "markdown",
   "metadata": {},
   "source": [
    "## Pythonについて（私見）\n",
    "- Pythonはスクリプト言語です。覚えるものではありません、使うものです、忘れたらググりましょう、既存のコードをコピぺしましょう。\n",
    "- できるだけ、何をしたいかを直接書くスタイル＝宣言的プログラミングをとりましょう。\n",
    "  - 宣言的：何をしたいかを書く。手続き的：処理を書く(例：for文)\n",
    "  - pandas(後後で出てます)パッケージを使うと、宣言的なプログラミングスタイルが沢山でてきます。\n",
    "\n",
    "宣言的の例：リストが欲しい！と一発でわかる。リストの内包表記ともいう。\n",
    "```\n",
    "[i*2 for i in range(10)]\n",
    "```\n",
    "手続き的の例：処理が書かれていて何がしたいか直接はわからない\n",
    "```\n",
    "ret=[]\n",
    "for i in range(10):\n",
    "    ret.append(i*2)\n",
    "```"
   ]
  },
  {
   "cell_type": "markdown",
   "metadata": {},
   "source": [
    "## 変数およびprint文\n",
    "\n",
    "フォーマットなどは、[こちら](https://www.python.org/dev/peps/pep-0498/)を参照"
   ]
  },
  {
   "cell_type": "code",
   "execution_count": 1,
   "metadata": {},
   "outputs": [
    {
     "name": "stdout",
     "output_type": "stream",
     "text": [
      "Hi, I am Mark and I am 42 years old.\n",
      "Hi, I am Mark and I am 42 years old.\n",
      "Hi, I am Mark and I am 42 years old.\n",
      "Hi, I am Mark and I am  42 years old.\n",
      "Hi, I am Mark and I am  42 years old\n",
      "91.00 Fahrenheit is 32.78 Celsius\n"
     ]
    }
   ],
   "source": [
    "name = \"Mark\"\n",
    "age = 42\n",
    "\n",
    "# Basic old-style string concatenation\n",
    "print(\"Hi, I am \" + name + \" and I am \" + str(age) + \" years old.\")\n",
    "\n",
    "# %-formatting\n",
    "print(\"Hi, I am %s and I am %d years old.\" % (name, age))\n",
    "\n",
    "# Cleaner syntax using format function\n",
    "print(\"Hi, I am {} and I am {} years old.\".format(name, age))\n",
    "\n",
    "# Format function with extended features of parameter naming and output formatting\n",
    "print(\"Hi, I am {name} and I am {age:3d} years old.\".format(age=age, name=name))\n",
    "\n",
    "# Same features as format function with evaluations directly within curly braces\n",
    "print(f\"Hi, I am {name} and I am {age:3d} years old\")\n",
    "\n",
    "# Another example\n",
    "f = 91\n",
    "print(f\"{f:.2f} Fahrenheit is {(f - 32) * 5 / 9:.2f} Celsius\")"
   ]
  },
  {
   "cell_type": "markdown",
   "metadata": {},
   "source": [
    "## 変数と型"
   ]
  },
  {
   "cell_type": "code",
   "execution_count": 2,
   "metadata": {},
   "outputs": [
    {
     "name": "stdout",
     "output_type": "stream",
     "text": [
      "Type of a is <class 'int'>\n",
      "Type of c is <class 'complex'>\n",
      "Type of d is <class 'bool'>\n",
      "Type of e is <class 'str'>\n",
      "Type of f is <class 'NoneType'>\n"
     ]
    }
   ],
   "source": [
    "a = 2864\n",
    "print(f\"Type of a is {type(a)}\")\n",
    "b = 18+64j\n",
    "print(f\"Type of c is {type(b)}\")\n",
    "c = False\n",
    "print(f\"Type of d is {type(c)}\")\n",
    "d = \"I'm loving it!\"\n",
    "print(f\"Type of e is {type(d)}\")\n",
    "e = None\n",
    "print(f\"Type of f is {type(e)}\")"
   ]
  },
  {
   "cell_type": "markdown",
   "metadata": {},
   "source": [
    "## 数値と基本演算子\n",
    "基本的なデータ処理"
   ]
  },
  {
   "cell_type": "code",
   "execution_count": 1,
   "metadata": {},
   "outputs": [
    {
     "name": "stdout",
     "output_type": "stream",
     "text": [
      "Addition: 5.5\n",
      "Multiplication: 7.5\n",
      "Division: 1.2\n",
      "Addition to Boolean: 6\n",
      "String multiplication: 55555\n"
     ]
    }
   ],
   "source": [
    "a = 3  \n",
    "b = 2.5  \n",
    "c = a + b \n",
    "print(f\"Addition: {c}\")\n",
    "c = a * b\n",
    "print(f\"Multiplication: {c}\")\n",
    "c = a / b\n",
    "print(f\"Division: {c}\")\n",
    "c = True + 5\n",
    "print(f\"Addition to Boolean: {c}\")\n",
    "c = \"5\" * 5\n",
    "print(f\"String multiplication: {c}\")"
   ]
  },
  {
   "cell_type": "markdown",
   "metadata": {},
   "source": [
    "## 文字列、結合、等"
   ]
  },
  {
   "cell_type": "code",
   "execution_count": 2,
   "metadata": {},
   "outputs": [
    {
     "name": "stdout",
     "output_type": "stream",
     "text": [
      "Concatenated string: 'Data science a multi-disciplinary field'\n",
      "First word: 'Data' and last word: 'field'.\n",
      "First word lowercased: 'data'and last word uppercased: 'FIELD'.\n",
      "Substring replacement: 'Data management a multi-disciplinary field'\n"
     ]
    }
   ],
   "source": [
    "a = \"Data science\" \n",
    "b = 'a multi-disciplinary field' # we can use double or single quotes\n",
    "c = a + \" \" + b\n",
    "print(f\"Concatenated string: '{c}'\")\n",
    "first = c[:4]\n",
    "last = c[-5:]\n",
    "print(f\"First word: '{first}' and last word: '{last}'.\")\n",
    "firstLower = first.lower()\n",
    "lastUpper = last.upper()\n",
    "print(\n",
    "  (f\"First word lowercased: '{firstLower}'\"\n",
    "   f\"and last word uppercased: '{lastUpper}'.\")\n",
    ")\n",
    "management = c.replace(\"science\", \"management\")\n",
    "print(f\"Substring replacement: '{management}'\")"
   ]
  },
  {
   "cell_type": "markdown",
   "metadata": {},
   "source": [
    "[string](https://docs.python.org/3/library/string.html)パッケージを使うとこうなります。"
   ]
  },
  {
   "cell_type": "code",
   "execution_count": 3,
   "metadata": {},
   "outputs": [
    {
     "name": "stdout",
     "output_type": "stream",
     "text": [
      "Punctuation symbols: '!\"#$%&'()*+,-./:;<=>?@[\\]^_`{|}~'\n"
     ]
    }
   ],
   "source": [
    "# string package\n",
    "import string\n",
    "print(f\"Punctuation symbols: '{string.punctuation}'\")"
   ]
  },
  {
   "cell_type": "markdown",
   "metadata": {},
   "source": [
    "## データ構造、リスト(List)、タプル(Tupple)、集合(Set)、辞書(Dictionary)"
   ]
  },
  {
   "cell_type": "code",
   "execution_count": 4,
   "metadata": {},
   "outputs": [],
   "source": [
    "l = [1, 2, 3, \"a\", 10] # List  \n",
    "t = (1, 2, 3, \"a\", 10) # Tuple (immutable)\n",
    "s = {\"a\", \"b\", \"c\"}     # Set"
   ]
  },
  {
   "cell_type": "code",
   "execution_count": 5,
   "metadata": {},
   "outputs": [],
   "source": [
    "dict = {\n",
    "  \"title\": \"Introduction to Data Science\",\n",
    "  \"year\": 1,\n",
    "  \"semester\": \"fall\",\n",
    "  \"classroom\": \"P02\"\n",
    "}\n",
    "dict[\"classroom\"] = \"P03\" "
   ]
  },
  {
   "cell_type": "markdown",
   "metadata": {},
   "source": [
    "リストなどのデータ構造の要素に一度に、同じ処理を行う場合にmap関数を使うことがよくあります。for文書かなくてもよいでしょう！"
   ]
  },
  {
   "cell_type": "code",
   "execution_count": 6,
   "metadata": {},
   "outputs": [
    {
     "name": "stdout",
     "output_type": "stream",
     "text": [
      "Doubled: <map object at 0x000001AEDAA02340>\n",
      "Filtered: <filter object at 0x000001AEDAA023A0>\n",
      "Sum value: 52\n"
     ]
    }
   ],
   "source": [
    "# Python 3 import for reduce (not needed for Python 2)\n",
    "from functools import reduce \n",
    "\n",
    "l = [6, 8, 22, 4, 12]\n",
    "doubled = map(lambda x: x*2, l)\n",
    "print(f\"Doubled: {doubled}\")\n",
    "filtered = filter(lambda x: x > 10, l)\n",
    "print(f\"Filtered: {filtered}\")\n",
    "sum = reduce(lambda x, y: x+y, l)\n",
    "print(f\"Sum value: {sum}\")"
   ]
  },
  {
   "cell_type": "markdown",
   "metadata": {},
   "source": []
  },
  {
   "cell_type": "markdown",
   "metadata": {},
   "source": [
    "Python3から、filter,reduce,map関数は、generatorというのを生成するようになり、値を直接表示できません、いったん評価する必要があります。例えばlist()関数に入れれば中身をリストとして評価できます。"
   ]
  },
  {
   "cell_type": "code",
   "execution_count": 11,
   "metadata": {},
   "outputs": [
    {
     "name": "stdout",
     "output_type": "stream",
     "text": [
      "Doubled: [12, 16, 44, 8, 24]\n",
      "Filtered: [22, 12]\n"
     ]
    }
   ],
   "source": [
    "print(f\"Doubled: {list(doubled)}\")\n",
    "print(f\"Filtered: {list(filtered)}\")"
   ]
  },
  {
   "cell_type": "markdown",
   "metadata": {},
   "source": [
    "map関数はかっこいいけども面倒ですね、リストの場合は内包表記というやりかたもあり、こちらのほうが理解しやすいかもしれません。"
   ]
  },
  {
   "cell_type": "code",
   "execution_count": 12,
   "metadata": {},
   "outputs": [
    {
     "name": "stdout",
     "output_type": "stream",
     "text": [
      "Squared values between 5 and 10: [36, 64]\n"
     ]
    }
   ],
   "source": [
    "l = [6, 8, 22, 4, 12]\n",
    "newList = [x**2 for x in l if x >= 5 and x <= 10]\n",
    "print(f\"Squared values between 5 and 10: {newList}\")"
   ]
  },
  {
   "cell_type": "markdown",
   "metadata": {},
   "source": [
    "特定のインデクス（複数）を抽出する、しかもこれを繰り返すならばsliceを使って、選択するインデクスを定義することもできます。"
   ]
  },
  {
   "cell_type": "code",
   "execution_count": 13,
   "metadata": {},
   "outputs": [
    {
     "name": "stdout",
     "output_type": "stream",
     "text": [
      "List: [0, 1, 2, 3, 4, 5, 6, 7, 8, 9]\n",
      "Sliced list: [2, 4, 6]\n"
     ]
    }
   ],
   "source": [
    "l = list(range(10))\n",
    "print(f\"List: {l}\")\n",
    "\n",
    "slice_indexes = slice(2,8,2)\n",
    "print(f\"Sliced list: {l[slice_indexes]}\")"
   ]
  },
  {
   "cell_type": "markdown",
   "metadata": {},
   "source": [
    "## フローと制御"
   ]
  },
  {
   "cell_type": "code",
   "execution_count": 14,
   "metadata": {},
   "outputs": [
    {
     "name": "stdout",
     "output_type": "stream",
     "text": [
      "a is greater than 1\n"
     ]
    }
   ],
   "source": [
    "a = 2  \n",
    "if a > 1:  \n",
    "    print('a is greater than 1')\n",
    "elif a == 1:  \n",
    "    print('a is equal to 1')\n",
    "else:  \n",
    "    print('a is less than 1')"
   ]
  },
  {
   "cell_type": "code",
   "execution_count": 15,
   "metadata": {},
   "outputs": [
    {
     "name": "stdout",
     "output_type": "stream",
     "text": [
      "a is greater than 1\n"
     ]
    }
   ],
   "source": [
    "# Inline if statement\n",
    "a = 2\n",
    "print('a is greater than 1' if a > 1 else 'a is lower or equal to 2')"
   ]
  },
  {
   "cell_type": "markdown",
   "metadata": {},
   "source": [
    "繰り返し（ループ）"
   ]
  },
  {
   "cell_type": "code",
   "execution_count": 16,
   "metadata": {},
   "outputs": [
    {
     "name": "stdout",
     "output_type": "stream",
     "text": [
      "4\n",
      "5\n"
     ]
    }
   ],
   "source": [
    "for i in range(4, 6):\n",
    "    print(i)"
   ]
  },
  {
   "cell_type": "code",
   "execution_count": 17,
   "metadata": {},
   "outputs": [
    {
     "name": "stdout",
     "output_type": "stream",
     "text": [
      "Ann\n",
      "Bob\n",
      "Charles\n"
     ]
    }
   ],
   "source": [
    "people_list = ['Ann', 'Bob', 'Charles']  \n",
    "for person in people_list:\n",
    "    print(person)"
   ]
  },
  {
   "cell_type": "code",
   "execution_count": 18,
   "metadata": {},
   "outputs": [
    {
     "name": "stdout",
     "output_type": "stream",
     "text": [
      "1\n",
      "2\n",
      "3\n"
     ]
    }
   ],
   "source": [
    "i = 1\n",
    "while i <= 3:\n",
    "  print(i)\n",
    "  i = i + 1"
   ]
  },
  {
   "cell_type": "markdown",
   "metadata": {},
   "source": [
    "## 関数"
   ]
  },
  {
   "cell_type": "code",
   "execution_count": 19,
   "metadata": {},
   "outputs": [
    {
     "name": "stdout",
     "output_type": "stream",
     "text": [
      "Hello my friend Janez!\n"
     ]
    }
   ],
   "source": [
    "def greetMe(name):\n",
    "  print(f\"Hello my friend {name}!\")\n",
    "  \n",
    "greetMe(\"Janez\")"
   ]
  },
  {
   "cell_type": "markdown",
   "metadata": {},
   "source": [
    "複数の引数を取ることができ、引数は、オプション引数、デフォルト値付きをもうけることもできる"
   ]
  },
  {
   "cell_type": "code",
   "execution_count": 20,
   "metadata": {},
   "outputs": [
    {
     "name": "stdout",
     "output_type": "stream",
     "text": [
      "Hello Mr. Janez!\n",
      "Hello Mrs. Mojca!\n",
      "Hello Mrs. Mojca!\n"
     ]
    }
   ],
   "source": [
    "def greet(name, title = \"Mr.\"):\n",
    "  print(f\"Hello {title} {name}!\")\n",
    "  \n",
    "greet(\"Janez\")\n",
    "greet(\"Mojca\", \"Mrs.\")\n",
    "greet(\"Mojca\", title = \"Mrs.\")"
   ]
  },
  {
   "cell_type": "markdown",
   "metadata": {},
   "source": [
    "再帰呼び出しもできます"
   ]
  },
  {
   "cell_type": "code",
   "execution_count": 21,
   "metadata": {},
   "outputs": [
    {
     "name": "stdout",
     "output_type": "stream",
     "text": [
      "Sum of all positive integers up to 50 is: 1275\n"
     ]
    }
   ],
   "source": [
    "def sumUpTo(value):\n",
    "  if value > 0:\n",
    "    return value + sumUpTo(value-1)\n",
    "  else: \n",
    "    return 0\n",
    "print(f\"Sum of all positive integers up to 50 is: {sumUpTo(50)}\")"
   ]
  },
  {
   "cell_type": "markdown",
   "metadata": {},
   "source": [
    "関数は、Tuppleを使って複数値をかえすことができる"
   ]
  },
  {
   "cell_type": "code",
   "execution_count": 22,
   "metadata": {},
   "outputs": [
    {
     "name": "stdout",
     "output_type": "stream",
     "text": [
      "Janez:\n",
      "\tBMI: 23.334120982986768\n",
      "\tBMR: 1791.3070000000002\n",
      "\tIBW: 78.756\n",
      "Mojca:\n",
      "\tBMI: 20.830703194041156\n",
      "\tBMR: 1457.7890000000002\n",
      "\tIBW: 68.79599999999999\n"
     ]
    }
   ],
   "source": [
    "def calculateHealth(height_cm, weight_kg, age, gender = 'male'):\n",
    "  # Body mass index\n",
    "  bmi = weight_kg/(height_cm/100)**2\n",
    "  # Basal metabolic rate (Revised Harris-Benedict Equation)\n",
    "  bmr = 0\n",
    "  # Ideal body weight\n",
    "  ibw = 0\n",
    "  if gender == 'male':\n",
    "    bmr = 13.397*weight_kg + 4.799*height_cm - 5.677*age + 88.362\n",
    "    ibw = 50 + (0.91 * (height_cm - 152.4))\n",
    "  else:\n",
    "    bmr = 9.247*weight_kg + 3.098*height_cm - 4.330*age + 447.593\n",
    "    ibw = 45.5 + (0.91 * (height_cm - 152.4))\n",
    "  return (bmi, bmr, ibw)\n",
    "\n",
    "janez_health = calculateHealth(184, 79, 42)\n",
    "(bmi, bmr, ibw) = calculateHealth(178, 66, 35, 'female')\n",
    "\n",
    "print(f\"Janez:\\n\\tBMI: {janez_health[0]}\\n\\tBMR: {janez_health[1]}\\n\\tIBW: {janez_health[2]}\")\n",
    "print(f\"Mojca:\\n\\tBMI: {bmi}\\n\\tBMR: {bmr}\\n\\tIBW: {ibw}\")"
   ]
  },
  {
   "cell_type": "markdown",
   "metadata": {},
   "source": [
    "関数内で定義した変数は、外からは見えない、外から見えるにはglobal変数にする"
   ]
  },
  {
   "cell_type": "code",
   "execution_count": 23,
   "metadata": {},
   "outputs": [
    {
     "name": "stdout",
     "output_type": "stream",
     "text": [
      "Before function: 5 and [3, 6, 9]\n",
      "Within function: 10 and [3, 6, 9, 22] and 3\n",
      "After function: 5 and [3, 6, 9, 22] and 3\n"
     ]
    }
   ],
   "source": [
    "def playWithVariables(value1, list1):\n",
    "  global globVal \n",
    "  globVal = 3\n",
    "  \n",
    "  value1 = 10\n",
    "  list1.append(22)\n",
    "  print(f\"Within function: {value1} and {list1} and {globVal}\")\n",
    "\n",
    "value1 = 5\n",
    "list1 = [3, 6, 9]\n",
    "print(f\"Before function: {value1} and {list1}\")\n",
    "playWithVariables(value1, list1)\n",
    "print(f\"After function: {value1} and {list1} and {globVal}\")"
   ]
  },
  {
   "cell_type": "markdown",
   "metadata": {},
   "source": [
    " unnamed (args) and/or named (kwargs) arguments."
   ]
  },
  {
   "cell_type": "code",
   "execution_count": 24,
   "metadata": {},
   "outputs": [
    {
     "name": "stdout",
     "output_type": "stream",
     "text": [
      "Non-named arguments: '(1, 'a', [1, 5, 6])'\n",
      "Named arguments: '{'studentIds': [234, 451, 842], 'maxScore': 100.0}'\n"
     ]
    }
   ],
   "source": [
    "def paramsWriter(*args, **kwargs):\n",
    "  print(f\"Non-named arguments: '{args}'\\nNamed arguments: '{kwargs}'\")\n",
    "\n",
    "paramsWriter(1, \"a\", [1,5,6], studentIds = [234, 451, 842], maxScore = 100.0)"
   ]
  },
  {
   "cell_type": "markdown",
   "metadata": {},
   "source": [
    "## クラス、\n",
    "オブジェクト指向的な記述もできます"
   ]
  },
  {
   "cell_type": "code",
   "execution_count": 25,
   "metadata": {},
   "outputs": [],
   "source": [
    "class Classroom:\n",
    "  class_counter = 0\n",
    "  \n",
    "  def num_classes():\n",
    "    return Classroom.class_counter\n",
    "  \n",
    "  def __init__(self, name):\n",
    "    Classroom.class_counter += 1\n",
    "    self.name = \"Best of Data Science class \" + name\n",
    "    self.students = []\n",
    "    \n",
    "  def enroll(self, student):\n",
    "    self.students.append(student)\n",
    "    \n",
    "  def __str__(self):\n",
    "    return f\"Class: '{self.name}', students: '{self.students}'\""
   ]
  },
  {
   "cell_type": "code",
   "execution_count": 26,
   "metadata": {},
   "outputs": [
    {
     "name": "stdout",
     "output_type": "stream",
     "text": [
      "Num classes: 2\n",
      "Num classes: 2\n",
      "Class: 'Best of Data Science class old sports', students: '['Slavko Žitnik', 'Erik Štrumbelj', 'Tomaž Curk']'\n"
     ]
    }
   ],
   "source": [
    "class1 = Classroom(\"best of millenials\")\n",
    "class2 = Classroom(\"old sports\")\n",
    "\n",
    "print(f\"Num classes: {Classroom.class_counter}\")\n",
    "print(f\"Num classes: {Classroom.num_classes()}\")\n",
    "\n",
    "class2.enroll(\"Slavko Žitnik\")\n",
    "class2.enroll(\"Erik Štrumbelj\")\n",
    "class2.enroll(\"Tomaž Curk\")\n",
    "\n",
    "print(class2)"
   ]
  },
  {
   "cell_type": "markdown",
   "metadata": {},
   "source": [
    "## ファイル入出力\n",
    "\n",
    "```\n",
    "r - reading only,\n",
    "w - writing to a file (previous content will be deleted),\n",
    "x - creating a new file (function fails of a file already exists),\n",
    "a - appending to a file,\n",
    "t - opening a file in text mode,\n",
    "b - opening a file in binary mode and\n",
    "+ - opening a file for reading and writind (updating).\n",
    "```"
   ]
  },
  {
   "cell_type": "code",
   "execution_count": 32,
   "metadata": {},
   "outputs": [],
   "source": [
    "file = open(\"tmp/ids.txt\",\"w+\")\n",
    "for i in range(10):\n",
    "     file.write(f\"This is line {i}.\\r\\n\")\n",
    "file.close()"
   ]
  },
  {
   "cell_type": "code",
   "execution_count": 33,
   "metadata": {},
   "outputs": [
    {
     "name": "stdout",
     "output_type": "stream",
     "text": [
      "This is line 0.\n",
      "\n",
      "\n",
      "\n",
      "This is line 1.\n",
      "\n",
      "\n",
      "\n",
      "This is line 2.\n",
      "\n",
      "\n",
      "\n",
      "This is line 3.\n",
      "\n",
      "\n",
      "\n",
      "This is line 4.\n",
      "\n",
      "\n",
      "\n",
      "This is line 5.\n",
      "\n",
      "\n",
      "\n",
      "This is line 6.\n",
      "\n",
      "\n",
      "\n",
      "This is line 7.\n",
      "\n",
      "\n",
      "\n",
      "This is line 8.\n",
      "\n",
      "\n",
      "\n",
      "This is line 9.\n",
      "\n",
      "\n",
      "\n"
     ]
    }
   ],
   "source": [
    "#Open the file and read the contents\n",
    "file = open(\"tmp/ids.txt\", \"r\")\n",
    "\n",
    "# Reading the whole content into a variable\n",
    "contents = file.read()\n",
    "\n",
    "# Reading file into a list of lines\n",
    "file.seek(0) #Move to the beginning as we already readt the whole file\n",
    "lines = file.readlines() \n",
    "\n",
    "# Reading line by line\n",
    "file.seek(0)\n",
    "for line in file:\n",
    "  print(line)\n",
    "file.close()"
   ]
  },
  {
   "cell_type": "markdown",
   "metadata": {},
   "source": [
    "jsonを読み書きする例"
   ]
  },
  {
   "cell_type": "code",
   "execution_count": 31,
   "metadata": {},
   "outputs": [
    {
     "name": "stdout",
     "output_type": "stream",
     "text": [
      "{'name': 'Janez', 'age': 'Novak', 'marks': [{'OPB': 8, 'IDS': 6, 'WIER': 10}]}\n"
     ]
    }
   ],
   "source": [
    "import json\n",
    "\n",
    "json_obj = {'name': 'Janez', 'age': 'Novak', 'marks': [{'OPB': 8, 'IDS': 6, 'WIER': 10}]}\n",
    "\n",
    "# Write json to a file\n",
    "json.dump(json_obj, open('tmp/json_output.json', 'w'))\n",
    "\n",
    "# Read json to a variable from file\n",
    "janez = json.load(open('tmp/json_output.json', 'r'))\n",
    "print(janez)"
   ]
  },
  {
   "cell_type": "code",
   "execution_count": null,
   "metadata": {},
   "outputs": [],
   "source": []
  }
 ],
 "metadata": {
  "interpreter": {
   "hash": "2db524e06e9f5f4ffedc911c917cb75e12dbc923643829bf417064a77eb14d37"
  },
  "kernelspec": {
   "display_name": "Python 3.8.3 64-bit",
   "language": "python",
   "name": "python3"
  },
  "language_info": {
   "codemirror_mode": {
    "name": "ipython",
    "version": 3
   },
   "file_extension": ".py",
   "mimetype": "text/x-python",
   "name": "python",
   "nbconvert_exporter": "python",
   "pygments_lexer": "ipython3",
   "version": "3.8.3"
  },
  "orig_nbformat": 4
 },
 "nbformat": 4,
 "nbformat_minor": 2
}
