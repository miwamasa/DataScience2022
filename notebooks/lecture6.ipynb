{
 "cells": [
  {
   "cell_type": "markdown",
   "metadata": {},
   "source": [
    "# Lecture6　回帰分析2\n",
    "<div dir='rtl'>\n",
    "2022.4岩政\n",
    "</div>\n"
   ]
  },
  {
   "cell_type": "markdown",
   "metadata": {},
   "source": [
    "## 重回帰分析\n",
    "2つの説明変数と関係しない変数の誤ったモデル"
   ]
  },
  {
   "cell_type": "code",
   "execution_count": null,
   "metadata": {},
   "outputs": [],
   "source": [
    "# -*- coding: utf-8 -*-\n",
    "import numpy as np\n",
    "import pandas as pd\n",
    "\n",
    "import matplotlib.pyplot as plt\n",
    "%matplotlib inline\n",
    "\n",
    "import statsmodels.formula.api as smf\n",
    "\n",
    "from mpl_toolkits.mplot3d import Axes3D # for 3D-graph, 明示的には使わないが、インポートしておく必要がある\n",
    "import seaborn as sns\n",
    "np.random.seed(123) #再現性を得るため"
   ]
  },
  {
   "cell_type": "markdown",
   "metadata": {},
   "source": [
    "## F検定の値を見る\n",
    "真のシステム：y = b1*x1 + b2*x2 + noise  \n",
    "モデル:　y = b1*x1 + b2*x2"
   ]
  },
  {
   "cell_type": "code",
   "execution_count": null,
   "metadata": {},
   "outputs": [],
   "source": [
    "num = 30\n",
    "noise = np.random.normal(0.0, 0.1, num)\n",
    "rad = np.linspace(-np.pi,np.pi,num)\n",
    "x1 = np.sin(rad)\n",
    "x2 = np.random.normal(-2.0, 3.0, num)"
   ]
  },
  {
   "cell_type": "code",
   "execution_count": null,
   "metadata": {},
   "outputs": [],
   "source": [
    "b1, b2 = 1.1, -0.55 # beta_0, beta_1\n",
    "y = b1*x1 + b2*x2 + noise\n",
    "df = pd.DataFrame({'y':y, 'x1':x1, 'x2':x2})\n",
    "sns_plot = sns.pairplot(df,  diag_kind='hist')"
   ]
  },
  {
   "cell_type": "code",
   "execution_count": null,
   "metadata": {
    "vscode": {
     "languageId": "markdown"
    }
   },
   "outputs": [],
   "source": [
    "\n",
    "results = smf.ols('y ~ x1 + x2 -1', data=df).fit()\n",
    "results.summary()"
   ]
  },
  {
   "cell_type": "code",
   "execution_count": null,
   "metadata": {},
   "outputs": [],
   "source": [
    "plt.scatter(y,results.predict())"
   ]
  },
  {
   "cell_type": "code",
   "execution_count": null,
   "metadata": {},
   "outputs": [],
   "source": [
    "b1, b2 = 0.0001, -0.000055\n",
    "y = b1*x1 + b2*x2 + noise\n",
    "df = pd.DataFrame({'y':y, 'x1':x1, 'x2':x2})\n",
    "results = smf.ols('y ~ x1 + x2 -1', data=df).fit()\n",
    "results.summary()"
   ]
  },
  {
   "cell_type": "code",
   "execution_count": null,
   "metadata": {},
   "outputs": [],
   "source": [
    "plt.scatter(y,results.predict())"
   ]
  },
  {
   "cell_type": "markdown",
   "metadata": {},
   "source": [
    "## 多重共線性（multicollinearity）の影響を見る"
   ]
  },
  {
   "cell_type": "code",
   "execution_count": null,
   "metadata": {},
   "outputs": [],
   "source": [
    "num = 30\n",
    "rad = np.linspace(-np.pi, np.pi, num)\n",
    "x1 = np.sin(rad)\n",
    "x2 = np.random.normal(-2.0, 3.0, num)\n",
    "\n",
    "b1, b2 = 3.3, -1.25\n",
    "noise = 0.001*np.random.normal( 0.0, 1.0, num)\n",
    "y = b1*x1 + b2*x2 + noise"
   ]
  },
  {
   "cell_type": "markdown",
   "metadata": {},
   "source": [
    "関係のないx3を測定したと仮定する"
   ]
  },
  {
   "cell_type": "code",
   "execution_count": null,
   "metadata": {},
   "outputs": [],
   "source": [
    "x3 = 3.35*np.sin((rad+0.001))+ 0.001*np.random.normal( 0.0, 1.0, num)\n",
    "df = pd.DataFrame({'y':y, 'x1':x1, 'x2':x2, 'x3':x3})"
   ]
  },
  {
   "cell_type": "code",
   "execution_count": null,
   "metadata": {},
   "outputs": [],
   "source": [
    "results = smf.ols('y ~ x1 + x2 + x3 -1', data=df).fit()\n",
    "results.summary()"
   ]
  },
  {
   "cell_type": "markdown",
   "metadata": {},
   "source": [
    "\"The condition number is large\"というWarningメッセージが出た場合。<br>\n",
    "condition number（条件数）は、行列の固有値から計算される数値であり、この値が大きいほど連立方程式が解きにくくなり、<br>\n",
    "解に誤差を含む可能性が高いことを示唆する。したがって、出力された数値解は、盲目的に信じることなく、注意して見守る必要がある。"
   ]
  },
  {
   "cell_type": "markdown",
   "metadata": {},
   "source": [
    "#### モデル次数をシステムに合わせる"
   ]
  },
  {
   "cell_type": "code",
   "execution_count": null,
   "metadata": {},
   "outputs": [],
   "source": [
    "results = smf.ols('y ~ x1 + x2 -1', data=df).fit()\n",
    "results.summary()"
   ]
  },
  {
   "cell_type": "markdown",
   "metadata": {},
   "source": [
    "#### ３Dプロット，\n",
    "参照　https://matplotlib.org/mpl_toolkits/mplot3d/tutorial.html"
   ]
  },
  {
   "cell_type": "code",
   "execution_count": null,
   "metadata": {},
   "outputs": [],
   "source": [
    "fig = plt.figure()\n",
    "ax = fig.add_subplot(111, projection='3d')\n",
    "\n",
    "# 軸ラベルの設定\n",
    "ax.set_xlabel(\"x1-axis\")\n",
    "ax.set_ylabel(\"x2-axis\")\n",
    "ax.set_zlabel(\"y-axis\")\n",
    "\n",
    "# 表示範囲の設定\n",
    "ax.set_xlim(-5, 5)\n",
    "ax.set_ylim(-4, 4)\n",
    "ax.set_zlim(-6, 10)\n",
    "\n",
    "#観測データのプロット\n",
    "ax.scatter(x1, x2, y, s=10, color='green')\n",
    "\n",
    "# モデル式の表示\n",
    "xx1 = np.linspace(-5,5,num)\n",
    "xx2 = np.linspace(-4,4,num)\n",
    "\n",
    "c1, c2 = results.params\n",
    "\n",
    "y0 = c1*xx1 + c2*xx2\n",
    "ax.plot(xx1, xx2, y0, color='black', linestyle='dashed')\n",
    "plt.show()"
   ]
  },
  {
   "cell_type": "markdown",
   "metadata": {},
   "source": [
    "## 電力と気温"
   ]
  },
  {
   "cell_type": "code",
   "execution_count": null,
   "metadata": {},
   "outputs": [],
   "source": [
    "\n",
    "url = 'https://sites.google.com/site/datasciencehiro/datasets/ElectricPower.csv'\n",
    "#url = 'datasets/ElectricPower.csv'\n",
    "df_pow = pd.read_csv(url, comment='#', \n",
    "                    index_col='DATE', parse_dates=['DATE'],  \n",
    "                     encoding='SHIFT-JIS' )\n",
    "df_pow.head()"
   ]
  },
  {
   "cell_type": "code",
   "execution_count": null,
   "metadata": {},
   "outputs": [],
   "source": [
    "df_pow.tail()"
   ]
  },
  {
   "cell_type": "markdown",
   "metadata": {},
   "source": [
    "#### ダウンサンプリング\n",
    "https://pandas.pydata.org/pandas-docs/stable/generated/pandas.DataFrame.resample.html  \n",
    "時間軸を日単位として，最大電力だけとする"
   ]
  },
  {
   "cell_type": "code",
   "execution_count": null,
   "metadata": {},
   "outputs": [],
   "source": [
    "df_pow2 = df_pow.resample('D').max() # Dayへのダウンサンプリングと最大電力"
   ]
  },
  {
   "cell_type": "code",
   "execution_count": null,
   "metadata": {},
   "outputs": [],
   "source": [
    "print(df_pow2.head())\n",
    "print(df_pow2.shape)"
   ]
  },
  {
   "cell_type": "markdown",
   "metadata": {},
   "source": [
    "#### 最高気温，最低気温のデータ読込み"
   ]
  },
  {
   "cell_type": "code",
   "execution_count": null,
   "metadata": {},
   "outputs": [],
   "source": [
    "df = pd.read_csv('https://sites.google.com/site/datasciencehiro/datasets/AirTemperature.csv', comment='#', \n",
    "                    index_col='Date', parse_dates=['Date'],  \n",
    "                     encoding='SHIFT-JIS' )\n",
    "print(df.head())\n",
    "print(df.shape)"
   ]
  },
  {
   "cell_type": "markdown",
   "metadata": {},
   "source": [
    "#### データの結合"
   ]
  },
  {
   "cell_type": "code",
   "execution_count": null,
   "metadata": {},
   "outputs": [],
   "source": [
    "df['MaxPower'] = df_pow2.Power"
   ]
  },
  {
   "cell_type": "code",
   "execution_count": null,
   "metadata": {},
   "outputs": [],
   "source": [
    "df"
   ]
  },
  {
   "cell_type": "code",
   "execution_count": null,
   "metadata": {},
   "outputs": [],
   "source": [
    "result = smf.ols('MaxPower ~ MaxTemp + MinTemp', data=df).fit()\n",
    "print(result.summary())"
   ]
  },
  {
   "cell_type": "code",
   "execution_count": null,
   "metadata": {},
   "outputs": [],
   "source": [
    "FLAG_fig=True\n",
    "df.MaxPower.plot()\n",
    "plt.legend()\n"
   ]
  },
  {
   "cell_type": "code",
   "execution_count": null,
   "metadata": {},
   "outputs": [],
   "source": [
    "df.MaxTemp.plot()\n",
    "df.MinTemp.plot()\n",
    "plt.legend()\n"
   ]
  },
  {
   "cell_type": "code",
   "execution_count": null,
   "metadata": {},
   "outputs": [],
   "source": [
    "df1 = df['2017/1/15':'2017/4/30']\n",
    "df2 = df['2017/5/1':'2017/8/31']"
   ]
  },
  {
   "cell_type": "code",
   "execution_count": null,
   "metadata": {},
   "outputs": [],
   "source": [
    "result1 = smf.ols('MaxPower ~ MaxTemp + MinTemp', data=df1).fit()\n",
    "result1.summary()"
   ]
  },
  {
   "cell_type": "code",
   "execution_count": null,
   "metadata": {},
   "outputs": [],
   "source": [
    "#予測\n",
    "NewData = {'MaxTemp':[18.5, 14.0], 'MinTemp':[9.0, 6.5]}\n",
    "NewDf = pd.DataFrame(NewData)\n",
    "NewDf"
   ]
  },
  {
   "cell_type": "code",
   "execution_count": null,
   "metadata": {},
   "outputs": [],
   "source": [
    "pred = result.predict(NewDf)\n",
    "pred"
   ]
  },
  {
   "cell_type": "code",
   "execution_count": null,
   "metadata": {},
   "outputs": [],
   "source": [
    "result2 = smf.ols('MaxPower ~ MaxTemp + MinTemp', data=df2).fit()\n",
    "result2.summary()"
   ]
  },
  {
   "cell_type": "markdown",
   "metadata": {},
   "source": [
    "## 一般化線形モデル　\n",
    "### ロジスティック回帰モデル\n",
    "対象：Spector and Mazzeo (1980) - Program Effectiveness Data <br>\n",
    "http://www.statsmodels.org/dev/datasets/generated/spector.html\n"
   ]
  },
  {
   "cell_type": "code",
   "execution_count": null,
   "metadata": {},
   "outputs": [],
   "source": [
    "# -*- coding: utf-8 -*-\n",
    "import numpy as np\n",
    "import pandas as pd\n",
    "import statsmodels.api as sm\n",
    "import statsmodels.formula.api as smf\n",
    "import matplotlib.pyplot as plt\n",
    "\n",
    "#import seaborn as sns\n",
    "\n",
    "np.random.seed(123)"
   ]
  },
  {
   "cell_type": "code",
   "execution_count": null,
   "metadata": {},
   "outputs": [],
   "source": [
    "data = sm.datasets.spector.load().data\n",
    "df = pd.DataFrame(data)\n",
    "print(df.head())"
   ]
  },
  {
   "cell_type": "markdown",
   "metadata": {},
   "source": [
    "ロジスティック回帰は，リンク関数にLogit() を用いる一般化回帰モデル(GLM)の一種であるので，以下のようにも書くことができる\n",
    "https://qiita.com/TomokIshii/items/374ac7d4231adf6a39f4"
   ]
  },
  {
   "cell_type": "code",
   "execution_count": null,
   "metadata": {},
   "outputs": [],
   "source": [
    "glm_model = 'GRADE ~ GPA + TUCE + PSI'\n",
    "#fit = smf.glm(formula=glm_model, data=df, family=sm.families.Binomial(link=sm.families.links.logit))\n",
    "fit = smf.glm(formula=glm_model, data=df, family=sm.families.Binomial())\n",
    "result = fit.fit()\n",
    "result.summary()"
   ]
  },
  {
   "cell_type": "markdown",
   "metadata": {},
   "source": [
    "sm.GLM() で family オプションをつけて使用する分布がBinomial となる指示をする．これで，リンク関数は(Binomialのディフォルトの) logit() を使う処理となる．出力される summary() は次の通り"
   ]
  },
  {
   "cell_type": "code",
   "execution_count": null,
   "metadata": {},
   "outputs": [],
   "source": [
    "df.corr()"
   ]
  },
  {
   "cell_type": "markdown",
   "metadata": {},
   "source": [
    "念のため，縦軸にGRADEをとり，横軸にGPA,色でPSI=1,0を区別したグラフから何かを言えるかを確かめてみた。　 しかし，あまり，有意な特徴を見出すことはできない。"
   ]
  },
  {
   "cell_type": "code",
   "execution_count": null,
   "metadata": {},
   "outputs": [],
   "source": [
    "plt.scatter(df.GPA[df.PSI==1.0], df.GRADE[df.PSI == 1.0] ,c = \"red\", label = \"PSI=1\")\n",
    "plt.scatter(df.GPA[df.PSI==0.0], df.GRADE[df.PSI == 0.0] ,c = \"blue\", label = \"PSI=0\")\n",
    "\n",
    "plt.xlabel('GPA')\n",
    "plt.ylabel('GRADE')\n",
    "#plt.title('Red:PSI=1,  Blue:PSI=0')\n",
    "plt.legend(loc='center left')"
   ]
  },
  {
   "cell_type": "markdown",
   "metadata": {},
   "source": [
    "## 一般化線形モデル　\n",
    "### ポアソン回帰モデル\n",
    "\n",
    "Ref. \n",
    " Possion GLM, https://onlinecourses.science.psu.edu/stat504/node/169  \n",
    " \n",
    "$\\lambda = \\exp(\\beta_0+ \\beta_1)$"
   ]
  },
  {
   "cell_type": "code",
   "execution_count": null,
   "metadata": {},
   "outputs": [],
   "source": [
    "# -*- coding: utf-8 -*-\n",
    "import numpy as np\n",
    "import pandas as pd\n",
    "\n",
    "import statsmodels.api as sm\n",
    "import statsmodels.formula.api as smf\n",
    "import matplotlib.pyplot as plt\n",
    "%matplotlib inline\n",
    "\n",
    "np.random.seed(123)"
   ]
  },
  {
   "cell_type": "markdown",
   "metadata": {},
   "source": [
    "#### ポアソン分布に従う確率変数ｙのデータ生成\n",
    "$\\lambda = \\exp(\\beta_0), \\hspace{3mm} \\beta_1 = 0$ の場合  \n",
    "平均値をlamとおいた"
   ]
  },
  {
   "cell_type": "code",
   "execution_count": null,
   "metadata": {},
   "outputs": [],
   "source": [
    "Num = 1000\n",
    "lam = 5 # lambda\n",
    "y = np.random.poisson(lam,Num)"
   ]
  },
  {
   "cell_type": "code",
   "execution_count": null,
   "metadata": {},
   "outputs": [],
   "source": [
    "count, bins, ignored = plt.hist(y, 14, density=False)\n",
    "\n",
    "if FLAG_fig: plt.savefig('fig_REG_GLM_Poisson1_hist.png')"
   ]
  },
  {
   "cell_type": "markdown",
   "metadata": {},
   "source": [
    "#### 一部をプロット"
   ]
  },
  {
   "cell_type": "code",
   "execution_count": null,
   "metadata": {},
   "outputs": [],
   "source": [
    "n = 100\n",
    "plt.plot( y[0:n])\n"
   ]
  },
  {
   "cell_type": "markdown",
   "metadata": {},
   "source": [
    "一般化線形モデル問題を解く"
   ]
  },
  {
   "cell_type": "code",
   "execution_count": null,
   "metadata": {},
   "outputs": [],
   "source": [
    "x = range(len(y))\n",
    "df = pd.DataFrame({'x':x, 'y':y})"
   ]
  },
  {
   "cell_type": "code",
   "execution_count": null,
   "metadata": {},
   "outputs": [],
   "source": [
    "glm_model = 'y ~ x'\n",
    "result = smf.glm(formula=glm_model, data=df, family=sm.families.Poisson()).fit()\n",
    "print(result.summary())"
   ]
  },
  {
   "cell_type": "code",
   "execution_count": null,
   "metadata": {},
   "outputs": [],
   "source": [
    "b0, b1 = result.params\n",
    "print('exp(b0) =',np.exp(b0))"
   ]
  },
  {
   "cell_type": "code",
   "execution_count": null,
   "metadata": {},
   "outputs": [],
   "source": [
    "print('Mean of y =',df.y.mean())"
   ]
  },
  {
   "cell_type": "markdown",
   "metadata": {},
   "source": [
    "#### ポアソン分布に従う確率変数ｙのデータ生成\n",
    "$\\lambda = \\exp(\\beta_0 + \\beta_1 x1)$, の場合  "
   ]
  },
  {
   "cell_type": "code",
   "execution_count": null,
   "metadata": {},
   "outputs": [],
   "source": [
    "Num = 1000\n",
    "x = np.zeros(Num)\n",
    "y = np.zeros(Num)"
   ]
  },
  {
   "cell_type": "code",
   "execution_count": null,
   "metadata": {},
   "outputs": [],
   "source": [
    "b0 , b1 = 0.5, 3.5\n",
    "for i in range(Num):\n",
    "    x[i] = i\n",
    "    lam = np.exp( b0 + (b1/float(Num)) * (float(i)))\n",
    "    y[i] = np.random.poisson(lam,1)"
   ]
  },
  {
   "cell_type": "code",
   "execution_count": null,
   "metadata": {},
   "outputs": [],
   "source": [
    "count, bins, ignored = plt.hist(y, 14, density=False)\n"
   ]
  },
  {
   "cell_type": "code",
   "execution_count": null,
   "metadata": {},
   "outputs": [],
   "source": [
    "plt.scatter(x, y)\n",
    "plt.title(\"Poisson Distribution\")"
   ]
  },
  {
   "cell_type": "code",
   "execution_count": null,
   "metadata": {},
   "outputs": [],
   "source": [
    "df = pd.DataFrame({'x':x, 'y':y})\n",
    "glm_model = 'y ~ x'\n",
    "result = smf.glm(formula=glm_model, data=df, family=sm.families.Poisson()).fit()\n",
    "print(result.summary())"
   ]
  },
  {
   "cell_type": "markdown",
   "metadata": {},
   "source": [
    "下記で　b1 = b1 * num としているのは，glmはlamの生成式にある(b1/float(num))を予測しており，この分母を払うため"
   ]
  },
  {
   "cell_type": "code",
   "execution_count": null,
   "metadata": {},
   "outputs": [],
   "source": [
    "b0, b1 = result.params\n",
    "b1 = b1 * Num  # 見掛け上のパラメータの分母に(num)があるため，これを払う\n",
    "print(\"b0 = %f  b1 = %f\" % (b0,b1))"
   ]
  },
  {
   "cell_type": "code",
   "execution_count": null,
   "metadata": {},
   "outputs": [],
   "source": [
    "y_pre = np.exp(b0 + (b1/float(Num))*x)\n",
    "plt.scatter(x[0:Num], y[0:Num])\n",
    "plt.plot(x, y_pre, color = 'white')\n"
   ]
  },
  {
   "cell_type": "markdown",
   "metadata": {},
   "source": [
    "#### データの前半500個[0:499]と後半500個[500:999]を入れ替える"
   ]
  },
  {
   "cell_type": "code",
   "execution_count": null,
   "metadata": {},
   "outputs": [],
   "source": [
    "nlen = len(x)\n",
    "n2 = int(nlen/2)\n",
    "\n",
    "xx = np.zeros(nlen)  # この1行は，いわゆる copy.deepcopy() ( import copy )の意味のメモリ確保\n",
    "if nlen % 2 == 0: #even\n",
    "    nst = n2\n",
    "else:\n",
    "    nst = n2 + 1\n",
    "    xx[n2] = x[n2]\n",
    "    \n",
    "xx[0:n2] = x[nst:nlen]\n",
    "xx[nst:nlen]= x[0:n2]\n",
    "\"\"\"\n",
    "print(xx[0:5])\n",
    "print(xx[(n2-1):(n2+4)])\n",
    "print(xx[-5:])\n",
    "\"\"\"\n",
    "yy = np.zeros(nlen)  # この1行は，いわゆる copy.deepcopy() ( import copy )の意味のメモリ確保\n",
    "yy[0:n2] = y[nst:nlen]\n",
    "yy[nst:nlen]= y[0:n2]\n",
    "\n",
    "plt.plot(yy[0:nlen]) # 注意：plot(xx,yy)とすると，先のグラフと同じになる\n",
    "\n"
   ]
  },
  {
   "cell_type": "code",
   "execution_count": null,
   "metadata": {},
   "outputs": [],
   "source": [
    "df = pd.DataFrame({'x':xx, 'y':yy})\n",
    "glm_model = 'y ~ x'\n",
    "result = smf.glm(formula=glm_model, data=df, family=sm.families.Poisson()).fit()\n",
    "print(result.summary())"
   ]
  },
  {
   "cell_type": "markdown",
   "metadata": {},
   "source": [
    "## Generalized Linear Models\n",
    " 薬品とカブトムシの生存率\n",
    "原著：Annette J. Dobson and Adrian G. Barnett, An Introduction to Generalized Linear Models, 3rd ed. , CRCPress 2008, p.127  \n",
    "https://reneues.files.wordpress.com/2010/01/an-introduction-to-generalized-linear-models-second-edition-dobson.pdf\n"
   ]
  },
  {
   "cell_type": "code",
   "execution_count": null,
   "metadata": {},
   "outputs": [],
   "source": [
    "# -*- coding: utf-8 -*-\n",
    "import numpy as np\n",
    "import pandas as pd\n",
    "\n",
    "import matplotlib.pyplot as plt\n",
    "%matplotlib inline\n",
    "\n",
    "import statsmodels.api as sm\n",
    "import statsmodels.formula.api as smf\n"
   ]
  },
  {
   "cell_type": "markdown",
   "metadata": {},
   "source": [
    "x:投薬量，n:カブトムシの総数，y:死亡数"
   ]
  },
  {
   "cell_type": "code",
   "execution_count": null,
   "metadata": {},
   "outputs": [],
   "source": [
    "df = pd.DataFrame({'x':[1.6907, 1.7242, 1.7552, 1.7842, 1.8113, 1.8369, 1.861, 1.8839],\n",
    "                   'n':[59, 60, 62, 56, 63, 59, 62, 60],\n",
    "                   'y':[ 6, 13, 18, 28, 52, 53, 61, 60]})\n",
    "print(df)"
   ]
  },
  {
   "cell_type": "code",
   "execution_count": null,
   "metadata": {},
   "outputs": [],
   "source": [
    "plt.plot(df.x,df.y/df.n,label=\"y/n\",linestyle='None', marker='o')\n",
    "plt.title('beetle Survival rate')\n",
    "plt.legend()\n"
   ]
  },
  {
   "cell_type": "markdown",
   "metadata": {},
   "source": [
    "生存(n-y)とそうでない（y）という表現の場合，n-yが生存であることを利用して，<br>\n",
    "glm_model = 'y + I(n-y) ~ x' <br>\n",
    "という表現を用いる。I()内の'-'は算術減算を表す。I()が無いと，かっこ内の'-’はPatsyの表記と見なされ'-y'はyを除去することとなる。"
   ]
  },
  {
   "cell_type": "code",
   "execution_count": null,
   "metadata": {},
   "outputs": [],
   "source": [
    "glm_model = 'y + I(n-y) ~ x'\n",
    "result = smf.glm(formula=glm_model, data=df, family=sm.families.Binomial()).fit()\n",
    "print(result.summary())"
   ]
  },
  {
   "cell_type": "code",
   "execution_count": null,
   "metadata": {},
   "outputs": [],
   "source": [
    "b0 , b1 = result.params\n",
    "#x = np.arange(df.x.min(), df.x.max(), 0.1)\n",
    "xx = np.arange(1.5, 2.0, 0.01)\n",
    "#p = 1.0 /( 1.0 + np.exp( -(b0 + b1*xx ))) \n",
    "p = result.predict(exog = pd.DataFrame({'x': xx}))\n",
    "plt.plot(xx,p)\n",
    "plt.plot(df.x,df.y/df.n,label=\"y/n\",linestyle='None', marker='o')\n",
    "\n",
    "plt.xlabel('z')\n",
    "plt.ylabel('p')\n"
   ]
  },
  {
   "cell_type": "code",
   "execution_count": null,
   "metadata": {},
   "outputs": [],
   "source": []
  }
 ],
 "metadata": {
  "interpreter": {
   "hash": "2db524e06e9f5f4ffedc911c917cb75e12dbc923643829bf417064a77eb14d37"
  },
  "kernelspec": {
   "display_name": "Environment (conda_caret2test)",
   "language": "python",
   "name": "conda_caret2test"
  },
  "language_info": {
   "codemirror_mode": {
    "name": "ipython",
    "version": 3
   },
   "file_extension": ".py",
   "mimetype": "text/x-python",
   "name": "python",
   "nbconvert_exporter": "python",
   "pygments_lexer": "ipython3",
   "version": "3.8.5"
  },
  "orig_nbformat": 4
 },
 "nbformat": 4,
 "nbformat_minor": 2
}
