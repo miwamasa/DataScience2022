{
 "cells": [
  {
   "cell_type": "markdown",
   "metadata": {},
   "source": [
    "# Lecture5　回帰分析1\n",
    "<div dir='rtl'>\n",
    "2022.4岩政\n",
    "</div>"
   ]
  },
  {
   "cell_type": "markdown",
   "metadata": {},
   "source": [
    "## statsmodel\n",
    "StatsModelsは、統計モデルを用いて推定や検定、探索ができるPythonライブラリです。\n",
    "\n",
    "\n",
    "ここでは、statsmodelsの最初のIntroductionを紹介します。\n",
    "\n",
    "【簡単なstatsmodelによる統計解析の例】\n",
    "https://www.statsmodels.org/stable/index.html\n"
   ]
  },
  {
   "cell_type": "markdown",
   "metadata": {},
   "source": [
    "statsmodlesは、R言語のような式によるモデルの定義を行うapiをサポートしています。\n",
    "\n",
    "\n",
    "statsmodelの組み込みデータを使います。ここではAndre-Michel Guerry (1833) が集めた、1830年付近のパリの社会データ（犯罪、自殺、、、、）のデータ。"
   ]
  },
  {
   "cell_type": "code",
   "execution_count": 1,
   "metadata": {},
   "outputs": [],
   "source": [
    "# -*- coding: utf-8 -*-\n",
    "import numpy as np\n",
    "import statsmodels.api as sm\n",
    "import statsmodels.formula.api as smf\n",
    "import matplotlib.pyplot as plt\n",
    "%matplotlib inline\n",
    "\n",
    "dat = sm.datasets.get_rdataset(\"Guerry\", \"HistData\").data"
   ]
  },
  {
   "cell_type": "code",
   "execution_count": 2,
   "metadata": {},
   "outputs": [
    {
     "data": {
      "text/html": [
       "<div>\n",
       "<style scoped>\n",
       "    .dataframe tbody tr th:only-of-type {\n",
       "        vertical-align: middle;\n",
       "    }\n",
       "\n",
       "    .dataframe tbody tr th {\n",
       "        vertical-align: top;\n",
       "    }\n",
       "\n",
       "    .dataframe thead th {\n",
       "        text-align: right;\n",
       "    }\n",
       "</style>\n",
       "<table border=\"1\" class=\"dataframe\">\n",
       "  <thead>\n",
       "    <tr style=\"text-align: right;\">\n",
       "      <th></th>\n",
       "      <th>dept</th>\n",
       "      <th>Region</th>\n",
       "      <th>Department</th>\n",
       "      <th>Crime_pers</th>\n",
       "      <th>Crime_prop</th>\n",
       "      <th>Literacy</th>\n",
       "      <th>Donations</th>\n",
       "      <th>Infants</th>\n",
       "      <th>Suicides</th>\n",
       "      <th>MainCity</th>\n",
       "      <th>...</th>\n",
       "      <th>Crime_parents</th>\n",
       "      <th>Infanticide</th>\n",
       "      <th>Donation_clergy</th>\n",
       "      <th>Lottery</th>\n",
       "      <th>Desertion</th>\n",
       "      <th>Instruction</th>\n",
       "      <th>Prostitutes</th>\n",
       "      <th>Distance</th>\n",
       "      <th>Area</th>\n",
       "      <th>Pop1831</th>\n",
       "    </tr>\n",
       "  </thead>\n",
       "  <tbody>\n",
       "    <tr>\n",
       "      <th>0</th>\n",
       "      <td>1</td>\n",
       "      <td>E</td>\n",
       "      <td>Ain</td>\n",
       "      <td>28870</td>\n",
       "      <td>15890</td>\n",
       "      <td>37</td>\n",
       "      <td>5098</td>\n",
       "      <td>33120</td>\n",
       "      <td>35039</td>\n",
       "      <td>2:Med</td>\n",
       "      <td>...</td>\n",
       "      <td>71</td>\n",
       "      <td>60</td>\n",
       "      <td>69</td>\n",
       "      <td>41</td>\n",
       "      <td>55</td>\n",
       "      <td>46</td>\n",
       "      <td>13</td>\n",
       "      <td>218.372</td>\n",
       "      <td>5762</td>\n",
       "      <td>346.03</td>\n",
       "    </tr>\n",
       "    <tr>\n",
       "      <th>1</th>\n",
       "      <td>2</td>\n",
       "      <td>N</td>\n",
       "      <td>Aisne</td>\n",
       "      <td>26226</td>\n",
       "      <td>5521</td>\n",
       "      <td>51</td>\n",
       "      <td>8901</td>\n",
       "      <td>14572</td>\n",
       "      <td>12831</td>\n",
       "      <td>2:Med</td>\n",
       "      <td>...</td>\n",
       "      <td>4</td>\n",
       "      <td>82</td>\n",
       "      <td>36</td>\n",
       "      <td>38</td>\n",
       "      <td>82</td>\n",
       "      <td>24</td>\n",
       "      <td>327</td>\n",
       "      <td>65.945</td>\n",
       "      <td>7369</td>\n",
       "      <td>513.00</td>\n",
       "    </tr>\n",
       "    <tr>\n",
       "      <th>2</th>\n",
       "      <td>3</td>\n",
       "      <td>C</td>\n",
       "      <td>Allier</td>\n",
       "      <td>26747</td>\n",
       "      <td>7925</td>\n",
       "      <td>13</td>\n",
       "      <td>10973</td>\n",
       "      <td>17044</td>\n",
       "      <td>114121</td>\n",
       "      <td>2:Med</td>\n",
       "      <td>...</td>\n",
       "      <td>46</td>\n",
       "      <td>42</td>\n",
       "      <td>76</td>\n",
       "      <td>66</td>\n",
       "      <td>16</td>\n",
       "      <td>85</td>\n",
       "      <td>34</td>\n",
       "      <td>161.927</td>\n",
       "      <td>7340</td>\n",
       "      <td>298.26</td>\n",
       "    </tr>\n",
       "    <tr>\n",
       "      <th>3</th>\n",
       "      <td>4</td>\n",
       "      <td>E</td>\n",
       "      <td>Basses-Alpes</td>\n",
       "      <td>12935</td>\n",
       "      <td>7289</td>\n",
       "      <td>46</td>\n",
       "      <td>2733</td>\n",
       "      <td>23018</td>\n",
       "      <td>14238</td>\n",
       "      <td>1:Sm</td>\n",
       "      <td>...</td>\n",
       "      <td>70</td>\n",
       "      <td>12</td>\n",
       "      <td>37</td>\n",
       "      <td>80</td>\n",
       "      <td>32</td>\n",
       "      <td>29</td>\n",
       "      <td>2</td>\n",
       "      <td>351.399</td>\n",
       "      <td>6925</td>\n",
       "      <td>155.90</td>\n",
       "    </tr>\n",
       "    <tr>\n",
       "      <th>4</th>\n",
       "      <td>5</td>\n",
       "      <td>E</td>\n",
       "      <td>Hautes-Alpes</td>\n",
       "      <td>17488</td>\n",
       "      <td>8174</td>\n",
       "      <td>69</td>\n",
       "      <td>6962</td>\n",
       "      <td>23076</td>\n",
       "      <td>16171</td>\n",
       "      <td>1:Sm</td>\n",
       "      <td>...</td>\n",
       "      <td>22</td>\n",
       "      <td>23</td>\n",
       "      <td>64</td>\n",
       "      <td>79</td>\n",
       "      <td>35</td>\n",
       "      <td>7</td>\n",
       "      <td>1</td>\n",
       "      <td>320.280</td>\n",
       "      <td>5549</td>\n",
       "      <td>129.10</td>\n",
       "    </tr>\n",
       "  </tbody>\n",
       "</table>\n",
       "<p>5 rows × 23 columns</p>\n",
       "</div>"
      ],
      "text/plain": [
       "   dept Region    Department  Crime_pers  Crime_prop  Literacy  Donations  \\\n",
       "0     1      E           Ain       28870       15890        37       5098   \n",
       "1     2      N         Aisne       26226        5521        51       8901   \n",
       "2     3      C        Allier       26747        7925        13      10973   \n",
       "3     4      E  Basses-Alpes       12935        7289        46       2733   \n",
       "4     5      E  Hautes-Alpes       17488        8174        69       6962   \n",
       "\n",
       "   Infants  Suicides MainCity  ...  Crime_parents  Infanticide  \\\n",
       "0    33120     35039    2:Med  ...             71           60   \n",
       "1    14572     12831    2:Med  ...              4           82   \n",
       "2    17044    114121    2:Med  ...             46           42   \n",
       "3    23018     14238     1:Sm  ...             70           12   \n",
       "4    23076     16171     1:Sm  ...             22           23   \n",
       "\n",
       "   Donation_clergy  Lottery  Desertion  Instruction  Prostitutes  Distance  \\\n",
       "0               69       41         55           46           13   218.372   \n",
       "1               36       38         82           24          327    65.945   \n",
       "2               76       66         16           85           34   161.927   \n",
       "3               37       80         32           29            2   351.399   \n",
       "4               64       79         35            7            1   320.280   \n",
       "\n",
       "   Area  Pop1831  \n",
       "0  5762   346.03  \n",
       "1  7369   513.00  \n",
       "2  7340   298.26  \n",
       "3  6925   155.90  \n",
       "4  5549   129.10  \n",
       "\n",
       "[5 rows x 23 columns]"
      ]
     },
     "execution_count": 2,
     "metadata": {},
     "output_type": "execute_result"
    }
   ],
   "source": [
    "dat.head()"
   ]
  },
  {
   "cell_type": "markdown",
   "metadata": {},
   "source": [
    "86のフランス地方行政区(Department)毎の、\n",
    "- Lottery: 一人当たりのロイヤル宝くじの掛け金\n",
    "- Literacy: 識字率\n",
    "- Pop1831: 人口(1831年調査)\n",
    "が関係あるかを見ます。プロットしてみます"
   ]
  },
  {
   "cell_type": "markdown",
   "metadata": {},
   "source": [
    "ここで　Lottery(一人当たりの掛け金)はLiteracy(識識字率)と人口とどう関係するかのモデル式を立てます。\n",
    "\n",
    "式＝'Lottery ~ Literacy + np.log(Pop1831)'\n",
    "\n",
    "以下は式の文法の一部です。上記式は、くじの掛け金（目的変数）は、識字率と、対数をとった人口の2種類の説明変数の重回帰モデルであることをしめします。\n",
    "\n",
    "|モデル式|式の意味|\n",
    "|:---|:---|\n",
    "|y ~ x| 単回帰モデル、yはxより説明され、切片項がない|\n",
    "|y ~ x-1|単回帰モデル、\"-1\"は切片項がないことを意味|\n",
    "|y ~ x1+x2|重回帰モデル、yはx1とx2により説明、切片項なし|\n",
    "|y ~ x1:x2| yは交互作用項(x1*x2)で説明される|\n",
    "|y ~ x1*x2| y ~x1+x2+x1:x2 と同じ"
   ]
  },
  {
   "cell_type": "code",
   "execution_count": 3,
   "metadata": {},
   "outputs": [],
   "source": [
    "# Fit regression model (using the natural log of one of the regressors)\n",
    "results = smf.ols('Lottery ~ Literacy + np.log(Pop1831)', data=dat).fit()"
   ]
  },
  {
   "cell_type": "code",
   "execution_count": 4,
   "metadata": {},
   "outputs": [
    {
     "name": "stdout",
     "output_type": "stream",
     "text": [
      "                            OLS Regression Results                            \n",
      "==============================================================================\n",
      "Dep. Variable:                Lottery   R-squared:                       0.348\n",
      "Model:                            OLS   Adj. R-squared:                  0.333\n",
      "Method:                 Least Squares   F-statistic:                     22.20\n",
      "Date:                Mon, 18 Apr 2022   Prob (F-statistic):           1.90e-08\n",
      "Time:                        19:40:23   Log-Likelihood:                -379.82\n",
      "No. Observations:                  86   AIC:                             765.6\n",
      "Df Residuals:                      83   BIC:                             773.0\n",
      "Df Model:                           2                                         \n",
      "Covariance Type:            nonrobust                                         \n",
      "===================================================================================\n",
      "                      coef    std err          t      P>|t|      [0.025      0.975]\n",
      "-----------------------------------------------------------------------------------\n",
      "Intercept         246.4341     35.233      6.995      0.000     176.358     316.510\n",
      "Literacy           -0.4889      0.128     -3.832      0.000      -0.743      -0.235\n",
      "np.log(Pop1831)   -31.3114      5.977     -5.239      0.000     -43.199     -19.424\n",
      "==============================================================================\n",
      "Omnibus:                        3.713   Durbin-Watson:                   2.019\n",
      "Prob(Omnibus):                  0.156   Jarque-Bera (JB):                3.394\n",
      "Skew:                          -0.487   Prob(JB):                        0.183\n",
      "Kurtosis:                       3.003   Cond. No.                         702.\n",
      "==============================================================================\n",
      "\n",
      "Notes:\n",
      "[1] Standard Errors assume that the covariance matrix of the errors is correctly specified.\n"
     ]
    }
   ],
   "source": [
    "print(results.summary())"
   ]
  },
  {
   "cell_type": "code",
   "execution_count": 5,
   "metadata": {},
   "outputs": [
    {
     "data": {
      "text/plain": [
       "Intercept          246.434135\n",
       "Literacy            -0.488923\n",
       "np.log(Pop1831)    -31.311392\n",
       "dtype: float64"
      ]
     },
     "execution_count": 5,
     "metadata": {},
     "output_type": "execute_result"
    }
   ],
   "source": [
    "results.params"
   ]
  },
  {
   "cell_type": "markdown",
   "metadata": {},
   "source": [
    "グラフにしてみます。"
   ]
  },
  {
   "cell_type": "code",
   "execution_count": 31,
   "metadata": {},
   "outputs": [
    {
     "data": {
      "text/plain": [
       "[<matplotlib.lines.Line2D at 0x1f6e366ccd0>]"
      ]
     },
     "execution_count": 31,
     "metadata": {},
     "output_type": "execute_result"
    },
    {
     "data": {
      "image/png": "[encoded data removed]",
      "text/plain": [
       "<Figure size 640x480 with 1 Axes>"
      ]
     },
     "metadata": {},
     "output_type": "display_data"
    }
   ],
   "source": [
    "xdata= results.params['Intercept']+ dat['Literacy']+results.params['Literacy']*dat['Literacy']+results.params['np.log(Pop1831)']*np.log(dat['Pop1831'])\n",
    "plt.scatter(xdata, dat['Lottery'],)\n",
    "x=np.linspace(50,130,1000)\n",
    "plt.plot(x,x)"
   ]
  },
  {
   "cell_type": "markdown",
   "metadata": {},
   "source": [
    "結果の表示\n",
    "\n",
    "例題は、重回帰（複数の説明変数を使う）回帰なので、説明変数と目的変数の間の関係の可視化は困難です。そこで、説明変数を１つ選択してプロット（部分プロット）をすることができます。"
   ]
  },
  {
   "cell_type": "code",
   "execution_count": 39,
   "metadata": {},
   "outputs": [
    {
     "name": "stdout",
     "output_type": "stream",
     "text": [
      "eval_env: 1\n",
      "eval_env: 1\n",
      "eval_env: 1\n"
     ]
    },
    {
     "data": {
      "image/png": "[encoded data removed]",
      "text/plain": [
       "<Figure size 640x480 with 3 Axes>"
      ]
     },
     "metadata": {},
     "output_type": "display_data"
    }
   ],
   "source": [
    "fig = sm.graphics.plot_partregress_grid(results)\n",
    "fig.tight_layout(pad=1.0)"
   ]
  },
  {
   "cell_type": "markdown",
   "metadata": {},
   "source": [
    "部分回帰グラフを表示してみます。"
   ]
  },
  {
   "cell_type": "code",
   "execution_count": 38,
   "metadata": {},
   "outputs": [
    {
     "name": "stdout",
     "output_type": "stream",
     "text": [
      "eval_env: 1\n"
     ]
    },
    {
     "data": {
      "image/png": "[encoded data removed]",
      "text/plain": [
       "<Figure size 800x400 with 1 Axes>"
      ]
     },
     "metadata": {},
     "output_type": "display_data"
    }
   ],
   "source": [
    "fig, ax = plt.subplots(figsize=(8,4))\n",
    "ax.title.set_color('white')\n",
    "\n",
    "plt.style.use('default')\n",
    "sm.graphics.plot_partregress('Lottery', 'Literacy', ['Pop1831'], ax=ax,\n",
    "                                data=dat, obs_labels=False);"
   ]
  },
  {
   "cell_type": "markdown",
   "metadata": {},
   "source": [
    "まとめたもの"
   ]
  },
  {
   "cell_type": "code",
   "execution_count": 3,
   "metadata": {},
   "outputs": [
    {
     "name": "stdout",
     "output_type": "stream",
     "text": [
      "                            OLS Regression Results                            \n",
      "==============================================================================\n",
      "Dep. Variable:                Lottery   R-squared:                       0.348\n",
      "Model:                            OLS   Adj. R-squared:                  0.333\n",
      "Method:                 Least Squares   F-statistic:                     22.20\n",
      "Date:                Wed, 02 Mar 2022   Prob (F-statistic):           1.90e-08\n",
      "Time:                        20:56:56   Log-Likelihood:                -379.82\n",
      "No. Observations:                  86   AIC:                             765.6\n",
      "Df Residuals:                      83   BIC:                             773.0\n",
      "Df Model:                           2                                         \n",
      "Covariance Type:            nonrobust                                         \n",
      "===================================================================================\n",
      "                      coef    std err          t      P>|t|      [0.025      0.975]\n",
      "-----------------------------------------------------------------------------------\n",
      "Intercept         246.4341     35.233      6.995      0.000     176.358     316.510\n",
      "Literacy           -0.4889      0.128     -3.832      0.000      -0.743      -0.235\n",
      "np.log(Pop1831)   -31.3114      5.977     -5.239      0.000     -43.199     -19.424\n",
      "==============================================================================\n",
      "Omnibus:                        3.713   Durbin-Watson:                   2.019\n",
      "Prob(Omnibus):                  0.156   Jarque-Bera (JB):                3.394\n",
      "Skew:                          -0.487   Prob(JB):                        0.183\n",
      "Kurtosis:                       3.003   Cond. No.                         702.\n",
      "==============================================================================\n",
      "\n",
      "Notes:\n",
      "[1] Standard Errors assume that the covariance matrix of the errors is correctly specified.\n"
     ]
    }
   ],
   "source": [
    "import numpy as np\n",
    "import statsmodels.api as sm\n",
    "import statsmodels.formula.api as smf\n",
    "# Load data\n",
    "dat = sm.datasets.get_rdataset(\"Guerry\", \"HistData\").data\n",
    "# Fit regression model (using the natural log of one of the regressors)\n",
    "results = smf.ols('Lottery ~ Literacy + np.log(Pop1831)', data=dat).fit()\n",
    "# Inspect the results\n",
    "print(results.summary())"
   ]
  },
  {
   "cell_type": "markdown",
   "metadata": {},
   "source": [
    "R言語の式以外の書き方（もともとのstatsmodelでのモデル入力のやり方）でやるとこうなります。\n",
    "\n",
    "ここでは$X$を説明変数、$Y$を目的変数とし\n",
    "\n",
    "$X=\\beta_0+\\beta_1x$\n",
    "\n",
    "とし、\n",
    "\n",
    "$y=X+\\epsilon$\n",
    "\n",
    "ここで、$\\beta$は係数、$\\epsilon$はノイズである。\n",
    "\n",
    "$\\beta_0=1,\\beta_1=0.1$として人工データを生成しそのデータから$\\beta$を推定させる。"
   ]
  },
  {
   "cell_type": "code",
   "execution_count": 41,
   "metadata": {},
   "outputs": [
    {
     "name": "stdout",
     "output_type": "stream",
     "text": [
      "                            OLS Regression Results                            \n",
      "==============================================================================\n",
      "Dep. Variable:                      y   R-squared:                       0.029\n",
      "Model:                            OLS   Adj. R-squared:                  0.019\n",
      "Method:                 Least Squares   F-statistic:                     2.931\n",
      "Date:                Mon, 18 Apr 2022   Prob (F-statistic):             0.0901\n",
      "Time:                        20:34:17   Log-Likelihood:                -146.79\n",
      "No. Observations:                 100   AIC:                             297.6\n",
      "Df Residuals:                      98   BIC:                             302.8\n",
      "Df Model:                           1                                         \n",
      "Covariance Type:            nonrobust                                         \n",
      "==============================================================================\n",
      "                 coef    std err          t      P>|t|      [0.025      0.975]\n",
      "------------------------------------------------------------------------------\n",
      "const          1.1732      0.211      5.571      0.000       0.755       1.591\n",
      "x1             0.0623      0.036      1.712      0.090      -0.010       0.134\n",
      "==============================================================================\n",
      "Omnibus:                        1.739   Durbin-Watson:                   2.261\n",
      "Prob(Omnibus):                  0.419   Jarque-Bera (JB):                1.749\n",
      "Skew:                           0.257   Prob(JB):                        0.417\n",
      "Kurtosis:                       2.607   Cond. No.                         11.7\n",
      "==============================================================================\n",
      "\n",
      "Notes:\n",
      "[1] Standard Errors assume that the covariance matrix of the errors is correctly specified.\n"
     ]
    }
   ],
   "source": [
    "import numpy as np\n",
    "import statsmodels.api as sm\n",
    "from statsmodels.sandbox.regression.predstd import wls_prediction_std\n",
    "\n",
    "np.random.seed(9876789)\n",
    "\n",
    "# 100個のサンプルを生成\n",
    "nsample = 100\n",
    "x = np.linspace(0, 10, nsample) # 0から10まで100個等間隔の点列を生成\n",
    "beta = np.array([1, 0.1]) #人工データでのβ\n",
    "e = np.random.normal(size=nsample) #ノイズは正規分布から100個生成\n",
    "X = sm.add_constant(x) # Xは設計行列で、まずはxに定数項を追加\n",
    "y_true=np.dot(X, beta) # y_trueも確率変数でXと掛け合わせてy_trueを得る\n",
    "y = y_true + e # y_trueにノイズを付与して人工データyが完成\n",
    "\n",
    "# Fit regression model\n",
    "results = sm.OLS(y, X).fit() #データyに対して設計行列(定数とxで構成)で最小2乗回帰\n",
    "# Inspect the results\n",
    "print(results.summary())"
   ]
  },
  {
   "cell_type": "code",
   "execution_count": 52,
   "metadata": {},
   "outputs": [
    {
     "data": {
      "text/plain": [
       "((100,), (100, 2))"
      ]
     },
     "execution_count": 52,
     "metadata": {},
     "output_type": "execute_result"
    }
   ],
   "source": [
    "x.shape,X.shape"
   ]
  },
  {
   "cell_type": "code",
   "execution_count": 58,
   "metadata": {},
   "outputs": [],
   "source": [
    "a=np.array([[1,2],[3,4]])"
   ]
  },
  {
   "cell_type": "code",
   "execution_count": 61,
   "metadata": {},
   "outputs": [
    {
     "data": {
      "text/plain": [
       "array([ 8, 12])"
      ]
     },
     "execution_count": 61,
     "metadata": {},
     "output_type": "execute_result"
    }
   ],
   "source": [
    "np.dot(a.T,[2,2])"
   ]
  },
  {
   "cell_type": "code",
   "execution_count": 53,
   "metadata": {},
   "outputs": [
    {
     "data": {
      "text/plain": [
       "array([[ 1.        ,  0.        ],\n",
       "       [ 1.        ,  0.1010101 ],\n",
       "       [ 1.        ,  0.2020202 ],\n",
       "       [ 1.        ,  0.3030303 ],\n",
       "       [ 1.        ,  0.4040404 ],\n",
       "       [ 1.        ,  0.50505051],\n",
       "       [ 1.        ,  0.60606061],\n",
       "       [ 1.        ,  0.70707071],\n",
       "       [ 1.        ,  0.80808081],\n",
       "       [ 1.        ,  0.90909091],\n",
       "       [ 1.        ,  1.01010101],\n",
       "       [ 1.        ,  1.11111111],\n",
       "       [ 1.        ,  1.21212121],\n",
       "       [ 1.        ,  1.31313131],\n",
       "       [ 1.        ,  1.41414141],\n",
       "       [ 1.        ,  1.51515152],\n",
       "       [ 1.        ,  1.61616162],\n",
       "       [ 1.        ,  1.71717172],\n",
       "       [ 1.        ,  1.81818182],\n",
       "       [ 1.        ,  1.91919192],\n",
       "       [ 1.        ,  2.02020202],\n",
       "       [ 1.        ,  2.12121212],\n",
       "       [ 1.        ,  2.22222222],\n",
       "       [ 1.        ,  2.32323232],\n",
       "       [ 1.        ,  2.42424242],\n",
       "       [ 1.        ,  2.52525253],\n",
       "       [ 1.        ,  2.62626263],\n",
       "       [ 1.        ,  2.72727273],\n",
       "       [ 1.        ,  2.82828283],\n",
       "       [ 1.        ,  2.92929293],\n",
       "       [ 1.        ,  3.03030303],\n",
       "       [ 1.        ,  3.13131313],\n",
       "       [ 1.        ,  3.23232323],\n",
       "       [ 1.        ,  3.33333333],\n",
       "       [ 1.        ,  3.43434343],\n",
       "       [ 1.        ,  3.53535354],\n",
       "       [ 1.        ,  3.63636364],\n",
       "       [ 1.        ,  3.73737374],\n",
       "       [ 1.        ,  3.83838384],\n",
       "       [ 1.        ,  3.93939394],\n",
       "       [ 1.        ,  4.04040404],\n",
       "       [ 1.        ,  4.14141414],\n",
       "       [ 1.        ,  4.24242424],\n",
       "       [ 1.        ,  4.34343434],\n",
       "       [ 1.        ,  4.44444444],\n",
       "       [ 1.        ,  4.54545455],\n",
       "       [ 1.        ,  4.64646465],\n",
       "       [ 1.        ,  4.74747475],\n",
       "       [ 1.        ,  4.84848485],\n",
       "       [ 1.        ,  4.94949495],\n",
       "       [ 1.        ,  5.05050505],\n",
       "       [ 1.        ,  5.15151515],\n",
       "       [ 1.        ,  5.25252525],\n",
       "       [ 1.        ,  5.35353535],\n",
       "       [ 1.        ,  5.45454545],\n",
       "       [ 1.        ,  5.55555556],\n",
       "       [ 1.        ,  5.65656566],\n",
       "       [ 1.        ,  5.75757576],\n",
       "       [ 1.        ,  5.85858586],\n",
       "       [ 1.        ,  5.95959596],\n",
       "       [ 1.        ,  6.06060606],\n",
       "       [ 1.        ,  6.16161616],\n",
       "       [ 1.        ,  6.26262626],\n",
       "       [ 1.        ,  6.36363636],\n",
       "       [ 1.        ,  6.46464646],\n",
       "       [ 1.        ,  6.56565657],\n",
       "       [ 1.        ,  6.66666667],\n",
       "       [ 1.        ,  6.76767677],\n",
       "       [ 1.        ,  6.86868687],\n",
       "       [ 1.        ,  6.96969697],\n",
       "       [ 1.        ,  7.07070707],\n",
       "       [ 1.        ,  7.17171717],\n",
       "       [ 1.        ,  7.27272727],\n",
       "       [ 1.        ,  7.37373737],\n",
       "       [ 1.        ,  7.47474747],\n",
       "       [ 1.        ,  7.57575758],\n",
       "       [ 1.        ,  7.67676768],\n",
       "       [ 1.        ,  7.77777778],\n",
       "       [ 1.        ,  7.87878788],\n",
       "       [ 1.        ,  7.97979798],\n",
       "       [ 1.        ,  8.08080808],\n",
       "       [ 1.        ,  8.18181818],\n",
       "       [ 1.        ,  8.28282828],\n",
       "       [ 1.        ,  8.38383838],\n",
       "       [ 1.        ,  8.48484848],\n",
       "       [ 1.        ,  8.58585859],\n",
       "       [ 1.        ,  8.68686869],\n",
       "       [ 1.        ,  8.78787879],\n",
       "       [ 1.        ,  8.88888889],\n",
       "       [ 1.        ,  8.98989899],\n",
       "       [ 1.        ,  9.09090909],\n",
       "       [ 1.        ,  9.19191919],\n",
       "       [ 1.        ,  9.29292929],\n",
       "       [ 1.        ,  9.39393939],\n",
       "       [ 1.        ,  9.49494949],\n",
       "       [ 1.        ,  9.5959596 ],\n",
       "       [ 1.        ,  9.6969697 ],\n",
       "       [ 1.        ,  9.7979798 ],\n",
       "       [ 1.        ,  9.8989899 ],\n",
       "       [ 1.        , 10.        ]])"
      ]
     },
     "execution_count": 53,
     "metadata": {},
     "output_type": "execute_result"
    }
   ],
   "source": [
    "X"
   ]
  },
  {
   "cell_type": "code",
   "execution_count": 32,
   "metadata": {},
   "outputs": [
    {
     "data": {
      "text/plain": [
       "array([1.17316847, 0.06228625])"
      ]
     },
     "execution_count": 32,
     "metadata": {},
     "output_type": "execute_result"
    }
   ],
   "source": [
    "results.params"
   ]
  },
  {
   "cell_type": "code",
   "execution_count": 33,
   "metadata": {},
   "outputs": [
    {
     "data": {
      "text/plain": [
       "0.029038651902007606"
      ]
     },
     "execution_count": 33,
     "metadata": {},
     "output_type": "execute_result"
    }
   ],
   "source": [
    "results.rsquared"
   ]
  },
  {
   "cell_type": "code",
   "execution_count": 39,
   "metadata": {},
   "outputs": [
    {
     "data": {
      "image/png": "[encoded data removed]",
      "text/plain": [
       "<Figure size 576x432 with 1 Axes>"
      ]
     },
     "metadata": {
      "needs_background": "light"
     },
     "output_type": "display_data"
    }
   ],
   "source": [
    "prstd, iv_l, iv_u = wls_prediction_std(results)\n",
    "fig, ax = plt.subplots(figsize=(8,6))\n",
    "ax.plot(x, y, 'o', label=\"data\")\n",
    "ax.plot(x, y_true, 'b-', label=\"True\")\n",
    "ax.plot(x, results.fittedvalues, 'r--.', label=\"OLS\")\n",
    "ax.plot(x, iv_u, 'r--')\n",
    "ax.plot(x, iv_l, 'r--')\n",
    "ax.legend(loc='best');"
   ]
  },
  {
   "cell_type": "code",
   "execution_count": 38,
   "metadata": {},
   "outputs": [
    {
     "data": {
      "text/plain": [
       "(array([ 5.,  8., 16., 15., 22., 14.,  7.,  7.,  5.,  1.]),\n",
       " array([-2.15768251, -1.66427675, -1.17087099, -0.67746523, -0.18405946,\n",
       "         0.3093463 ,  0.80275206,  1.29615782,  1.78956358,  2.28296934,\n",
       "         2.77637511]),\n",
       " <BarContainer object of 10 artists>)"
      ]
     },
     "execution_count": 38,
     "metadata": {},
     "output_type": "execute_result"
    },
    {
     "data": {
      "image/png": "[encoded data removed]",
      "text/plain": [
       "<Figure size 432x288 with 1 Axes>"
      ]
     },
     "metadata": {
      "needs_background": "light"
     },
     "output_type": "display_data"
    }
   ],
   "source": [
    "plt.hist(results.resid)"
   ]
  },
  {
   "cell_type": "code",
   "execution_count": 41,
   "metadata": {},
   "outputs": [
    {
     "data": {
      "text/plain": [
       "array([[ 1.        ,  0.        ],\n",
       "       [ 1.        ,  0.1010101 ],\n",
       "       [ 1.        ,  0.2020202 ],\n",
       "       [ 1.        ,  0.3030303 ],\n",
       "       [ 1.        ,  0.4040404 ],\n",
       "       [ 1.        ,  0.50505051],\n",
       "       [ 1.        ,  0.60606061],\n",
       "       [ 1.        ,  0.70707071],\n",
       "       [ 1.        ,  0.80808081],\n",
       "       [ 1.        ,  0.90909091],\n",
       "       [ 1.        ,  1.01010101],\n",
       "       [ 1.        ,  1.11111111],\n",
       "       [ 1.        ,  1.21212121],\n",
       "       [ 1.        ,  1.31313131],\n",
       "       [ 1.        ,  1.41414141],\n",
       "       [ 1.        ,  1.51515152],\n",
       "       [ 1.        ,  1.61616162],\n",
       "       [ 1.        ,  1.71717172],\n",
       "       [ 1.        ,  1.81818182],\n",
       "       [ 1.        ,  1.91919192],\n",
       "       [ 1.        ,  2.02020202],\n",
       "       [ 1.        ,  2.12121212],\n",
       "       [ 1.        ,  2.22222222],\n",
       "       [ 1.        ,  2.32323232],\n",
       "       [ 1.        ,  2.42424242],\n",
       "       [ 1.        ,  2.52525253],\n",
       "       [ 1.        ,  2.62626263],\n",
       "       [ 1.        ,  2.72727273],\n",
       "       [ 1.        ,  2.82828283],\n",
       "       [ 1.        ,  2.92929293],\n",
       "       [ 1.        ,  3.03030303],\n",
       "       [ 1.        ,  3.13131313],\n",
       "       [ 1.        ,  3.23232323],\n",
       "       [ 1.        ,  3.33333333],\n",
       "       [ 1.        ,  3.43434343],\n",
       "       [ 1.        ,  3.53535354],\n",
       "       [ 1.        ,  3.63636364],\n",
       "       [ 1.        ,  3.73737374],\n",
       "       [ 1.        ,  3.83838384],\n",
       "       [ 1.        ,  3.93939394],\n",
       "       [ 1.        ,  4.04040404],\n",
       "       [ 1.        ,  4.14141414],\n",
       "       [ 1.        ,  4.24242424],\n",
       "       [ 1.        ,  4.34343434],\n",
       "       [ 1.        ,  4.44444444],\n",
       "       [ 1.        ,  4.54545455],\n",
       "       [ 1.        ,  4.64646465],\n",
       "       [ 1.        ,  4.74747475],\n",
       "       [ 1.        ,  4.84848485],\n",
       "       [ 1.        ,  4.94949495],\n",
       "       [ 1.        ,  5.05050505],\n",
       "       [ 1.        ,  5.15151515],\n",
       "       [ 1.        ,  5.25252525],\n",
       "       [ 1.        ,  5.35353535],\n",
       "       [ 1.        ,  5.45454545],\n",
       "       [ 1.        ,  5.55555556],\n",
       "       [ 1.        ,  5.65656566],\n",
       "       [ 1.        ,  5.75757576],\n",
       "       [ 1.        ,  5.85858586],\n",
       "       [ 1.        ,  5.95959596],\n",
       "       [ 1.        ,  6.06060606],\n",
       "       [ 1.        ,  6.16161616],\n",
       "       [ 1.        ,  6.26262626],\n",
       "       [ 1.        ,  6.36363636],\n",
       "       [ 1.        ,  6.46464646],\n",
       "       [ 1.        ,  6.56565657],\n",
       "       [ 1.        ,  6.66666667],\n",
       "       [ 1.        ,  6.76767677],\n",
       "       [ 1.        ,  6.86868687],\n",
       "       [ 1.        ,  6.96969697],\n",
       "       [ 1.        ,  7.07070707],\n",
       "       [ 1.        ,  7.17171717],\n",
       "       [ 1.        ,  7.27272727],\n",
       "       [ 1.        ,  7.37373737],\n",
       "       [ 1.        ,  7.47474747],\n",
       "       [ 1.        ,  7.57575758],\n",
       "       [ 1.        ,  7.67676768],\n",
       "       [ 1.        ,  7.77777778],\n",
       "       [ 1.        ,  7.87878788],\n",
       "       [ 1.        ,  7.97979798],\n",
       "       [ 1.        ,  8.08080808],\n",
       "       [ 1.        ,  8.18181818],\n",
       "       [ 1.        ,  8.28282828],\n",
       "       [ 1.        ,  8.38383838],\n",
       "       [ 1.        ,  8.48484848],\n",
       "       [ 1.        ,  8.58585859],\n",
       "       [ 1.        ,  8.68686869],\n",
       "       [ 1.        ,  8.78787879],\n",
       "       [ 1.        ,  8.88888889],\n",
       "       [ 1.        ,  8.98989899],\n",
       "       [ 1.        ,  9.09090909],\n",
       "       [ 1.        ,  9.19191919],\n",
       "       [ 1.        ,  9.29292929],\n",
       "       [ 1.        ,  9.39393939],\n",
       "       [ 1.        ,  9.49494949],\n",
       "       [ 1.        ,  9.5959596 ],\n",
       "       [ 1.        ,  9.6969697 ],\n",
       "       [ 1.        ,  9.7979798 ],\n",
       "       [ 1.        ,  9.8989899 ],\n",
       "       [ 1.        , 10.        ]])"
      ]
     },
     "execution_count": 41,
     "metadata": {},
     "output_type": "execute_result"
    }
   ],
   "source": [
    "X"
   ]
  },
  {
   "cell_type": "markdown",
   "metadata": {},
   "source": [
    "以上の例を、R-styleでもやってみる\n",
    "\n",
    "\n"
   ]
  },
  {
   "cell_type": "code",
   "execution_count": 46,
   "metadata": {},
   "outputs": [
    {
     "data": {
      "text/html": [
       "<div>\n",
       "<style scoped>\n",
       "    .dataframe tbody tr th:only-of-type {\n",
       "        vertical-align: middle;\n",
       "    }\n",
       "\n",
       "    .dataframe tbody tr th {\n",
       "        vertical-align: top;\n",
       "    }\n",
       "\n",
       "    .dataframe thead th {\n",
       "        text-align: right;\n",
       "    }\n",
       "</style>\n",
       "<table border=\"1\" class=\"dataframe\">\n",
       "  <thead>\n",
       "    <tr style=\"text-align: right;\">\n",
       "      <th></th>\n",
       "      <th>y</th>\n",
       "      <th>x</th>\n",
       "    </tr>\n",
       "  </thead>\n",
       "  <tbody>\n",
       "    <tr>\n",
       "      <th>0</th>\n",
       "      <td>0.159484</td>\n",
       "      <td>0.00000</td>\n",
       "    </tr>\n",
       "    <tr>\n",
       "      <th>1</th>\n",
       "      <td>2.607596</td>\n",
       "      <td>0.10101</td>\n",
       "    </tr>\n",
       "    <tr>\n",
       "      <th>2</th>\n",
       "      <td>1.485744</td>\n",
       "      <td>0.20202</td>\n",
       "    </tr>\n",
       "    <tr>\n",
       "      <th>3</th>\n",
       "      <td>0.522144</td>\n",
       "      <td>0.30303</td>\n",
       "    </tr>\n",
       "    <tr>\n",
       "      <th>4</th>\n",
       "      <td>3.974710</td>\n",
       "      <td>0.40404</td>\n",
       "    </tr>\n",
       "    <tr>\n",
       "      <th>...</th>\n",
       "      <td>...</td>\n",
       "      <td>...</td>\n",
       "    </tr>\n",
       "    <tr>\n",
       "      <th>95</th>\n",
       "      <td>2.381352</td>\n",
       "      <td>9.59596</td>\n",
       "    </tr>\n",
       "    <tr>\n",
       "      <th>96</th>\n",
       "      <td>4.045296</td>\n",
       "      <td>9.69697</td>\n",
       "    </tr>\n",
       "    <tr>\n",
       "      <th>97</th>\n",
       "      <td>0.542734</td>\n",
       "      <td>9.79798</td>\n",
       "    </tr>\n",
       "    <tr>\n",
       "      <th>98</th>\n",
       "      <td>2.137992</td>\n",
       "      <td>9.89899</td>\n",
       "    </tr>\n",
       "    <tr>\n",
       "      <th>99</th>\n",
       "      <td>0.136853</td>\n",
       "      <td>10.00000</td>\n",
       "    </tr>\n",
       "  </tbody>\n",
       "</table>\n",
       "<p>100 rows × 2 columns</p>\n",
       "</div>"
      ],
      "text/plain": [
       "           y         x\n",
       "0   0.159484   0.00000\n",
       "1   2.607596   0.10101\n",
       "2   1.485744   0.20202\n",
       "3   0.522144   0.30303\n",
       "4   3.974710   0.40404\n",
       "..       ...       ...\n",
       "95  2.381352   9.59596\n",
       "96  4.045296   9.69697\n",
       "97  0.542734   9.79798\n",
       "98  2.137992   9.89899\n",
       "99  0.136853  10.00000\n",
       "\n",
       "[100 rows x 2 columns]"
      ]
     },
     "execution_count": 46,
     "metadata": {},
     "output_type": "execute_result"
    }
   ],
   "source": [
    "import numpy as np\n",
    "import statsmodels.api as sm\n",
    "from statsmodels.sandbox.regression.predstd import wls_prediction_std\n",
    "import pandas as pd\n",
    "\n",
    "df=pd.DataFrame({'y':y,'x':x})\n",
    "df"
   ]
  },
  {
   "cell_type": "code",
   "execution_count": 47,
   "metadata": {},
   "outputs": [
    {
     "name": "stdout",
     "output_type": "stream",
     "text": [
      "                            OLS Regression Results                            \n",
      "==============================================================================\n",
      "Dep. Variable:                      y   R-squared:                       0.029\n",
      "Model:                            OLS   Adj. R-squared:                  0.019\n",
      "Method:                 Least Squares   F-statistic:                     2.931\n",
      "Date:                Mon, 18 Apr 2022   Prob (F-statistic):             0.0901\n",
      "Time:                        18:11:25   Log-Likelihood:                -146.79\n",
      "No. Observations:                 100   AIC:                             297.6\n",
      "Df Residuals:                      98   BIC:                             302.8\n",
      "Df Model:                           1                                         \n",
      "Covariance Type:            nonrobust                                         \n",
      "==============================================================================\n",
      "                 coef    std err          t      P>|t|      [0.025      0.975]\n",
      "------------------------------------------------------------------------------\n",
      "Intercept      1.1732      0.211      5.571      0.000       0.755       1.591\n",
      "x              0.0623      0.036      1.712      0.090      -0.010       0.134\n",
      "==============================================================================\n",
      "Omnibus:                        1.739   Durbin-Watson:                   2.261\n",
      "Prob(Omnibus):                  0.419   Jarque-Bera (JB):                1.749\n",
      "Skew:                           0.257   Prob(JB):                        0.417\n",
      "Kurtosis:                       2.607   Cond. No.                         11.7\n",
      "==============================================================================\n",
      "\n",
      "Notes:\n",
      "[1] Standard Errors assume that the covariance matrix of the errors is correctly specified.\n"
     ]
    }
   ],
   "source": [
    "# Fit regression model (using the natural log of one of the regressors)\n",
    "results = smf.ols('y ~ x', data=df).fit()\n",
    "# Inspect the results\n",
    "print(results.summary())"
   ]
  },
  {
   "cell_type": "code",
   "execution_count": 48,
   "metadata": {},
   "outputs": [
    {
     "data": {
      "image/png": "[encoded data removed]",
      "text/plain": [
       "<Figure size 576x432 with 1 Axes>"
      ]
     },
     "metadata": {
      "needs_background": "light"
     },
     "output_type": "display_data"
    }
   ],
   "source": [
    "prstd, iv_l, iv_u = wls_prediction_std(results)\n",
    "fig, ax = plt.subplots(figsize=(8,6))\n",
    "ax.plot(x, y, 'o', label=\"data\")\n",
    "ax.plot(x, y_true, 'b-', label=\"True\")\n",
    "ax.plot(x, results.fittedvalues, 'r--.', label=\"OLS\")\n",
    "ax.plot(x, iv_u, 'r--')\n",
    "ax.plot(x, iv_l, 'r--')\n",
    "ax.legend(loc='best');"
   ]
  },
  {
   "cell_type": "markdown",
   "metadata": {},
   "source": [
    "## 家計調査"
   ]
  },
  {
   "cell_type": "code",
   "execution_count": 8,
   "metadata": {},
   "outputs": [
    {
     "name": "stdout",
     "output_type": "stream",
     "text": [
      "   income  expenditure  engel\n",
      "0     216       172462   30.8\n",
      "1     304       204599   29.9\n",
      "2     356       224776   28.8\n",
      "3     413       240153   27.8\n",
      "4     481       255497   27.3\n",
      "5     555       275490   25.9\n",
      "6     642       295447   25.7\n",
      "7     752       323072   24.7\n",
      "8     902       362769   23.4\n",
      "9    1461       467616   21.8\n"
     ]
    }
   ],
   "source": [
    "# -*- coding: utf-8 -*-\n",
    "import numpy as np\n",
    "import pandas as pd\n",
    "import matplotlib.pyplot as plt\n",
    "%matplotlib inline\n",
    "\n",
    "import statsmodels.formula.api as smf\n",
    "\n",
    "url = 'https://sites.google.com/site/datasciencehiro/datasets/FamilyIncome.csv'\n",
    "#url = 'datasets/FamilyIncome.csv'\n",
    "df = pd.read_csv(url, comment='#')\n",
    "FLAG_fig=True\n",
    "\n",
    "print(df)"
   ]
  },
  {
   "cell_type": "code",
   "execution_count": 2,
   "metadata": {},
   "outputs": [
    {
     "data": {
      "text/html": [
       "<div>\n",
       "<style scoped>\n",
       "    .dataframe tbody tr th:only-of-type {\n",
       "        vertical-align: middle;\n",
       "    }\n",
       "\n",
       "    .dataframe tbody tr th {\n",
       "        vertical-align: top;\n",
       "    }\n",
       "\n",
       "    .dataframe thead th {\n",
       "        text-align: right;\n",
       "    }\n",
       "</style>\n",
       "<table border=\"1\" class=\"dataframe\">\n",
       "  <thead>\n",
       "    <tr style=\"text-align: right;\">\n",
       "      <th></th>\n",
       "      <th>income</th>\n",
       "      <th>expenditure</th>\n",
       "      <th>engel</th>\n",
       "    </tr>\n",
       "  </thead>\n",
       "  <tbody>\n",
       "    <tr>\n",
       "      <th>0</th>\n",
       "      <td>216</td>\n",
       "      <td>172462</td>\n",
       "      <td>30.8</td>\n",
       "    </tr>\n",
       "    <tr>\n",
       "      <th>1</th>\n",
       "      <td>304</td>\n",
       "      <td>204599</td>\n",
       "      <td>29.9</td>\n",
       "    </tr>\n",
       "    <tr>\n",
       "      <th>2</th>\n",
       "      <td>356</td>\n",
       "      <td>224776</td>\n",
       "      <td>28.8</td>\n",
       "    </tr>\n",
       "    <tr>\n",
       "      <th>3</th>\n",
       "      <td>413</td>\n",
       "      <td>240153</td>\n",
       "      <td>27.8</td>\n",
       "    </tr>\n",
       "    <tr>\n",
       "      <th>4</th>\n",
       "      <td>481</td>\n",
       "      <td>255497</td>\n",
       "      <td>27.3</td>\n",
       "    </tr>\n",
       "    <tr>\n",
       "      <th>5</th>\n",
       "      <td>555</td>\n",
       "      <td>275490</td>\n",
       "      <td>25.9</td>\n",
       "    </tr>\n",
       "    <tr>\n",
       "      <th>6</th>\n",
       "      <td>642</td>\n",
       "      <td>295447</td>\n",
       "      <td>25.7</td>\n",
       "    </tr>\n",
       "    <tr>\n",
       "      <th>7</th>\n",
       "      <td>752</td>\n",
       "      <td>323072</td>\n",
       "      <td>24.7</td>\n",
       "    </tr>\n",
       "    <tr>\n",
       "      <th>8</th>\n",
       "      <td>902</td>\n",
       "      <td>362769</td>\n",
       "      <td>23.4</td>\n",
       "    </tr>\n",
       "    <tr>\n",
       "      <th>9</th>\n",
       "      <td>1461</td>\n",
       "      <td>467616</td>\n",
       "      <td>21.8</td>\n",
       "    </tr>\n",
       "  </tbody>\n",
       "</table>\n",
       "</div>"
      ],
      "text/plain": [
       "   income  expenditure  engel\n",
       "0     216       172462   30.8\n",
       "1     304       204599   29.9\n",
       "2     356       224776   28.8\n",
       "3     413       240153   27.8\n",
       "4     481       255497   27.3\n",
       "5     555       275490   25.9\n",
       "6     642       295447   25.7\n",
       "7     752       323072   24.7\n",
       "8     902       362769   23.4\n",
       "9    1461       467616   21.8"
      ]
     },
     "execution_count": 2,
     "metadata": {},
     "output_type": "execute_result"
    }
   ],
   "source": [
    "df"
   ]
  },
  {
   "cell_type": "markdown",
   "metadata": {},
   "source": [
    "- ols(ordinary least squares、最小2乗)法を用いて単回帰モデルを求める。\n",
    "- https://en.wikipedia.org/wiki/Ordinary_least_squares データ数 < 20 の場合には、尖度（kurtosis）の評価（olsではkurtosistestと表記）が有効にできないというwarningメッセージが現れるが、ここではこの評価は使わないので無視する。\n",
    "- scipy.stats.kurtosistest https://docs.scipy.org/doc/scipy-0.14.0/reference/generated/scipy.stats.kurtosistest.html\n",
    "- Kurtosis: https://en.wikipedia.org/wiki/Kurtosis"
   ]
  },
  {
   "cell_type": "code",
   "execution_count": 5,
   "metadata": {},
   "outputs": [
    {
     "name": "stdout",
     "output_type": "stream",
     "text": [
      "                            OLS Regression Results                            \n",
      "==============================================================================\n",
      "Dep. Variable:            expenditure   R-squared:                       0.987\n",
      "Model:                            OLS   Adj. R-squared:                  0.986\n",
      "Method:                 Least Squares   F-statistic:                     624.7\n",
      "Date:                Wed, 02 Mar 2022   Prob (F-statistic):           7.02e-09\n",
      "Time:                        22:07:05   Log-Likelihood:                -105.43\n",
      "No. Observations:                  10   AIC:                             214.9\n",
      "Df Residuals:                       8   BIC:                             215.5\n",
      "Df Model:                           1                                         \n",
      "Covariance Type:            nonrobust                                         \n",
      "==============================================================================\n",
      "                 coef    std err          t      P>|t|      [0.025      0.975]\n",
      "------------------------------------------------------------------------------\n",
      "Intercept     1.4e+05   6550.516     21.366      0.000    1.25e+05    1.55e+05\n",
      "income       233.8560      9.356     24.994      0.000     212.280     255.432\n",
      "==============================================================================\n",
      "Omnibus:                        2.090   Durbin-Watson:                   1.074\n",
      "Prob(Omnibus):                  0.352   Jarque-Bera (JB):                1.285\n",
      "Skew:                          -0.825   Prob(JB):                        0.526\n",
      "Kurtosis:                       2.400   Cond. No.                     1.41e+03\n",
      "==============================================================================\n",
      "\n",
      "Notes:\n",
      "[1] Standard Errors assume that the covariance matrix of the errors is correctly specified.\n",
      "[2] The condition number is large, 1.41e+03. This might indicate that there are\n",
      "strong multicollinearity or other numerical problems.\n"
     ]
    },
    {
     "name": "stderr",
     "output_type": "stream",
     "text": [
      "C:\\Python38\\lib\\site-packages\\scipy\\stats\\_stats_py.py:1477: UserWarning: kurtosistest only valid for n>=20 ... continuing anyway, n=10\n",
      "  warnings.warn(\"kurtosistest only valid for n>=20 ... continuing \"\n"
     ]
    }
   ],
   "source": [
    "result = smf.ols('expenditure ~ income', data=df).fit()\n",
    "print(result.summary())"
   ]
  },
  {
   "cell_type": "code",
   "execution_count": 6,
   "metadata": {},
   "outputs": [
    {
     "data": {
      "text/plain": [
       "Intercept    139956.859032\n",
       "income          233.856036\n",
       "dtype: float64"
      ]
     },
     "execution_count": 6,
     "metadata": {},
     "output_type": "execute_result"
    }
   ],
   "source": [
    "result.params"
   ]
  },
  {
   "cell_type": "code",
   "execution_count": 10,
   "metadata": {},
   "outputs": [
    {
     "data": {
      "image/png": "[encoded data removed]",
      "text/plain": [
       "<Figure size 432x288 with 1 Axes>"
      ]
     },
     "metadata": {
      "needs_background": "light"
     },
     "output_type": "display_data"
    }
   ],
   "source": [
    "b0, b1 = result.params\n",
    "plt.plot(df['income'],df['expenditure'], 'o')\n",
    "plt.plot(df['income'], b0+b1*df['income'], c='k')\n",
    "\n",
    "plt.xlabel('income [x 10000YEN]')\n",
    "plt.ylabel('expenditure')\n",
    "\n",
    "plt.tight_layout()\n",
    "if FLAG_fig: plt.savefig('REG_Simple_FamilyIncome1.png')\n",
    "#plt.show()"
   ]
  },
  {
   "cell_type": "markdown",
   "metadata": {},
   "source": [
    "予測"
   ]
  },
  {
   "cell_type": "code",
   "execution_count": 16,
   "metadata": {},
   "outputs": [
    {
     "data": {
      "text/plain": [
       "0    397198.498402\n",
       "1    420584.101981\n",
       "dtype: float64"
      ]
     },
     "execution_count": 16,
     "metadata": {},
     "output_type": "execute_result"
    }
   ],
   "source": [
    "NewData = {'income':[1100,1200]}\n",
    "df_new = pd.DataFrame(NewData)\n",
    "pred = result.predict(df_new)\n",
    "pred"
   ]
  },
  {
   "cell_type": "code",
   "execution_count": 18,
   "metadata": {},
   "outputs": [
    {
     "data": {
      "text/html": [
       "<div>\n",
       "<style scoped>\n",
       "    .dataframe tbody tr th:only-of-type {\n",
       "        vertical-align: middle;\n",
       "    }\n",
       "\n",
       "    .dataframe tbody tr th {\n",
       "        vertical-align: top;\n",
       "    }\n",
       "\n",
       "    .dataframe thead th {\n",
       "        text-align: right;\n",
       "    }\n",
       "</style>\n",
       "<table border=\"1\" class=\"dataframe\">\n",
       "  <thead>\n",
       "    <tr style=\"text-align: right;\">\n",
       "      <th></th>\n",
       "      <th>income</th>\n",
       "    </tr>\n",
       "  </thead>\n",
       "  <tbody>\n",
       "    <tr>\n",
       "      <th>0</th>\n",
       "      <td>1100</td>\n",
       "    </tr>\n",
       "    <tr>\n",
       "      <th>1</th>\n",
       "      <td>1200</td>\n",
       "    </tr>\n",
       "  </tbody>\n",
       "</table>\n",
       "</div>"
      ],
      "text/plain": [
       "   income\n",
       "0    1100\n",
       "1    1200"
      ]
     },
     "execution_count": 18,
     "metadata": {},
     "output_type": "execute_result"
    }
   ],
   "source": [
    "df_new"
   ]
  },
  {
   "cell_type": "markdown",
   "metadata": {},
   "source": [
    "上のグラフを見ると，最低収入と最高収入のデータが最も外れているように見えるので，この2点をはずした回帰分析を再度行う。"
   ]
  },
  {
   "cell_type": "code",
   "execution_count": 19,
   "metadata": {},
   "outputs": [],
   "source": [
    "df1=df.copy()\n",
    "df1.drop(9, inplace=True)\n",
    "df1.drop(0, inplace=True)"
   ]
  },
  {
   "cell_type": "code",
   "execution_count": 20,
   "metadata": {},
   "outputs": [
    {
     "name": "stderr",
     "output_type": "stream",
     "text": [
      "C:\\Python38\\lib\\site-packages\\scipy\\stats\\_stats_py.py:1477: UserWarning: kurtosistest only valid for n>=20 ... continuing anyway, n=8\n",
      "  warnings.warn(\"kurtosistest only valid for n>=20 ... continuing \"\n"
     ]
    },
    {
     "data": {
      "text/html": [
       "<table class=\"simpletable\">\n",
       "<caption>OLS Regression Results</caption>\n",
       "<tr>\n",
       "  <th>Dep. Variable:</th>       <td>expenditure</td>   <th>  R-squared:         </th> <td>   0.998</td>\n",
       "</tr>\n",
       "<tr>\n",
       "  <th>Model:</th>                   <td>OLS</td>       <th>  Adj. R-squared:    </th> <td>   0.998</td>\n",
       "</tr>\n",
       "<tr>\n",
       "  <th>Method:</th>             <td>Least Squares</td>  <th>  F-statistic:       </th> <td>   2889.</td>\n",
       "</tr>\n",
       "<tr>\n",
       "  <th>Date:</th>             <td>Thu, 17 Feb 2022</td> <th>  Prob (F-statistic):</th> <td>2.78e-09</td>\n",
       "</tr>\n",
       "<tr>\n",
       "  <th>Time:</th>                 <td>05:33:30</td>     <th>  Log-Likelihood:    </th> <td> -73.085</td>\n",
       "</tr>\n",
       "<tr>\n",
       "  <th>No. Observations:</th>      <td>     8</td>      <th>  AIC:               </th> <td>   150.2</td>\n",
       "</tr>\n",
       "<tr>\n",
       "  <th>Df Residuals:</th>          <td>     6</td>      <th>  BIC:               </th> <td>   150.3</td>\n",
       "</tr>\n",
       "<tr>\n",
       "  <th>Df Model:</th>              <td>     1</td>      <th>                     </th>     <td> </td>   \n",
       "</tr>\n",
       "<tr>\n",
       "  <th>Covariance Type:</th>      <td>nonrobust</td>    <th>                     </th>     <td> </td>   \n",
       "</tr>\n",
       "</table>\n",
       "<table class=\"simpletable\">\n",
       "<tr>\n",
       "      <td></td>         <th>coef</th>     <th>std err</th>      <th>t</th>      <th>P>|t|</th>  <th>[0.025</th>    <th>0.975]</th>  \n",
       "</tr>\n",
       "<tr>\n",
       "  <th>Intercept</th> <td> 1.314e+05</td> <td> 2784.282</td> <td>   47.195</td> <td> 0.000</td> <td> 1.25e+05</td> <td> 1.38e+05</td>\n",
       "</tr>\n",
       "<tr>\n",
       "  <th>income</th>    <td>  256.6572</td> <td>    4.775</td> <td>   53.754</td> <td> 0.000</td> <td>  244.974</td> <td>  268.340</td>\n",
       "</tr>\n",
       "</table>\n",
       "<table class=\"simpletable\">\n",
       "<tr>\n",
       "  <th>Omnibus:</th>       <td> 3.508</td> <th>  Durbin-Watson:     </th> <td>   1.490</td>\n",
       "</tr>\n",
       "<tr>\n",
       "  <th>Prob(Omnibus):</th> <td> 0.173</td> <th>  Jarque-Bera (JB):  </th> <td>   1.091</td>\n",
       "</tr>\n",
       "<tr>\n",
       "  <th>Skew:</th>          <td>-0.903</td> <th>  Prob(JB):          </th> <td>   0.580</td>\n",
       "</tr>\n",
       "<tr>\n",
       "  <th>Kurtosis:</th>      <td> 3.086</td> <th>  Cond. No.          </th> <td>1.77e+03</td>\n",
       "</tr>\n",
       "</table><br/><br/>Notes:<br/>[1] Standard Errors assume that the covariance matrix of the errors is correctly specified.<br/>[2] The condition number is large, 1.77e+03. This might indicate that there are<br/>strong multicollinearity or other numerical problems."
      ],
      "text/plain": [
       "<class 'statsmodels.iolib.summary.Summary'>\n",
       "\"\"\"\n",
       "                            OLS Regression Results                            \n",
       "==============================================================================\n",
       "Dep. Variable:            expenditure   R-squared:                       0.998\n",
       "Model:                            OLS   Adj. R-squared:                  0.998\n",
       "Method:                 Least Squares   F-statistic:                     2889.\n",
       "Date:                Thu, 17 Feb 2022   Prob (F-statistic):           2.78e-09\n",
       "Time:                        05:33:30   Log-Likelihood:                -73.085\n",
       "No. Observations:                   8   AIC:                             150.2\n",
       "Df Residuals:                       6   BIC:                             150.3\n",
       "Df Model:                           1                                         \n",
       "Covariance Type:            nonrobust                                         \n",
       "==============================================================================\n",
       "                 coef    std err          t      P>|t|      [0.025      0.975]\n",
       "------------------------------------------------------------------------------\n",
       "Intercept   1.314e+05   2784.282     47.195      0.000    1.25e+05    1.38e+05\n",
       "income       256.6572      4.775     53.754      0.000     244.974     268.340\n",
       "==============================================================================\n",
       "Omnibus:                        3.508   Durbin-Watson:                   1.490\n",
       "Prob(Omnibus):                  0.173   Jarque-Bera (JB):                1.091\n",
       "Skew:                          -0.903   Prob(JB):                        0.580\n",
       "Kurtosis:                       3.086   Cond. No.                     1.77e+03\n",
       "==============================================================================\n",
       "\n",
       "Notes:\n",
       "[1] Standard Errors assume that the covariance matrix of the errors is correctly specified.\n",
       "[2] The condition number is large, 1.77e+03. This might indicate that there are\n",
       "strong multicollinearity or other numerical problems.\n",
       "\"\"\""
      ]
     },
     "execution_count": 20,
     "metadata": {},
     "output_type": "execute_result"
    }
   ],
   "source": [
    "result = smf.ols('expenditure ~ income', data=df1).fit()\n",
    "result.summary()"
   ]
  },
  {
   "cell_type": "code",
   "execution_count": 22,
   "metadata": {},
   "outputs": [
    {
     "data": {
      "image/png": "[encoded data removed]",
      "text/plain": [
       "<Figure size 432x288 with 1 Axes>"
      ]
     },
     "metadata": {
      "needs_background": "light"
     },
     "output_type": "display_data"
    }
   ],
   "source": [
    "a, b = result.params\n",
    "plt.plot(df1['income'],df1['expenditure'], 'o', c='k')\n",
    "plt.plot(df1['income'], a+b*df1['income'])\n",
    "\n",
    "plt.xlabel('income [x 10000YEN]')\n",
    "plt.ylabel('expenditure')\n",
    "plt.show()"
   ]
  },
  {
   "cell_type": "markdown",
   "metadata": {},
   "source": [
    "## 多項式回帰分析\n",
    "Rデータセットのcarsのデータを用いる。\n",
    "carsの説明 : 次のサイトからcarsを検索  \n",
    "https://stat.ethz.ch/R-manual/R-＃#devel/library/datasets/html/00Index.html <br>\n",
    "このデータを予め取得して、下記のように置いた。<br>\n",
    "これを読み込み、多項式回帰分析を説明する。<br>\n",
    "\n",
    "本Notebookと類似のREG_Poly_R_cars.ipynbはRデータセットを読込むために、別途、必要なパッケージを予めインストールして、この上で、Rデータセットを読込む。このインストールを省くことを行ったのが本Notebookである。"
   ]
  },
  {
   "cell_type": "code",
   "execution_count": 1,
   "metadata": {},
   "outputs": [],
   "source": [
    "# -*- coding: utf-8 -*-\n",
    "import numpy as np\n",
    "import pandas as pd\n",
    "import matplotlib.pyplot as plt\n",
    "%matplotlib inline\n",
    "\n",
    "import statsmodels.formula.api as smf\n",
    "\n",
    "FLAG_fig = True"
   ]
  },
  {
   "cell_type": "code",
   "execution_count": 2,
   "metadata": {},
   "outputs": [
    {
     "data": {
      "text/html": [
       "<div>\n",
       "<style scoped>\n",
       "    .dataframe tbody tr th:only-of-type {\n",
       "        vertical-align: middle;\n",
       "    }\n",
       "\n",
       "    .dataframe tbody tr th {\n",
       "        vertical-align: top;\n",
       "    }\n",
       "\n",
       "    .dataframe thead th {\n",
       "        text-align: right;\n",
       "    }\n",
       "</style>\n",
       "<table border=\"1\" class=\"dataframe\">\n",
       "  <thead>\n",
       "    <tr style=\"text-align: right;\">\n",
       "      <th></th>\n",
       "      <th>Unnamed: 0</th>\n",
       "      <th>speed</th>\n",
       "      <th>dist</th>\n",
       "    </tr>\n",
       "  </thead>\n",
       "  <tbody>\n",
       "    <tr>\n",
       "      <th>0</th>\n",
       "      <td>0</td>\n",
       "      <td>4.0</td>\n",
       "      <td>2.0</td>\n",
       "    </tr>\n",
       "    <tr>\n",
       "      <th>1</th>\n",
       "      <td>1</td>\n",
       "      <td>4.0</td>\n",
       "      <td>10.0</td>\n",
       "    </tr>\n",
       "    <tr>\n",
       "      <th>2</th>\n",
       "      <td>2</td>\n",
       "      <td>7.0</td>\n",
       "      <td>4.0</td>\n",
       "    </tr>\n",
       "    <tr>\n",
       "      <th>3</th>\n",
       "      <td>3</td>\n",
       "      <td>7.0</td>\n",
       "      <td>22.0</td>\n",
       "    </tr>\n",
       "    <tr>\n",
       "      <th>4</th>\n",
       "      <td>4</td>\n",
       "      <td>8.0</td>\n",
       "      <td>16.0</td>\n",
       "    </tr>\n",
       "  </tbody>\n",
       "</table>\n",
       "</div>"
      ],
      "text/plain": [
       "   Unnamed: 0  speed  dist\n",
       "0           0    4.0   2.0\n",
       "1           1    4.0  10.0\n",
       "2           2    7.0   4.0\n",
       "3           3    7.0  22.0\n",
       "4           4    8.0  16.0"
      ]
     },
     "execution_count": 2,
     "metadata": {},
     "output_type": "execute_result"
    }
   ],
   "source": [
    "url = \"https://sites.google.com/site/datasciencehiro/datasets/cars_R_datasets.csv\"\n",
    "#url = \"datasets/cars_R_datasets.csv\"\n",
    "df = pd.read_csv(url)  # read datasets of cars\n",
    "x = df.speed\n",
    "df.head()"
   ]
  },
  {
   "cell_type": "markdown",
   "metadata": {},
   "source": [
    "#### 1次モデル\n",
    "$y = b_0 + b_1 x$"
   ]
  },
  {
   "cell_type": "code",
   "execution_count": 3,
   "metadata": {},
   "outputs": [
    {
     "name": "stdout",
     "output_type": "stream",
     "text": [
      "                            OLS Regression Results                            \n",
      "==============================================================================\n",
      "Dep. Variable:                   dist   R-squared:                       0.651\n",
      "Model:                            OLS   Adj. R-squared:                  0.644\n",
      "Method:                 Least Squares   F-statistic:                     89.57\n",
      "Date:                Wed, 09 Mar 2022   Prob (F-statistic):           1.49e-12\n",
      "Time:                        21:40:07   Log-Likelihood:                -206.58\n",
      "No. Observations:                  50   AIC:                             417.2\n",
      "Df Residuals:                      48   BIC:                             421.0\n",
      "Df Model:                           1                                         \n",
      "Covariance Type:            nonrobust                                         \n",
      "==============================================================================\n",
      "                 coef    std err          t      P>|t|      [0.025      0.975]\n",
      "------------------------------------------------------------------------------\n",
      "Intercept    -17.5791      6.758     -2.601      0.012     -31.168      -3.990\n",
      "speed          3.9324      0.416      9.464      0.000       3.097       4.768\n",
      "==============================================================================\n",
      "Omnibus:                        8.975   Durbin-Watson:                   1.676\n",
      "Prob(Omnibus):                  0.011   Jarque-Bera (JB):                8.189\n",
      "Skew:                           0.885   Prob(JB):                       0.0167\n",
      "Kurtosis:                       3.893   Cond. No.                         50.7\n",
      "==============================================================================\n",
      "\n",
      "Notes:\n",
      "[1] Standard Errors assume that the covariance matrix of the errors is correctly specified.\n"
     ]
    }
   ],
   "source": [
    "result1 = smf.ols('dist ~ speed', data=df).fit()\n",
    "print(result1.summary())\n",
    "b0, b1 = result1.params"
   ]
  },
  {
   "cell_type": "code",
   "execution_count": 4,
   "metadata": {},
   "outputs": [
    {
     "data": {
      "image/png": "[encoded data removed]",
      "text/plain": [
       "<Figure size 432x288 with 1 Axes>"
      ]
     },
     "metadata": {
      "needs_background": "light"
     },
     "output_type": "display_data"
    }
   ],
   "source": [
    "df.plot(kind='scatter', x='speed', y='dist')\n",
    "plt.plot(x, b0+b1*x)\n",
    "\n",
    "if FLAG_fig: plt.savefig('fig_REG_poy_R_cars_01.png')"
   ]
  },
  {
   "cell_type": "markdown",
   "metadata": {},
   "source": [
    "#### 2次モデル\n",
    "$y = b_0 + b_1 x + b_2 x^2$"
   ]
  },
  {
   "cell_type": "code",
   "execution_count": 5,
   "metadata": {},
   "outputs": [
    {
     "name": "stdout",
     "output_type": "stream",
     "text": [
      "                            OLS Regression Results                            \n",
      "==============================================================================\n",
      "Dep. Variable:                   dist   R-squared:                       0.667\n",
      "Model:                            OLS   Adj. R-squared:                  0.653\n",
      "Method:                 Least Squares   F-statistic:                     47.14\n",
      "Date:                Wed, 09 Mar 2022   Prob (F-statistic):           5.85e-12\n",
      "Time:                        21:41:13   Log-Likelihood:                -205.39\n",
      "No. Observations:                  50   AIC:                             416.8\n",
      "Df Residuals:                      47   BIC:                             422.5\n",
      "Df Model:                           2                                         \n",
      "Covariance Type:            nonrobust                                         \n",
      "======================================================================================\n",
      "                         coef    std err          t      P>|t|      [0.025      0.975]\n",
      "--------------------------------------------------------------------------------------\n",
      "Intercept              2.4701     14.817      0.167      0.868     -27.338      32.278\n",
      "np.power(speed, 2)     0.1000      0.066      1.515      0.136      -0.033       0.233\n",
      "speed                  0.9133      2.034      0.449      0.656      -3.179       5.006\n",
      "==============================================================================\n",
      "Omnibus:                       11.173   Durbin-Watson:                   1.762\n",
      "Prob(Omnibus):                  0.004   Jarque-Bera (JB):               11.061\n",
      "Skew:                           0.991   Prob(JB):                      0.00396\n",
      "Kurtosis:                       4.173   Cond. No.                     2.16e+03\n",
      "==============================================================================\n",
      "\n",
      "Notes:\n",
      "[1] Standard Errors assume that the covariance matrix of the errors is correctly specified.\n",
      "[2] The condition number is large, 2.16e+03. This might indicate that there are\n",
      "strong multicollinearity or other numerical problems.\n"
     ]
    }
   ],
   "source": [
    "result2 = smf.ols('dist ~ np.power(speed,2) + speed', data=df).fit()\n",
    "print(result2.summary())\n",
    "b0, b2, b1 = result2.params"
   ]
  },
  {
   "cell_type": "code",
   "execution_count": 6,
   "metadata": {},
   "outputs": [
    {
     "data": {
      "image/png": "[encoded data removed]",
      "text/plain": [
       "<Figure size 432x288 with 1 Axes>"
      ]
     },
     "metadata": {
      "needs_background": "light"
     },
     "output_type": "display_data"
    }
   ],
   "source": [
    "df.plot(kind='scatter', x='speed', y='dist')\n",
    "plt.plot(x, b0+b1*x+b2*(x**2))\n",
    "\n",
    "if FLAG_fig: plt.savefig('fig_REG_poy_R_cars_02.png')"
   ]
  },
  {
   "cell_type": "markdown",
   "metadata": {},
   "source": [
    "#### 3次モデル\n",
    "$y = b_0 + b_1  + b_2 x^2 + b_3 x^3$"
   ]
  },
  {
   "cell_type": "code",
   "execution_count": 7,
   "metadata": {},
   "outputs": [
    {
     "name": "stdout",
     "output_type": "stream",
     "text": [
      "                            OLS Regression Results                            \n",
      "==============================================================================\n",
      "Dep. Variable:                   dist   R-squared:                       0.673\n",
      "Model:                            OLS   Adj. R-squared:                  0.652\n",
      "Method:                 Least Squares   F-statistic:                     31.58\n",
      "Date:                Wed, 09 Mar 2022   Prob (F-statistic):           3.07e-11\n",
      "Time:                        21:42:36   Log-Likelihood:                -204.94\n",
      "No. Observations:                  50   AIC:                             417.9\n",
      "Df Residuals:                      46   BIC:                             425.5\n",
      "Df Model:                           3                                         \n",
      "Covariance Type:            nonrobust                                         \n",
      "======================================================================================\n",
      "                         coef    std err          t      P>|t|      [0.025      0.975]\n",
      "--------------------------------------------------------------------------------------\n",
      "Intercept            -19.5050     28.405     -0.687      0.496     -76.682      37.672\n",
      "np.power(speed, 3)     0.0103      0.011      0.907      0.369      -0.012       0.033\n",
      "np.power(speed, 2)    -0.3497      0.500     -0.699      0.488      -1.356       0.657\n",
      "speed                  6.8011      6.801      1.000      0.323      -6.889      20.491\n",
      "==============================================================================\n",
      "Omnibus:                       11.647   Durbin-Watson:                   1.813\n",
      "Prob(Omnibus):                  0.003   Jarque-Bera (JB):               11.650\n",
      "Skew:                           1.037   Prob(JB):                      0.00295\n",
      "Kurtosis:                       4.136   Cond. No.                     8.75e+04\n",
      "==============================================================================\n",
      "\n",
      "Notes:\n",
      "[1] Standard Errors assume that the covariance matrix of the errors is correctly specified.\n",
      "[2] The condition number is large, 8.75e+04. This might indicate that there are\n",
      "strong multicollinearity or other numerical problems.\n"
     ]
    }
   ],
   "source": [
    "result3 = smf.ols('dist ~ np.power(speed,3) + np.power(speed,2) + speed', data=df).fit()\n",
    "print(result3.summary())\n",
    "b0, b3, b2, b1 = result3.params"
   ]
  },
  {
   "cell_type": "code",
   "execution_count": 8,
   "metadata": {},
   "outputs": [
    {
     "data": {
      "image/png": "[encoded data removed]",
      "text/plain": [
       "<Figure size 432x288 with 1 Axes>"
      ]
     },
     "metadata": {
      "needs_background": "light"
     },
     "output_type": "display_data"
    }
   ],
   "source": [
    "df.plot(kind='scatter', x='speed', y='dist')\n",
    "plt.plot(x, b0+b1*x+b2*(x**2) + b3*(x**3))\n",
    "\n",
    "if FLAG_fig: plt.savefig('fig_REG_poy_R_cars_03.png')"
   ]
  },
  {
   "cell_type": "markdown",
   "metadata": {},
   "source": [
    "## nupmy.polyfit（）を用いたカーブフィッティングの例"
   ]
  },
  {
   "cell_type": "code",
   "execution_count": 9,
   "metadata": {},
   "outputs": [
    {
     "name": "stdout",
     "output_type": "stream",
     "text": [
      "[0.0999593  0.91328761 2.47013779]\n",
      "         2\n",
      "0.09996 x + 0.9133 x + 2.47\n"
     ]
    },
    {
     "data": {
      "text/plain": [
       "Text(0.5, 1.0, 'degree = 2')"
      ]
     },
     "execution_count": 9,
     "metadata": {},
     "output_type": "execute_result"
    },
    {
     "data": {
      "image/png": "[encoded data removed]",
      "text/plain": [
       "<Figure size 432x288 with 1 Axes>"
      ]
     },
     "metadata": {
      "needs_background": "light"
     },
     "output_type": "display_data"
    }
   ],
   "source": [
    "x = df.speed\n",
    "y = df.dist\n",
    "degree = 2\n",
    "fit = np.polyfit(x, y, degree)\n",
    "print(fit)\n",
    "est = np.poly1d(fit)\n",
    "print(est)\n",
    "plt.scatter(x,y)\n",
    "plt.plot(x,est(x))\n",
    "plt.title('degree = %d' % degree)"
   ]
  },
  {
   "cell_type": "code",
   "execution_count": 10,
   "metadata": {},
   "outputs": [
    {
     "name": "stdout",
     "output_type": "stream",
     "text": [
      "[ 1.02520479e-02 -3.49657814e-01  6.80110597e+00 -1.95050491e+01]\n",
      "         3          2\n",
      "0.01025 x - 0.3497 x + 6.801 x - 19.51\n"
     ]
    },
    {
     "data": {
      "text/plain": [
       "Text(0.5, 1.0, 'degree = 3')"
      ]
     },
     "execution_count": 10,
     "metadata": {},
     "output_type": "execute_result"
    },
    {
     "data": {
      "image/png": "[encoded data removed]",
      "text/plain": [
       "<Figure size 432x288 with 1 Axes>"
      ]
     },
     "metadata": {
      "needs_background": "light"
     },
     "output_type": "display_data"
    }
   ],
   "source": [
    "degree = 3\n",
    "fit = np.polyfit(x, y, degree)\n",
    "print(fit)\n",
    "est = np.poly1d(fit)\n",
    "print(est)\n",
    "plt.scatter(x,y)\n",
    "plt.plot(x,est(x))\n",
    "plt.title('degree = %d' % degree)"
   ]
  },
  {
   "cell_type": "markdown",
   "metadata": {},
   "source": [
    "overfittingの例"
   ]
  },
  {
   "cell_type": "code",
   "execution_count": 11,
   "metadata": {},
   "outputs": [
    {
     "name": "stdout",
     "output_type": "stream",
     "text": [
      "[-1.20583509e-06  1.58844338e-04 -9.04728719e-03  2.91745289e-01\n",
      " -5.85367394e+00  7.55386732e+01 -6.24503022e+02  3.17458505e+03\n",
      " -8.94788381e+03  1.05717941e+04]\n",
      "            9             8            7          6         5         4\n",
      "-1.206e-06 x + 0.0001588 x - 0.009047 x + 0.2917 x - 5.854 x + 75.54 x\n",
      "          3        2\n",
      " - 624.5 x + 3175 x - 8948 x + 1.057e+04\n"
     ]
    },
    {
     "data": {
      "text/plain": [
       "Text(0.5, 1.0, 'degree = 9')"
      ]
     },
     "execution_count": 11,
     "metadata": {},
     "output_type": "execute_result"
    },
    {
     "data": {
      "image/png": "[encoded data removed]",
      "text/plain": [
       "<Figure size 432x288 with 1 Axes>"
      ]
     },
     "metadata": {
      "needs_background": "light"
     },
     "output_type": "display_data"
    }
   ],
   "source": [
    "degree = 9\n",
    "fit = np.polyfit(x, y, degree)\n",
    "print(fit)\n",
    "est = np.poly1d(fit)\n",
    "print(est)\n",
    "plt.scatter(x,y)\n",
    "plt.plot(x,est(x))\n",
    "plt.title('degree = %d' % degree)"
   ]
  },
  {
   "cell_type": "markdown",
   "metadata": {},
   "source": [
    "## 赤ワインの品質を回帰分析する\n",
    "データセットの説明　Wine Quality Data Set　（ UCI　Machine Learning Repository） http://archive.ics.uci.edu/ml/datasets/Wine+Quality\n",
    "->DataFolder, \"winequality-red.csv\"  \n",
    "このラベル名の空白をアンダーラインに変換して，これを“winequality-red_mod.csv”というファイル名で下記のクラウドにアップした"
   ]
  },
  {
   "cell_type": "code",
   "execution_count": 12,
   "metadata": {},
   "outputs": [],
   "source": [
    "# -*- coding: utf-8 -*-\n",
    "import numpy as np\n",
    "import pandas as pd\n",
    "\n",
    "import statsmodels.formula.api as smf\n",
    "\n",
    "import matplotlib.pyplot as plt\n",
    "%matplotlib inline"
   ]
  },
  {
   "cell_type": "code",
   "execution_count": 13,
   "metadata": {},
   "outputs": [
    {
     "data": {
      "text/html": [
       "<div>\n",
       "<style scoped>\n",
       "    .dataframe tbody tr th:only-of-type {\n",
       "        vertical-align: middle;\n",
       "    }\n",
       "\n",
       "    .dataframe tbody tr th {\n",
       "        vertical-align: top;\n",
       "    }\n",
       "\n",
       "    .dataframe thead th {\n",
       "        text-align: right;\n",
       "    }\n",
       "</style>\n",
       "<table border=\"1\" class=\"dataframe\">\n",
       "  <thead>\n",
       "    <tr style=\"text-align: right;\">\n",
       "      <th></th>\n",
       "      <th>fixed_acidity</th>\n",
       "      <th>volatile_acidity</th>\n",
       "      <th>citric_acid</th>\n",
       "      <th>residual_sugar</th>\n",
       "      <th>chlorides</th>\n",
       "      <th>free_sulfur</th>\n",
       "      <th>total_sulfur_dioxide</th>\n",
       "      <th>density</th>\n",
       "      <th>pH</th>\n",
       "      <th>sulphates</th>\n",
       "      <th>alcohol</th>\n",
       "      <th>quality</th>\n",
       "    </tr>\n",
       "  </thead>\n",
       "  <tbody>\n",
       "    <tr>\n",
       "      <th>0</th>\n",
       "      <td>7.4</td>\n",
       "      <td>0.70</td>\n",
       "      <td>0.00</td>\n",
       "      <td>1.9</td>\n",
       "      <td>0.076</td>\n",
       "      <td>11.0</td>\n",
       "      <td>34.0</td>\n",
       "      <td>0.9978</td>\n",
       "      <td>3.51</td>\n",
       "      <td>0.56</td>\n",
       "      <td>9.4</td>\n",
       "      <td>5</td>\n",
       "    </tr>\n",
       "    <tr>\n",
       "      <th>1</th>\n",
       "      <td>7.8</td>\n",
       "      <td>0.88</td>\n",
       "      <td>0.00</td>\n",
       "      <td>2.6</td>\n",
       "      <td>0.098</td>\n",
       "      <td>25.0</td>\n",
       "      <td>67.0</td>\n",
       "      <td>0.9968</td>\n",
       "      <td>3.20</td>\n",
       "      <td>0.68</td>\n",
       "      <td>9.8</td>\n",
       "      <td>5</td>\n",
       "    </tr>\n",
       "    <tr>\n",
       "      <th>2</th>\n",
       "      <td>7.8</td>\n",
       "      <td>0.76</td>\n",
       "      <td>0.04</td>\n",
       "      <td>2.3</td>\n",
       "      <td>0.092</td>\n",
       "      <td>15.0</td>\n",
       "      <td>54.0</td>\n",
       "      <td>0.9970</td>\n",
       "      <td>3.26</td>\n",
       "      <td>0.65</td>\n",
       "      <td>9.8</td>\n",
       "      <td>5</td>\n",
       "    </tr>\n",
       "    <tr>\n",
       "      <th>3</th>\n",
       "      <td>11.2</td>\n",
       "      <td>0.28</td>\n",
       "      <td>0.56</td>\n",
       "      <td>1.9</td>\n",
       "      <td>0.075</td>\n",
       "      <td>17.0</td>\n",
       "      <td>60.0</td>\n",
       "      <td>0.9980</td>\n",
       "      <td>3.16</td>\n",
       "      <td>0.58</td>\n",
       "      <td>9.8</td>\n",
       "      <td>6</td>\n",
       "    </tr>\n",
       "    <tr>\n",
       "      <th>4</th>\n",
       "      <td>7.4</td>\n",
       "      <td>0.70</td>\n",
       "      <td>0.00</td>\n",
       "      <td>1.9</td>\n",
       "      <td>0.076</td>\n",
       "      <td>11.0</td>\n",
       "      <td>34.0</td>\n",
       "      <td>0.9978</td>\n",
       "      <td>3.51</td>\n",
       "      <td>0.56</td>\n",
       "      <td>9.4</td>\n",
       "      <td>5</td>\n",
       "    </tr>\n",
       "  </tbody>\n",
       "</table>\n",
       "</div>"
      ],
      "text/plain": [
       "   fixed_acidity  volatile_acidity  citric_acid  residual_sugar  chlorides  \\\n",
       "0            7.4              0.70         0.00             1.9      0.076   \n",
       "1            7.8              0.88         0.00             2.6      0.098   \n",
       "2            7.8              0.76         0.04             2.3      0.092   \n",
       "3           11.2              0.28         0.56             1.9      0.075   \n",
       "4            7.4              0.70         0.00             1.9      0.076   \n",
       "\n",
       "   free_sulfur  total_sulfur_dioxide  density    pH  sulphates  alcohol  \\\n",
       "0         11.0                  34.0   0.9978  3.51       0.56      9.4   \n",
       "1         25.0                  67.0   0.9968  3.20       0.68      9.8   \n",
       "2         15.0                  54.0   0.9970  3.26       0.65      9.8   \n",
       "3         17.0                  60.0   0.9980  3.16       0.58      9.8   \n",
       "4         11.0                  34.0   0.9978  3.51       0.56      9.4   \n",
       "\n",
       "   quality  \n",
       "0        5  \n",
       "1        5  \n",
       "2        5  \n",
       "3        6  \n",
       "4        5  "
      ]
     },
     "execution_count": 13,
     "metadata": {},
     "output_type": "execute_result"
    }
   ],
   "source": [
    "url='https://sites.google.com/site/datasciencehiro/datasets/winequality-red_mod.csv'\n",
    "#url='datasets/winequality-red_mod.csv'\n",
    "wine_set = pd.read_csv(url, sep=\";\")\n",
    "wine_set.head()"
   ]
  },
  {
   "cell_type": "code",
   "execution_count": 14,
   "metadata": {},
   "outputs": [
    {
     "data": {
      "text/html": [
       "<table class=\"simpletable\">\n",
       "<caption>OLS Regression Results</caption>\n",
       "<tr>\n",
       "  <th>Dep. Variable:</th>         <td>quality</td>     <th>  R-squared:         </th> <td>   0.351</td> \n",
       "</tr>\n",
       "<tr>\n",
       "  <th>Model:</th>                   <td>OLS</td>       <th>  Adj. R-squared:    </th> <td>   0.349</td> \n",
       "</tr>\n",
       "<tr>\n",
       "  <th>Method:</th>             <td>Least Squares</td>  <th>  F-statistic:       </th> <td>   172.7</td> \n",
       "</tr>\n",
       "<tr>\n",
       "  <th>Date:</th>             <td>Wed, 09 Mar 2022</td> <th>  Prob (F-statistic):</th> <td>5.48e-147</td>\n",
       "</tr>\n",
       "<tr>\n",
       "  <th>Time:</th>                 <td>22:02:40</td>     <th>  Log-Likelihood:    </th> <td> -1580.4</td> \n",
       "</tr>\n",
       "<tr>\n",
       "  <th>No. Observations:</th>      <td>  1599</td>      <th>  AIC:               </th> <td>   3173.</td> \n",
       "</tr>\n",
       "<tr>\n",
       "  <th>Df Residuals:</th>          <td>  1593</td>      <th>  BIC:               </th> <td>   3205.</td> \n",
       "</tr>\n",
       "<tr>\n",
       "  <th>Df Model:</th>              <td>     5</td>      <th>                     </th>     <td> </td>    \n",
       "</tr>\n",
       "<tr>\n",
       "  <th>Covariance Type:</th>      <td>nonrobust</td>    <th>                     </th>     <td> </td>    \n",
       "</tr>\n",
       "</table>\n",
       "<table class=\"simpletable\">\n",
       "<tr>\n",
       "            <td></td>              <th>coef</th>     <th>std err</th>      <th>t</th>      <th>P>|t|</th>  <th>[0.025</th>    <th>0.975]</th>  \n",
       "</tr>\n",
       "<tr>\n",
       "  <th>Intercept</th>            <td>    3.0049</td> <td>    0.204</td> <td>   14.747</td> <td> 0.000</td> <td>    2.605</td> <td>    3.405</td>\n",
       "</tr>\n",
       "<tr>\n",
       "  <th>volatile_acidity</th>     <td>   -1.1419</td> <td>    0.097</td> <td>  -11.779</td> <td> 0.000</td> <td>   -1.332</td> <td>   -0.952</td>\n",
       "</tr>\n",
       "<tr>\n",
       "  <th>chlorides</th>            <td>   -1.7048</td> <td>    0.392</td> <td>   -4.352</td> <td> 0.000</td> <td>   -2.473</td> <td>   -0.937</td>\n",
       "</tr>\n",
       "<tr>\n",
       "  <th>total_sulfur_dioxide</th> <td>   -0.0023</td> <td>    0.001</td> <td>   -4.544</td> <td> 0.000</td> <td>   -0.003</td> <td>   -0.001</td>\n",
       "</tr>\n",
       "<tr>\n",
       "  <th>sulphates</th>            <td>    0.9148</td> <td>    0.110</td> <td>    8.296</td> <td> 0.000</td> <td>    0.699</td> <td>    1.131</td>\n",
       "</tr>\n",
       "<tr>\n",
       "  <th>alcohol</th>              <td>    0.2771</td> <td>    0.016</td> <td>   16.811</td> <td> 0.000</td> <td>    0.245</td> <td>    0.309</td>\n",
       "</tr>\n",
       "</table>\n",
       "<table class=\"simpletable\">\n",
       "<tr>\n",
       "  <th>Omnibus:</th>       <td>25.233</td> <th>  Durbin-Watson:     </th> <td>   1.746</td>\n",
       "</tr>\n",
       "<tr>\n",
       "  <th>Prob(Omnibus):</th> <td> 0.000</td> <th>  Jarque-Bera (JB):  </th> <td>  37.739</td>\n",
       "</tr>\n",
       "<tr>\n",
       "  <th>Skew:</th>          <td>-0.153</td> <th>  Prob(JB):          </th> <td>6.38e-09</td>\n",
       "</tr>\n",
       "<tr>\n",
       "  <th>Kurtosis:</th>      <td> 3.688</td> <th>  Cond. No.          </th> <td>1.40e+03</td>\n",
       "</tr>\n",
       "</table><br/><br/>Notes:<br/>[1] Standard Errors assume that the covariance matrix of the errors is correctly specified.<br/>[2] The condition number is large, 1.4e+03. This might indicate that there are<br/>strong multicollinearity or other numerical problems."
      ],
      "text/plain": [
       "<class 'statsmodels.iolib.summary.Summary'>\n",
       "\"\"\"\n",
       "                            OLS Regression Results                            \n",
       "==============================================================================\n",
       "Dep. Variable:                quality   R-squared:                       0.351\n",
       "Model:                            OLS   Adj. R-squared:                  0.349\n",
       "Method:                 Least Squares   F-statistic:                     172.7\n",
       "Date:                Wed, 09 Mar 2022   Prob (F-statistic):          5.48e-147\n",
       "Time:                        22:02:40   Log-Likelihood:                -1580.4\n",
       "No. Observations:                1599   AIC:                             3173.\n",
       "Df Residuals:                    1593   BIC:                             3205.\n",
       "Df Model:                           5                                         \n",
       "Covariance Type:            nonrobust                                         \n",
       "========================================================================================\n",
       "                           coef    std err          t      P>|t|      [0.025      0.975]\n",
       "----------------------------------------------------------------------------------------\n",
       "Intercept                3.0049      0.204     14.747      0.000       2.605       3.405\n",
       "volatile_acidity        -1.1419      0.097    -11.779      0.000      -1.332      -0.952\n",
       "chlorides               -1.7048      0.392     -4.352      0.000      -2.473      -0.937\n",
       "total_sulfur_dioxide    -0.0023      0.001     -4.544      0.000      -0.003      -0.001\n",
       "sulphates                0.9148      0.110      8.296      0.000       0.699       1.131\n",
       "alcohol                  0.2771      0.016     16.811      0.000       0.245       0.309\n",
       "==============================================================================\n",
       "Omnibus:                       25.233   Durbin-Watson:                   1.746\n",
       "Prob(Omnibus):                  0.000   Jarque-Bera (JB):               37.739\n",
       "Skew:                          -0.153   Prob(JB):                     6.38e-09\n",
       "Kurtosis:                       3.688   Cond. No.                     1.40e+03\n",
       "==============================================================================\n",
       "\n",
       "Notes:\n",
       "[1] Standard Errors assume that the covariance matrix of the errors is correctly specified.\n",
       "[2] The condition number is large, 1.4e+03. This might indicate that there are\n",
       "strong multicollinearity or other numerical problems.\n",
       "\"\"\""
      ]
     },
     "execution_count": 14,
     "metadata": {},
     "output_type": "execute_result"
    }
   ],
   "source": [
    "ols_model = \"quality ~  volatile_acidity + chlorides + total_sulfur_dioxide + sulphates + alcohol\"\n",
    "results = smf.ols(formula = ols_model, data=wine_set).fit()\n",
    "results.summary()"
   ]
  },
  {
   "cell_type": "code",
   "execution_count": null,
   "metadata": {},
   "outputs": [],
   "source": []
  }
 ],
 "metadata": {
  "interpreter": {
   "hash": "2db524e06e9f5f4ffedc911c917cb75e12dbc923643829bf417064a77eb14d37"
  },
  "kernelspec": {
   "display_name": "Environment (conda_caret2test)",
   "language": "python",
   "name": "python3"
  },
  "language_info": {
   "codemirror_mode": {
    "name": "ipython",
    "version": 3
   },
   "file_extension": ".py",
   "mimetype": "text/x-python",
   "name": "python",
   "nbconvert_exporter": "python",
   "pygments_lexer": "ipython3",
   "version": "3.8.3"
  },
  "orig_nbformat": 4
 },
 "nbformat": 4,
 "nbformat_minor": 2
}
